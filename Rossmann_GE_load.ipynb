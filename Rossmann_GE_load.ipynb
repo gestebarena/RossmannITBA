{
  "nbformat": 4,
  "nbformat_minor": 0,
  "metadata": {
    "kernelspec": {
      "display_name": "Python 3",
      "language": "python",
      "name": "python3"
    },
    "language_info": {
      "codemirror_mode": {
        "name": "ipython",
        "version": 3
      },
      "file_extension": ".py",
      "mimetype": "text/x-python",
      "name": "python",
      "nbconvert_exporter": "python",
      "pygments_lexer": "ipython3",
      "version": "3.6.10"
    },
    "colab": {
      "name": "Rossmann-GE-load.ipynb",
      "provenance": [],
      "toc_visible": true
    }
  },
  "cells": [
    {
      "cell_type": "code",
      "metadata": {
        "id": "Yvul1QnE7fiP"
      },
      "source": [
        "%matplotlib inline"
      ],
      "execution_count": null,
      "outputs": []
    },
    {
      "cell_type": "code",
      "metadata": {
        "colab": {
          "base_uri": "https://localhost:8080/"
        },
        "id": "OFu_8vua7j9Q",
        "outputId": "eeb33dc0-8cdc-4e4a-bdce-baaf7855a9eb"
      },
      "source": [
        "!pip install isoweek\n",
        "\n",
        "import math, keras, datetime, pandas as pd, numpy as np, keras.backend as K\n",
        "import matplotlib.pyplot as plt, xgboost, operator, random, pickle\n",
        "from isoweek import Week"
      ],
      "execution_count": null,
      "outputs": [
        {
          "output_type": "stream",
          "text": [
            "Collecting isoweek\n",
            "  Downloading https://files.pythonhosted.org/packages/c2/d4/fe7e2637975c476734fcbf53776e650a29680194eb0dd21dbdc020ca92de/isoweek-1.3.3-py2.py3-none-any.whl\n",
            "Installing collected packages: isoweek\n",
            "Successfully installed isoweek-1.3.3\n"
          ],
          "name": "stdout"
        }
      ]
    },
    {
      "cell_type": "code",
      "metadata": {
        "colab": {
          "base_uri": "https://localhost:8080/"
        },
        "id": "1VTubGWHva7r",
        "outputId": "c0797b19-9430-4636-a390-87d41309ce72"
      },
      "source": [
        "from google.colab import drive\n",
        "drive.mount('/content/drive')\n",
        "PATH = '/content/drive/MyDrive/Colab Notebooks/kaggle-rossmann/dataset/rossmann/'\n",
        "%cd '/content/drive/MyDrive/Colab Notebooks/kaggle-rossmann'"
      ],
      "execution_count": null,
      "outputs": [
        {
          "output_type": "stream",
          "text": [
            "Mounted at /content/drive\n",
            "/content/drive/MyDrive/Colab Notebooks/kaggle-rossmann\n"
          ],
          "name": "stdout"
        }
      ]
    },
    {
      "cell_type": "code",
      "metadata": {
        "colab": {
          "base_uri": "https://localhost:8080/"
        },
        "id": "GCdHsGXsvC01",
        "outputId": "3778fd58-bb3e-4660-cc84-4f6b15ca1205"
      },
      "source": [
        "import pandas as pd\n",
        "!pip install pandas_summary\n",
        "from pandas_summary import DataFrameSummary"
      ],
      "execution_count": null,
      "outputs": [
        {
          "output_type": "stream",
          "text": [
            "Collecting pandas_summary\n",
            "  Downloading https://files.pythonhosted.org/packages/f5/20/865d4785f86e86f7ad7ebd52fc14810ef59ef13cd959f1363a2615d1c665/pandas_summary-0.0.7-py2.py3-none-any.whl\n",
            "Requirement already satisfied: pandas in /usr/local/lib/python3.7/dist-packages (from pandas_summary) (1.1.5)\n",
            "Requirement already satisfied: numpy in /usr/local/lib/python3.7/dist-packages (from pandas_summary) (1.19.5)\n",
            "Requirement already satisfied: pytz>=2017.2 in /usr/local/lib/python3.7/dist-packages (from pandas->pandas_summary) (2018.9)\n",
            "Requirement already satisfied: python-dateutil>=2.7.3 in /usr/local/lib/python3.7/dist-packages (from pandas->pandas_summary) (2.8.1)\n",
            "Requirement already satisfied: six>=1.5 in /usr/local/lib/python3.7/dist-packages (from python-dateutil>=2.7.3->pandas->pandas_summary) (1.15.0)\n",
            "Installing collected packages: pandas-summary\n",
            "Successfully installed pandas-summary-0.0.7\n"
          ],
          "name": "stdout"
        }
      ]
    },
    {
      "cell_type": "markdown",
      "metadata": {
        "id": "49_6RW2dvC06"
      },
      "source": [
        "# Competencia de Kaggle\n",
        "\n",
        "[ir a Kaggle](https://www.kaggle.com/c/rossmann-store-sales/data)\n",
        "\n",
        "[3er puesto](https://github.com/entron/entity-embedding-rossmann)"
      ]
    },
    {
      "cell_type": "markdown",
      "metadata": {
        "id": "Wb5OV3vnvC07"
      },
      "source": [
        "# Métrica de la competencia"
      ]
    },
    {
      "cell_type": "markdown",
      "metadata": {
        "id": "O6-z-VwwvC07"
      },
      "source": [
        "$$\n",
        "\\textrm{RMSPE} = \\sqrt{\\frac{1}{n} \\sum_{i=1}^{n} \\left(\\frac{\\hat{y}_i - y_i}{y_i}\\right)^2}\n",
        "$$\n",
        "\n",
        "donde:\n",
        "\n",
        "- $y_i$ las ventas de un día particular de un store\n",
        "- $\\hat{y}_i$ ventas estimadas por el modelo\n",
        "- $n$ es el número de predicciones realizadas"
      ]
    },
    {
      "cell_type": "code",
      "metadata": {
        "id": "K381TAKXk3pH"
      },
      "source": [
        ""
      ],
      "execution_count": null,
      "outputs": []
    },
    {
      "cell_type": "markdown",
      "metadata": {
        "id": "Ld-3wTsBvC08"
      },
      "source": [
        "# Importamos dataset"
      ]
    },
    {
      "cell_type": "markdown",
      "metadata": {
        "id": "lAkFR9I5vC08"
      },
      "source": [
        "La competencia permitía agregar datos externos para realizar la predicción"
      ]
    },
    {
      "cell_type": "markdown",
      "metadata": {
        "id": "2au3zZMNvC08"
      },
      "source": [
        "The following tables are available in the datasets:\n",
        "\n",
        "| Archivo      | Descripción| Origen de Datos|\n",
        "|--------------|--------------------------------------------------------------------|--|\n",
        "| train.csv        | training set: información del store día a día, ventas, clientes, si es feriado, etc | Kaggle |\n",
        "| store.csv       | Información general del store, por ejemplo datos del competidor | Kaggle |\n",
        "| store_states.csv | Mapea de store a estado - Dato externo| Externos |\n",
        "| state_names.csv  | Mapea estados a acronimo de estado | Externos |\n",
        "| googletrend.csv  | Tendencias por semana - Dato externo| Externos|\n",
        "| weather.csv      | Condiciones meteorológicas por día | Externos|"
      ]
    },
    {
      "cell_type": "code",
      "metadata": {
        "id": "IpW1UtqTvC09"
      },
      "source": [
        "#table_names = ['train', 'test', 'store', 'store_states', 'state_names', 'googletrend', 'weather']\n",
        "#train, test, store, store_states, state_names, googletrend, weather = [pd.read_csv(PATH + fname+'.csv', \n",
        "#                                                                             low_memory=False) for fname in table_names]"
      ],
      "execution_count": null,
      "outputs": []
    },
    {
      "cell_type": "markdown",
      "metadata": {
        "id": "ZQCu7TeGk-ci"
      },
      "source": [
        "# Data visualization"
      ]
    },
    {
      "cell_type": "code",
      "metadata": {
        "id": "pEi7gGUXvC09"
      },
      "source": [
        "#display(train.head())\n",
        "#display(DataFrameSummary(train).summary())"
      ],
      "execution_count": null,
      "outputs": []
    },
    {
      "cell_type": "code",
      "metadata": {
        "id": "gdod8hI7k63_"
      },
      "source": [
        "#display(test.head())\n",
        "#display(DataFrameSummary(test).summary())"
      ],
      "execution_count": null,
      "outputs": []
    },
    {
      "cell_type": "markdown",
      "metadata": {
        "id": "ZjC1oJs2vC0-"
      },
      "source": [
        "- Mirar counts que todos tienen la misma cantidad\n",
        "- Ninguno tiene missing\n",
        "- Los tipos tambien es interesante observar"
      ]
    },
    {
      "cell_type": "code",
      "metadata": {
        "id": "zU5boD5OvC0-"
      },
      "source": [
        "#train['StateHoliday'].value_counts()"
      ],
      "execution_count": null,
      "outputs": []
    },
    {
      "cell_type": "code",
      "metadata": {
        "id": "EWPBH48MvC0-"
      },
      "source": [
        "#display(store.head())\n",
        "#display(DataFrameSummary(store).summary())"
      ],
      "execution_count": null,
      "outputs": []
    },
    {
      "cell_type": "markdown",
      "metadata": {
        "id": "ro_4bPZFvC0_"
      },
      "source": [
        "Descripción de algunas columnas que quizas no sean tan claras:\n",
        "\n",
        "- `Customers`: La cantidad de clientes por día\n",
        "- `Open`: Indicador si el store estaba abierto o cerrado: 0 = closed, 1 = open\n",
        "- `StateHoliday`: Indica feriado en ese estado. a = public holiday, b = Easter holiday, c = Christmas, 0 = None\n",
        "- `SchoolHoliday`: Inidica si el store fue afectado por el feriado escolar\n",
        "- `StoreType`: Tipos de store: a, b, c, d\n",
        "- `Assortment`: Describe el nivel de surtido de la tienda: a = basic, b = extra, c = extended\n",
        "- `CompetitionDistance`: Distancia en metros al competidor\n",
        "- `CompetitionOpenSince[Month/Year]`: Fecha en que abrío la competencia\n",
        "- `Promo`: Si el store esta corriendo una promoción ese día\n",
        "- `Promo2`: Promo2 is a continuing and consecutive promotion for some stores: 0 = store is not participating, 1 = store is participating\n",
        "- `Promo2Since[Year/Week]`: describes the year and calendar week when the store started participating in Promo2\n",
        "- `PromoInterval`: describes the consecutive intervals Promo2 is started, naming the months the promotion is started anew. E.g. \"Feb,May,Aug,Nov\" means each round starts in February, May, August, November of any given year for that store\n"
      ]
    },
    {
      "cell_type": "code",
      "metadata": {
        "id": "nboAOvBAvC0_"
      },
      "source": [
        "#store['StoreType'].value_counts()"
      ],
      "execution_count": null,
      "outputs": []
    },
    {
      "cell_type": "code",
      "metadata": {
        "id": "WhuQKpMNvC0_"
      },
      "source": [
        "#store['PromoInterval'].value_counts()"
      ],
      "execution_count": null,
      "outputs": []
    },
    {
      "cell_type": "code",
      "metadata": {
        "id": "HrDq_7K3vC0_"
      },
      "source": [
        "#display(store_states.head(20))\n",
        "#display(DataFrameSummary(store_states).summary())"
      ],
      "execution_count": null,
      "outputs": []
    },
    {
      "cell_type": "code",
      "metadata": {
        "id": "CEO9DQF2vC1A"
      },
      "source": [
        "#display(state_names.head(20))\n",
        "#display(DataFrameSummary(state_names).summary())"
      ],
      "execution_count": null,
      "outputs": []
    },
    {
      "cell_type": "code",
      "metadata": {
        "id": "3cTpdj3GvC1A"
      },
      "source": [
        "#display(googletrend)\n",
        "#display(DataFrameSummary(googletrend).summary())"
      ],
      "execution_count": null,
      "outputs": []
    },
    {
      "cell_type": "code",
      "metadata": {
        "id": "5344c4MJvC1A"
      },
      "source": [
        "#display(weather)\n",
        "#display(DataFrameSummary(weather[['Max_TemperatureC', 'Mean_TemperatureC', 'Min_TemperatureC',\n",
        "#   'Max_Humidity', 'Mean_Humidity', 'Min_Humidity', 'Max_Wind_SpeedKm_h', \n",
        "#   'Mean_Wind_SpeedKm_h', 'CloudCover', 'Precipitationmm']]).summary())"
      ],
      "execution_count": null,
      "outputs": []
    },
    {
      "cell_type": "code",
      "metadata": {
        "id": "xNpGX0FivC1A"
      },
      "source": [
        "#weather.columns"
      ],
      "execution_count": null,
      "outputs": []
    },
    {
      "cell_type": "markdown",
      "metadata": {
        "id": "DWnUYy_8lS_6"
      },
      "source": [
        "# Data Pre-processing"
      ]
    },
    {
      "cell_type": "code",
      "metadata": {
        "id": "1_071VZ-vC1B"
      },
      "source": [
        "#train.StateHoliday = train.StateHoliday != '0' # para convertir a booleana"
      ],
      "execution_count": null,
      "outputs": []
    },
    {
      "cell_type": "code",
      "metadata": {
        "id": "gaDyOw_tlnhV"
      },
      "source": [
        "#test.StateHoliday = test.StateHoliday != '0' # para convertir a booleana"
      ],
      "execution_count": null,
      "outputs": []
    },
    {
      "cell_type": "code",
      "metadata": {
        "id": "Fpgj8lt4ltk8"
      },
      "source": [
        "#def join_df(left, right, left_on, right_on=None):\n",
        "#    if right_on is None: right_on = left_on\n",
        "#    return left.merge(right, how='left', left_on=left_on, right_on=right_on, \n",
        "#                      suffixes=(\"\", \"_y\"))"
      ],
      "execution_count": null,
      "outputs": []
    },
    {
      "cell_type": "code",
      "metadata": {
        "id": "9e7jxKTLmgWX"
      },
      "source": [
        "#weather = join_df(weather, state_names, \"file\", \"StateName\") # le pego a weather el codigo de los estados"
      ],
      "execution_count": null,
      "outputs": []
    },
    {
      "cell_type": "code",
      "metadata": {
        "id": "vFsiwLWuuU2m"
      },
      "source": [
        "#googletrend['Date'] = googletrend.week.str.split(' - ', expand=True)[0]\n",
        "#googletrend['State'] = googletrend.file.str.split('_', expand=True)[2]\n",
        "#googletrend.loc[googletrend.State == 'NI', \"State\"] = 'HB,NI'"
      ],
      "execution_count": null,
      "outputs": []
    },
    {
      "cell_type": "code",
      "metadata": {
        "id": "9wYHU7e8wMWn"
      },
      "source": [
        "#def add_datepart(df):\n",
        "#  df.Date = pd.to_datetime(df.Date)\n",
        "#  df['Year'] = df.Date.dt.year\n",
        "#  df['Month'] = df.Date.dt.month\n",
        "#  df['Week'] = df.Date.dt.isocalendar().week\n",
        "#  df['Day'] = df.Date.dt.day"
      ],
      "execution_count": null,
      "outputs": []
    },
    {
      "cell_type": "code",
      "metadata": {
        "id": "il84VN3ixXUS"
      },
      "source": [
        "#add_datepart(weather)\n",
        "#add_datepart(googletrend)\n",
        "#add_datepart(train)\n",
        "#add_datepart(test)"
      ],
      "execution_count": null,
      "outputs": []
    },
    {
      "cell_type": "code",
      "metadata": {
        "id": "n6PF_cSM11CA"
      },
      "source": [
        "#trend_de = googletrend[googletrend.file == 'Rossmann_DE']"
      ],
      "execution_count": null,
      "outputs": []
    },
    {
      "cell_type": "code",
      "metadata": {
        "id": "uFF-tBgpzual"
      },
      "source": [
        "#store = join_df(store, store_states, \"Store\")\n",
        "#len(store[store.State.isnull()])"
      ],
      "execution_count": null,
      "outputs": []
    },
    {
      "cell_type": "code",
      "metadata": {
        "id": "H_JoY5hs0OPQ"
      },
      "source": [
        "#joined = join_df(train, store, \"Store\")\n",
        "#len(joined[joined.StoreType.isnull()])"
      ],
      "execution_count": null,
      "outputs": []
    },
    {
      "cell_type": "code",
      "metadata": {
        "id": "WbBmUtL30frG"
      },
      "source": [
        "#joined = join_df(joined, googletrend, [\"State\", \"Year\", \"Week\"])\n",
        "#len(joined[joined.trend.isnull()])"
      ],
      "execution_count": null,
      "outputs": []
    },
    {
      "cell_type": "code",
      "metadata": {
        "id": "zinX96ih0zFk"
      },
      "source": [
        "#joined = joined.merge(trend_de, 'left', ['Year', 'Week'], suffixes=('', '_DE'))\n",
        "#len(joined[joined.trend_DE.isnull()])"
      ],
      "execution_count": null,
      "outputs": []
    },
    {
      "cell_type": "code",
      "metadata": {
        "id": "L9IMxR2E2gQh"
      },
      "source": [
        "#joined = join_df(joined, weather, ['State', 'Date'])\n",
        "#len(joined[joined.Mean_TemperatureC.isnull()])"
      ],
      "execution_count": null,
      "outputs": []
    },
    {
      "cell_type": "code",
      "metadata": {
        "id": "AcTy3sy72wXQ"
      },
      "source": [
        "#joined_test = test.merge(store, how='left', left_on='Store', right_index=True)\n",
        "#len(joined_test[joined_test.StoreType.isnull()])"
      ],
      "execution_count": null,
      "outputs": []
    },
    {
      "cell_type": "code",
      "metadata": {
        "id": "usDX_EiH3WyO"
      },
      "source": [
        "#joined.CompetitionOpenSinceYear = joined.CompetitionOpenSinceYear.fillna(1900).astype(np.int32)\n",
        "#joined.CompetitionOpenSinceMonth = joined.CompetitionOpenSinceMonth.fillna(1).astype(np.int32)\n",
        "#joined.Promo2SinceYear = joined.Promo2SinceYear.fillna(1900).astype(np.int32)\n",
        "#joined.Promo2SinceWeek = joined.Promo2SinceWeek.fillna(1).astype(np.int32)"
      ],
      "execution_count": null,
      "outputs": []
    },
    {
      "cell_type": "code",
      "metadata": {
        "id": "iKfJajma4KVj"
      },
      "source": [
        "#joined[\"CompetitionOpenSince\"] = pd.to_datetime(joined.apply(lambda x: datetime.datetime(x.CompetitionOpenSinceYear, \n",
        "#          x.CompetitionOpenSinceMonth, 15), axis=1))\n",
        "#joined[\"CompetitionDaysOpen\"] = joined.Date.subtract(joined[\"CompetitionOpenSince\"]).dt.days"
      ],
      "execution_count": null,
      "outputs": []
    },
    {
      "cell_type": "code",
      "metadata": {
        "id": "q8zIuT9I7NkC"
      },
      "source": [
        "#joined.loc[joined.CompetitionDaysOpen < 0, 'CompetitionDaysOpen'] = 0\n",
        "#joined.loc[joined.CompetitionOpenSinceYear < 1990, 'CompetitionDaysOpen'] = 0"
      ],
      "execution_count": null,
      "outputs": []
    },
    {
      "cell_type": "code",
      "metadata": {
        "id": "jspO9vbT8a96"
      },
      "source": [
        "#joined[\"CompetitionMonthsOpen\"] = joined[\"CompetitionDaysOpen\"] // 30\n",
        "#joined.loc[joined.CompetitionMonthsOpen > 24, \"CompetitionMonthsOpen\"] = 24\n",
        "#joined.CompetitionMonthsOpen.unique()"
      ],
      "execution_count": null,
      "outputs": []
    },
    {
      "cell_type": "code",
      "metadata": {
        "id": "NIiE5qclCueD"
      },
      "source": [
        "#joined[\"Promo2Since\"] = pd.to_datetime(joined.apply(lambda x: Week(x.Promo2SinceYear, x.Promo2SinceWeek).monday(), axis=1))\n",
        "#joined[\"Promo2Days\"] = joined.Date.subtract(joined[\"Promo2Since\"]).dt.days"
      ],
      "execution_count": null,
      "outputs": []
    },
    {
      "cell_type": "code",
      "metadata": {
        "id": "DADmPcRMDbHh"
      },
      "source": [
        "#joined.loc[joined.Promo2Days <0, \"Promo2Days\"] = 0\n",
        "#joined.loc[joined.Promo2SinceYear < 1990, \"Promo2Days\"] = 0"
      ],
      "execution_count": null,
      "outputs": []
    },
    {
      "cell_type": "code",
      "metadata": {
        "id": "kT4Wz0fuGMoQ"
      },
      "source": [
        "#joined[\"Promo2Weeks\"] = joined[\"Promo2Days\"] // 7\n",
        "#joined.loc[joined.Promo2Weeks < 0, \"Promo2Weeks\"] = 0\n",
        "#joined.loc[joined.Promo2Weeks > 25, \"Promo2Weeks\"] = 25\n",
        "#joined[\"Promo2Weeks\"].unique()"
      ],
      "execution_count": null,
      "outputs": []
    },
    {
      "cell_type": "markdown",
      "metadata": {
        "id": "ztwJ75l2Hg1H"
      },
      "source": [
        "# Durations"
      ]
    },
    {
      "cell_type": "code",
      "metadata": {
        "id": "1LXtLZPIGnVY"
      },
      "source": [
        "#columns = ['Date', 'Store', 'Promo', 'StateHoliday', 'SchoolHoliday']"
      ],
      "execution_count": null,
      "outputs": []
    },
    {
      "cell_type": "code",
      "metadata": {
        "id": "sYiypxvgJzWF"
      },
      "source": [
        "#class elapsed(object):\n",
        "#  def __init__(self, fld):\n",
        "#    self.fld = fld\n",
        "#    self.last = pd.to_datetime(np.nan)\n",
        "#    self.last_store = 0\n",
        "\n",
        "#  def get(self, row):\n",
        "#    if row.Store != self.last_store:\n",
        "#      self.last = pd.to_datetime(np.nan)\n",
        "#      self.last_store = row.Store\n",
        "#    if(row[self.fld]): self.last = row.Date\n",
        "#    return row.Date - self.last"
      ],
      "execution_count": null,
      "outputs": []
    },
    {
      "cell_type": "code",
      "metadata": {
        "id": "rXqOD-P5KoAp"
      },
      "source": [
        "#df = train[columns]"
      ],
      "execution_count": null,
      "outputs": []
    },
    {
      "cell_type": "code",
      "metadata": {
        "id": "DvrstbgpKqoB"
      },
      "source": [
        "#def add_elapsed(fld, prefix):\n",
        "#  sh_el = elapsed(fld)\n",
        "#  df[prefix+fld] = df.apply(sh_el.get, axis=1)"
      ],
      "execution_count": null,
      "outputs": []
    },
    {
      "cell_type": "code",
      "metadata": {
        "id": "p_7WpSJtLJzY"
      },
      "source": [
        "#fld = 'SchoolHoliday'\n",
        "#df = df.sort_values(['Store', 'Date'])\n",
        "#add_elapsed(fld, 'After')\n",
        "#df = df.sort_values(['Store', 'Date'], ascending=[True, False])\n",
        "#add_elapsed(fld, 'Before')"
      ],
      "execution_count": null,
      "outputs": []
    },
    {
      "cell_type": "code",
      "metadata": {
        "id": "gaOZSDxpMNsp"
      },
      "source": [
        "#fld = 'StateHoliday'\n",
        "#df = df.sort_values(['Store', 'Date'])\n",
        "#add_elapsed(fld, 'After')\n",
        "#df = df.sort_values(['Store', 'Date'], ascending=[True, False])\n",
        "#add_elapsed(fld, 'Before')"
      ],
      "execution_count": null,
      "outputs": []
    },
    {
      "cell_type": "code",
      "metadata": {
        "id": "Awst9KKDMS_Z"
      },
      "source": [
        "#fld = 'Promo'\n",
        "#df = df.sort_values(['Store', 'Date'])\n",
        "#add_elapsed(fld, 'After')\n",
        "#df = df.sort_values(['Store', 'Date'], ascending=[True, False])\n",
        "#add_elapsed(fld, 'Before')"
      ],
      "execution_count": null,
      "outputs": []
    },
    {
      "cell_type": "code",
      "metadata": {
        "id": "hNSk4x8zMVdS"
      },
      "source": [
        "#df = df.set_index('Date')"
      ],
      "execution_count": null,
      "outputs": []
    },
    {
      "cell_type": "code",
      "metadata": {
        "id": "iz2lhh6FM392"
      },
      "source": [
        "#columns = ['SchoolHoliday', 'StateHoliday', 'Promo']"
      ],
      "execution_count": null,
      "outputs": []
    },
    {
      "cell_type": "code",
      "metadata": {
        "id": "95GWqTpyPVrg"
      },
      "source": [
        "#for o in ['Before', 'After']:\n",
        "#  for p in columns:\n",
        "#    a = o + p\n",
        "#    df[a] = df[a].fillna(pd.Timedelta(0)).dt.days"
      ],
      "execution_count": null,
      "outputs": []
    },
    {
      "cell_type": "code",
      "metadata": {
        "id": "7GLUDIHqPmiK"
      },
      "source": [
        "#bwd = df[['Store']+columns].sort_index().groupby('Store').rolling(7, min_periods=1).sum()"
      ],
      "execution_count": null,
      "outputs": []
    },
    {
      "cell_type": "code",
      "metadata": {
        "id": "9OSabGUMQxK2"
      },
      "source": [
        "#fwd = df[['Store']+columns].sort_index(ascending=False).groupby('Store').rolling(7, min_periods=1).sum()"
      ],
      "execution_count": null,
      "outputs": []
    },
    {
      "cell_type": "code",
      "metadata": {
        "id": "6ZJY91TzQ5eG"
      },
      "source": [
        "#bwd.drop('Store', 1, inplace=True)\n",
        "#bwd.reset_index(inplace=True)"
      ],
      "execution_count": null,
      "outputs": []
    },
    {
      "cell_type": "code",
      "metadata": {
        "id": "Hz80AKfhRMKR"
      },
      "source": [
        "#fwd.drop('Store', 1, inplace=True)\n",
        "#fwd.reset_index(inplace=True)"
      ],
      "execution_count": null,
      "outputs": []
    },
    {
      "cell_type": "code",
      "metadata": {
        "id": "Q5sD_l2jRO37"
      },
      "source": [
        "#df.reset_index(inplace=True)"
      ],
      "execution_count": null,
      "outputs": []
    },
    {
      "cell_type": "code",
      "metadata": {
        "id": "TRN28hXURULm"
      },
      "source": [
        "#df = df.merge(bwd, 'left', ['Date', 'Store'], suffixes=['', '_bw'])\n",
        "#df = df.merge(fwd, 'left', ['Date', 'Store'], suffixes=['', '_fw'])"
      ],
      "execution_count": null,
      "outputs": []
    },
    {
      "cell_type": "code",
      "metadata": {
        "id": "DPNc1o3IRk-T"
      },
      "source": [
        "#df.drop(columns, 1, inplace=True)"
      ],
      "execution_count": null,
      "outputs": []
    },
    {
      "cell_type": "code",
      "metadata": {
        "id": "_PM2HXCyRwq5"
      },
      "source": [
        "#df.head()"
      ],
      "execution_count": null,
      "outputs": []
    },
    {
      "cell_type": "code",
      "metadata": {
        "id": "YFE_AfxTRyYN"
      },
      "source": [
        "#df.to_csv('df-GE.csv')"
      ],
      "execution_count": null,
      "outputs": []
    },
    {
      "cell_type": "code",
      "metadata": {
        "id": "_MEHK5KqR_N1"
      },
      "source": [
        "#df = pd.read_csv('df-GE.csv', index_col=0)"
      ],
      "execution_count": null,
      "outputs": []
    },
    {
      "cell_type": "code",
      "metadata": {
        "id": "XXE48N6ySFvc"
      },
      "source": [
        "#df['Date'] = pd.to_datetime(df.Date)"
      ],
      "execution_count": null,
      "outputs": []
    },
    {
      "cell_type": "code",
      "metadata": {
        "id": "capjSnnhSbNU"
      },
      "source": [
        "#df.columns"
      ],
      "execution_count": null,
      "outputs": []
    },
    {
      "cell_type": "code",
      "metadata": {
        "id": "wwJZsXcVScnd"
      },
      "source": [
        "#joined = join_df(joined, df, ['Store', 'Date'])"
      ],
      "execution_count": null,
      "outputs": []
    },
    {
      "cell_type": "code",
      "metadata": {
        "id": "WfZtlW4pSoRG"
      },
      "source": [
        "#joined.to_csv('joined-GE.csv')"
      ],
      "execution_count": null,
      "outputs": []
    },
    {
      "cell_type": "code",
      "metadata": {
        "colab": {
          "base_uri": "https://localhost:8080/"
        },
        "id": "7VfH-43TSs5u",
        "outputId": "73c829d2-862a-4dc7-e29a-5f314392c0d8"
      },
      "source": [
        "joined = pd.read_csv('joined-GE.csv', index_col=0)\n",
        "joined['Date'] = pd.to_datetime(joined.Date)\n",
        "joined.columns"
      ],
      "execution_count": null,
      "outputs": [
        {
          "output_type": "stream",
          "text": [
            "/usr/local/lib/python3.7/dist-packages/numpy/lib/arraysetops.py:580: FutureWarning: elementwise comparison failed; returning scalar instead, but in the future will perform elementwise comparison\n",
            "  mask |= (ar1 == a)\n"
          ],
          "name": "stderr"
        },
        {
          "output_type": "execute_result",
          "data": {
            "text/plain": [
              "Index(['Store', 'DayOfWeek', 'Date', 'Sales', 'Customers', 'Open', 'Promo',\n",
              "       'StateHoliday', 'SchoolHoliday', 'Year', 'Month', 'Week', 'Day',\n",
              "       'StoreType', 'Assortment', 'CompetitionDistance',\n",
              "       'CompetitionOpenSinceMonth', 'CompetitionOpenSinceYear', 'Promo2',\n",
              "       'Promo2SinceWeek', 'Promo2SinceYear', 'PromoInterval', 'State', 'file',\n",
              "       'week', 'trend', 'Date_y', 'Month_y', 'Day_y', 'file_DE', 'week_DE',\n",
              "       'trend_DE', 'Date_DE', 'State_DE', 'Month_DE', 'Day_DE', 'file_y',\n",
              "       'Max_TemperatureC', 'Mean_TemperatureC', 'Min_TemperatureC',\n",
              "       'Dew_PointC', 'MeanDew_PointC', 'Min_DewpointC', 'Max_Humidity',\n",
              "       'Mean_Humidity', 'Min_Humidity', 'Max_Sea_Level_PressurehPa',\n",
              "       'Mean_Sea_Level_PressurehPa', 'Min_Sea_Level_PressurehPa',\n",
              "       'Max_VisibilityKm', 'Mean_VisibilityKm', 'Min_VisibilitykM',\n",
              "       'Max_Wind_SpeedKm_h', 'Mean_Wind_SpeedKm_h', 'Max_Gust_SpeedKm_h',\n",
              "       'Precipitationmm', 'CloudCover', 'Events', 'WindDirDegrees',\n",
              "       'StateName', 'Year_y', 'Month_y.1', 'Week_y', 'Day_y.1',\n",
              "       'CompetitionOpenSince', 'CompetitionDaysOpen', 'CompetitionMonthsOpen',\n",
              "       'Promo2Since', 'Promo2Days', 'Promo2Weeks', 'AfterSchoolHoliday',\n",
              "       'BeforeSchoolHoliday', 'AfterStateHoliday', 'BeforeStateHoliday',\n",
              "       'AfterPromo', 'BeforePromo', 'SchoolHoliday_bw', 'StateHoliday_bw',\n",
              "       'Promo_bw', 'SchoolHoliday_fw', 'StateHoliday_fw', 'Promo_fw'],\n",
              "      dtype='object')"
            ]
          },
          "metadata": {
            "tags": []
          },
          "execution_count": 62
        }
      ]
    },
    {
      "cell_type": "markdown",
      "metadata": {
        "id": "O7WVE_YETrJi"
      },
      "source": [
        "# Create Features"
      ]
    },
    {
      "cell_type": "code",
      "metadata": {
        "id": "CoZ1fBNoTMA4"
      },
      "source": [
        "from sklearn_pandas import DataFrameMapper\n",
        "from sklearn.preprocessing import LabelEncoder, StandardScaler\n",
        "from sklearn.impute import SimpleImputer"
      ],
      "execution_count": null,
      "outputs": []
    },
    {
      "cell_type": "code",
      "metadata": {
        "id": "iJ0YFGoLUGFz"
      },
      "source": [
        "cat_var_dict = {'Store':50, 'DayOfWeek':6, 'Year':2, 'Month':6, 'Day':10, 'StateHoliday':3, 'CompetitionMonthsOpen':2,\n",
        "                'Promo2Weeks':1, 'StoreType':2, 'Assortment':3, 'PromoInterval':3, 'CompetitionOpenSinceYear':4,\n",
        "                'Promo2SinceYear':4, 'State':6, 'Week':2, 'Events':4, 'Promo_fw':1, 'Promo_bw':1, 'StateHoliday_fw':1,\n",
        "                'StateHoliday_bw':1, 'SchoolHoliday_fw':1, 'SchoolHoliday_bw':1}"
      ],
      "execution_count": null,
      "outputs": []
    },
    {
      "cell_type": "code",
      "metadata": {
        "id": "qUQ9t893V3aU"
      },
      "source": [
        "cat_vars = [o[0] for o in sorted(cat_var_dict.items(), key=operator.itemgetter(1), reverse=True)]"
      ],
      "execution_count": null,
      "outputs": []
    },
    {
      "cell_type": "code",
      "metadata": {
        "id": "MfCPr7axWQTg"
      },
      "source": [
        "contin_vars = ['CompetitionDistance', 'Max_TemperatureC', 'Mean_TemperatureC', 'Min_TemperatureC','Max_Humidity', 'Mean_Humidity',\n",
        "               'Min_Humidity', 'Max_Wind_SpeedKm_h', 'Mean_Wind_SpeedKm_h', 'CloudCover', 'trend', 'trend_DE',\n",
        "               'AfterStateHoliday', 'BeforeStateHoliday', 'Promo', 'SchoolHoliday']"
      ],
      "execution_count": null,
      "outputs": []
    },
    {
      "cell_type": "code",
      "metadata": {
        "id": "CFuH3e81YjLC"
      },
      "source": [
        "for v in contin_vars: joined.loc[joined[v].isnull(), v] = 0\n",
        "for v in cat_vars: joined.loc[joined[v].isnull(), v] = \"\"\n"
      ],
      "execution_count": null,
      "outputs": []
    },
    {
      "cell_type": "code",
      "metadata": {
        "id": "nZTeC95_Y23m"
      },
      "source": [
        "cat_maps = [(o, LabelEncoder()) for o in cat_vars]\n",
        "contin_maps = [([o], StandardScaler()) for o in contin_vars]"
      ],
      "execution_count": null,
      "outputs": []
    },
    {
      "cell_type": "code",
      "metadata": {
        "colab": {
          "base_uri": "https://localhost:8080/"
        },
        "id": "ly7_0tlIZQNf",
        "outputId": "b0207961-ed98-4450-9246-690219e334f3"
      },
      "source": [
        "cat_mapper = DataFrameMapper(cat_maps)\n",
        "cat_map_fit = cat_mapper.fit(joined)\n",
        "cat_cols = len(cat_map_fit.features)\n",
        "cat_cols"
      ],
      "execution_count": null,
      "outputs": [
        {
          "output_type": "execute_result",
          "data": {
            "text/plain": [
              "22"
            ]
          },
          "metadata": {
            "tags": []
          },
          "execution_count": 69
        }
      ]
    },
    {
      "cell_type": "code",
      "metadata": {
        "colab": {
          "base_uri": "https://localhost:8080/"
        },
        "id": "BE6jMCV5ZSdr",
        "outputId": "3142de6b-52b7-49a7-e2f5-e337b6241143"
      },
      "source": [
        "contin_mapper = DataFrameMapper(contin_maps)\n",
        "contin_map_fit = contin_mapper.fit(joined)\n",
        "contin_cols = len(contin_map_fit.features)\n",
        "contin_cols"
      ],
      "execution_count": null,
      "outputs": [
        {
          "output_type": "execute_result",
          "data": {
            "text/plain": [
              "16"
            ]
          },
          "metadata": {
            "tags": []
          },
          "execution_count": 70
        }
      ]
    },
    {
      "cell_type": "code",
      "metadata": {
        "colab": {
          "base_uri": "https://localhost:8080/"
        },
        "id": "NpB732LIaQtV",
        "outputId": "6fa5cde9-56aa-4dd4-de96-badeba612af5"
      },
      "source": [
        "cat_map_fit.transform(joined)[0:5], contin_map_fit.transform(joined)[0:5] "
      ],
      "execution_count": null,
      "outputs": [
        {
          "output_type": "execute_result",
          "data": {
            "text/plain": [
              "(array([[ 0, 30,  4,  6,  4, 15,  0,  1,  0,  0,  0,  2, 24,  2, 30,  0,\n",
              "          1,  5,  0,  0,  1,  5],\n",
              "        [ 1, 30,  4,  6, 11, 14,  2,  1,  0,  0,  2,  2, 24,  0, 30, 25,\n",
              "          1,  5,  0,  0,  1,  5],\n",
              "        [ 2, 30,  4,  6,  6, 13,  3,  1,  0,  0,  2,  2, 24,  0, 30, 25,\n",
              "          1,  5,  0,  0,  1,  5],\n",
              "        [ 3, 30,  4,  6,  0, 16,  0,  0,  0,  2,  0,  2, 24,  2, 30,  0,\n",
              "          1,  5,  0,  0,  1,  5],\n",
              "        [ 4, 30,  4,  6,  9, 22,  0,  0,  0,  0,  0,  2,  3,  0, 30,  0,\n",
              "          1,  5,  0,  0,  1,  5]]),\n",
              " array([[-0.53772351,  1.02444552,  0.81863226,  0.32504749,  0.61112004,\n",
              "         -1.5107893 , -1.62656003,  0.14843667, -0.1476615 , -1.85916546,\n",
              "          1.7443611 ,  1.74304867,  0.64437635,  1.07242411,  1.27323691,\n",
              "          2.14421115],\n",
              "        [-0.62851175,  0.55189893,  0.40421493,  0.17024218,  0.8702771 ,\n",
              "         -0.90502433, -1.26989654, -0.97007983, -0.1476615 , -0.49385792,\n",
              "          1.30343854,  1.74304867,  0.96507322,  1.07242411,  1.27323691,\n",
              "          2.14421115],\n",
              "        [ 1.13018633,  0.78817223,  0.40421493,  0.01543687,  0.8702771 ,\n",
              "         -0.98074495, -1.32084847, -0.97007983, -1.1650956 , -1.40406295,\n",
              "          1.83254562,  1.74304867,  0.64437635,  1.07242411,  1.27323691,\n",
              "          2.14421115],\n",
              "        [-0.62202688,  0.55189893,  0.54235404,  0.4798528 ,  0.09280592,\n",
              "         -0.98074495, -1.01513691,  0.03658502,  0.70020025,  0.41634711,\n",
              "          0.77433146,  1.74304867,  0.96507322,  1.07242411,  1.27323691,\n",
              "          2.14421115],\n",
              "        [ 3.17681286,  0.67003558,  0.68049315,  0.63465811, -1.46213646,\n",
              "         -1.43506868, -1.21894462, -0.97007983, -0.1476615 , -0.49385792,\n",
              "          1.47980756,  1.74304867,  0.64437635,  1.07242411,  1.27323691,\n",
              "          2.14421115]]))"
            ]
          },
          "metadata": {
            "tags": []
          },
          "execution_count": 71
        }
      ]
    },
    {
      "cell_type": "code",
      "metadata": {
        "id": "hfjxV9yja7rk"
      },
      "source": [
        "pickle.dump(contin_map_fit, open('contin_maps.pickle', 'wb'))\n",
        "pickle.dump(cat_map_fit, open('cat_maps.pickle', 'wb'))"
      ],
      "execution_count": null,
      "outputs": []
    },
    {
      "cell_type": "code",
      "metadata": {
        "colab": {
          "base_uri": "https://localhost:8080/"
        },
        "id": "SCd1f9SQbVh6",
        "outputId": "dff52e0c-bd82-42d2-e3ab-b15d0ed6d89c"
      },
      "source": [
        "[len(o[1].classes_) for o in cat_map_fit.features]"
      ],
      "execution_count": null,
      "outputs": [
        {
          "output_type": "execute_result",
          "data": {
            "text/plain": [
              "[1115, 31, 7, 12, 12, 23, 8, 22, 2, 3, 4, 3, 25, 4, 52, 26, 6, 6, 3, 3, 8, 8]"
            ]
          },
          "metadata": {
            "tags": []
          },
          "execution_count": 73
        }
      ]
    },
    {
      "cell_type": "markdown",
      "metadata": {
        "id": "ELr7QtB8boSl"
      },
      "source": [
        "# Sample Data\n"
      ]
    },
    {
      "cell_type": "code",
      "metadata": {
        "id": "EJWNdYD1biJr"
      },
      "source": [
        "joined_sales = joined[joined.Sales != 0]\n",
        "n = len(joined_sales)"
      ],
      "execution_count": null,
      "outputs": []
    },
    {
      "cell_type": "code",
      "metadata": {
        "colab": {
          "base_uri": "https://localhost:8080/"
        },
        "id": "9lI53ZEJcDhu",
        "outputId": "d9168b74-2f59-4163-9805-50c5dc11acd1"
      },
      "source": [
        "n"
      ],
      "execution_count": null,
      "outputs": [
        {
          "output_type": "execute_result",
          "data": {
            "text/plain": [
              "844338"
            ]
          },
          "metadata": {
            "tags": []
          },
          "execution_count": 75
        }
      ]
    },
    {
      "cell_type": "code",
      "metadata": {
        "id": "j7YNIiVucEws"
      },
      "source": [
        "samp_size = 100000\n",
        "np.random.seed(42)\n",
        "idxs = sorted(np.random.choice(n, samp_size, replace=False))"
      ],
      "execution_count": null,
      "outputs": []
    },
    {
      "cell_type": "code",
      "metadata": {
        "id": "2cd_gwYBdG9q"
      },
      "source": [
        "joined_samp = joined_sales.iloc[idxs].set_index(\"Date\")"
      ],
      "execution_count": null,
      "outputs": []
    },
    {
      "cell_type": "code",
      "metadata": {
        "id": "8_wz-e2CdPmQ"
      },
      "source": [
        "samp_size = n\n",
        "joined_samp = joined_sales.set_index(\"Date\")"
      ],
      "execution_count": null,
      "outputs": []
    },
    {
      "cell_type": "code",
      "metadata": {
        "id": "DKj050o1drP_"
      },
      "source": [
        "train_ratio = 0.9\n",
        "train_size = int(samp_size * train_ratio)"
      ],
      "execution_count": null,
      "outputs": []
    },
    {
      "cell_type": "code",
      "metadata": {
        "colab": {
          "base_uri": "https://localhost:8080/"
        },
        "id": "zv2azHPTdz42",
        "outputId": "3bec5ded-abbc-4f29-aea3-98a10ea53085"
      },
      "source": [
        "train_size"
      ],
      "execution_count": null,
      "outputs": [
        {
          "output_type": "execute_result",
          "data": {
            "text/plain": [
              "759904"
            ]
          },
          "metadata": {
            "tags": []
          },
          "execution_count": 80
        }
      ]
    },
    {
      "cell_type": "code",
      "metadata": {
        "colab": {
          "base_uri": "https://localhost:8080/"
        },
        "id": "l72uOHwqd1jE",
        "outputId": "8d5ed1d4-4ac0-471c-c503-bdee41c1b5b7"
      },
      "source": [
        "joined_samp = joined_samp.sort_values(['Date'], ascending=[True])\n",
        "joined_valid = joined_samp[train_size:]\n",
        "joined_train = joined_samp[:train_size]\n",
        "len(joined_valid), len(joined_train)"
      ],
      "execution_count": null,
      "outputs": [
        {
          "output_type": "execute_result",
          "data": {
            "text/plain": [
              "(84434, 759904)"
            ]
          },
          "metadata": {
            "tags": []
          },
          "execution_count": 136
        }
      ]
    },
    {
      "cell_type": "code",
      "metadata": {
        "id": "rMphwTQyeOw4"
      },
      "source": [
        "def cat_preproc(dat):\n",
        "  return cat_map_fit.transform(dat).astype(np.int64)"
      ],
      "execution_count": null,
      "outputs": []
    },
    {
      "cell_type": "code",
      "metadata": {
        "id": "_286RpAEec0J"
      },
      "source": [
        "cat_map_train = cat_preproc(joined_train)\n",
        "cat_map_valid = cat_preproc(joined_valid)"
      ],
      "execution_count": null,
      "outputs": []
    },
    {
      "cell_type": "code",
      "metadata": {
        "id": "-L2NaoTJerCf"
      },
      "source": [
        "def contin_preproc(dat):\n",
        "  return contin_map_fit.transform(dat).astype(np.float32)"
      ],
      "execution_count": null,
      "outputs": []
    },
    {
      "cell_type": "code",
      "metadata": {
        "id": "dY3wivUke4GJ"
      },
      "source": [
        "contin_map_train = contin_preproc(joined_train)\n",
        "contin_map_valid = contin_preproc(joined_valid)"
      ],
      "execution_count": null,
      "outputs": []
    },
    {
      "cell_type": "code",
      "metadata": {
        "id": "DBjVfByhfAin"
      },
      "source": [
        "y_train_orig = joined_train.Sales\n",
        "y_valid_orig = joined_valid.Sales"
      ],
      "execution_count": null,
      "outputs": []
    },
    {
      "cell_type": "code",
      "metadata": {
        "id": "rixCHe6dfXiX"
      },
      "source": [
        "max_log_y = np.max(np.log(joined_samp.Sales))\n",
        "y_train = np.log(y_train_orig)/max_log_y\n",
        "y_valid = np.log(y_valid_orig)/max_log_y"
      ],
      "execution_count": null,
      "outputs": []
    },
    {
      "cell_type": "code",
      "metadata": {
        "id": "8yqJA1RnfuJM"
      },
      "source": [
        "def rmspe(y_pred, targ = y_valid_orig):\n",
        "  pct_var = (targ - y_pred)/targ\n",
        "  return math.sqrt(np.square(pct_var).mean())"
      ],
      "execution_count": null,
      "outputs": []
    },
    {
      "cell_type": "code",
      "metadata": {
        "id": "frDvnBtzgmp8"
      },
      "source": [
        "def log_max_inv(preds, mx = max_log_y):\n",
        "  return np.exp(preds * mx)"
      ],
      "execution_count": null,
      "outputs": []
    },
    {
      "cell_type": "code",
      "metadata": {
        "id": "Dt6YzJsOgzUL"
      },
      "source": [
        "def normalize_inv(preds):\n",
        "  return preds * ystd + ymean"
      ],
      "execution_count": null,
      "outputs": []
    },
    {
      "cell_type": "markdown",
      "metadata": {
        "id": "jBoafIlxg-0K"
      },
      "source": [
        "# Create Model"
      ]
    },
    {
      "cell_type": "code",
      "metadata": {
        "id": "C4kY42UumzAW"
      },
      "source": [
        "from tensorflow.keras.models import Model\n",
        "from tensorflow.keras.optimizers import Adam\n",
        "from tensorflow.keras.layers import Embedding, Input, Flatten, Dense, Concatenate"
      ],
      "execution_count": null,
      "outputs": []
    },
    {
      "cell_type": "code",
      "metadata": {
        "id": "nUocmZ4Qg8lv"
      },
      "source": [
        "def split_cols(arr): return np.hsplit(arr, arr.shape[1])"
      ],
      "execution_count": null,
      "outputs": []
    },
    {
      "cell_type": "code",
      "metadata": {
        "id": "VgkII2K6iNln"
      },
      "source": [
        "map_train = split_cols(cat_map_train) + [contin_map_train]\n",
        "map_valid = split_cols(cat_map_valid) + [contin_map_valid]"
      ],
      "execution_count": null,
      "outputs": []
    },
    {
      "cell_type": "code",
      "metadata": {
        "id": "jti40vkziZ1W"
      },
      "source": [
        "#map_train = split_cols(cat_map_train) + split_cols(contin_map_train)\n",
        "#map_valid = split_cols(cat_map_valid) + split_cols(contin_map_valid)"
      ],
      "execution_count": null,
      "outputs": []
    },
    {
      "cell_type": "code",
      "metadata": {
        "id": "xlD_hIIdinV1"
      },
      "source": [
        "def cat_map_info(feat): return feat[0], len(feat[1].classes_)"
      ],
      "execution_count": null,
      "outputs": []
    },
    {
      "cell_type": "code",
      "metadata": {
        "colab": {
          "base_uri": "https://localhost:8080/"
        },
        "id": "LZ_LEuqdi0Kp",
        "outputId": "d5bb9b8f-4b07-4583-be24-262fa497ed02"
      },
      "source": [
        "cat_map_info(cat_map_fit.features[0])"
      ],
      "execution_count": null,
      "outputs": [
        {
          "output_type": "execute_result",
          "data": {
            "text/plain": [
              "('Store', 1115)"
            ]
          },
          "metadata": {
            "tags": []
          },
          "execution_count": 151
        }
      ]
    },
    {
      "cell_type": "markdown",
      "metadata": {
        "id": "83JeRD8-zF1S"
      },
      "source": [
        "# Load the Model"
      ]
    },
    {
      "cell_type": "code",
      "metadata": {
        "colab": {
          "base_uri": "https://localhost:8080/"
        },
        "id": "p47Voq-U43o_",
        "outputId": "9a40d40d-79b7-4639-de8a-63a28a083a6c"
      },
      "source": [
        "cat_map_fit.features"
      ],
      "execution_count": null,
      "outputs": [
        {
          "output_type": "execute_result",
          "data": {
            "text/plain": [
              "[('Store', LabelEncoder()),\n",
              " ('Day', LabelEncoder()),\n",
              " ('DayOfWeek', LabelEncoder()),\n",
              " ('Month', LabelEncoder()),\n",
              " ('State', LabelEncoder()),\n",
              " ('CompetitionOpenSinceYear', LabelEncoder()),\n",
              " ('Promo2SinceYear', LabelEncoder()),\n",
              " ('Events', LabelEncoder()),\n",
              " ('StateHoliday', LabelEncoder()),\n",
              " ('Assortment', LabelEncoder()),\n",
              " ('PromoInterval', LabelEncoder()),\n",
              " ('Year', LabelEncoder()),\n",
              " ('CompetitionMonthsOpen', LabelEncoder()),\n",
              " ('StoreType', LabelEncoder()),\n",
              " ('Week', LabelEncoder()),\n",
              " ('Promo2Weeks', LabelEncoder()),\n",
              " ('Promo_fw', LabelEncoder()),\n",
              " ('Promo_bw', LabelEncoder()),\n",
              " ('StateHoliday_fw', LabelEncoder()),\n",
              " ('StateHoliday_bw', LabelEncoder()),\n",
              " ('SchoolHoliday_fw', LabelEncoder()),\n",
              " ('SchoolHoliday_bw', LabelEncoder())]"
            ]
          },
          "metadata": {
            "tags": []
          },
          "execution_count": 152
        }
      ]
    },
    {
      "cell_type": "code",
      "metadata": {
        "id": "2-XahAHTRpUe"
      },
      "source": [
        "model = keras.models.load_model(\"Rossmann-GE\")"
      ],
      "execution_count": null,
      "outputs": []
    },
    {
      "cell_type": "code",
      "metadata": {
        "colab": {
          "base_uri": "https://localhost:8080/"
        },
        "id": "_JKWRa0MbFkC",
        "outputId": "271ac729-a6a1-457c-84e8-0f929b339523"
      },
      "source": [
        "model.summary()"
      ],
      "execution_count": null,
      "outputs": [
        {
          "output_type": "stream",
          "text": [
            "Model: \"model\"\n",
            "__________________________________________________________________________________________________\n",
            "Layer (type)                    Output Shape         Param #     Connected to                     \n",
            "==================================================================================================\n",
            "Store_in (InputLayer)           [(None, 1)]          0                                            \n",
            "__________________________________________________________________________________________________\n",
            "Day_in (InputLayer)             [(None, 1)]          0                                            \n",
            "__________________________________________________________________________________________________\n",
            "DayOfWeek_in (InputLayer)       [(None, 1)]          0                                            \n",
            "__________________________________________________________________________________________________\n",
            "Month_in (InputLayer)           [(None, 1)]          0                                            \n",
            "__________________________________________________________________________________________________\n",
            "State_in (InputLayer)           [(None, 1)]          0                                            \n",
            "__________________________________________________________________________________________________\n",
            "CompetitionOpenSinceYear_in (In [(None, 1)]          0                                            \n",
            "__________________________________________________________________________________________________\n",
            "Promo2SinceYear_in (InputLayer) [(None, 1)]          0                                            \n",
            "__________________________________________________________________________________________________\n",
            "Events_in (InputLayer)          [(None, 1)]          0                                            \n",
            "__________________________________________________________________________________________________\n",
            "StateHoliday_in (InputLayer)    [(None, 1)]          0                                            \n",
            "__________________________________________________________________________________________________\n",
            "Assortment_in (InputLayer)      [(None, 1)]          0                                            \n",
            "__________________________________________________________________________________________________\n",
            "PromoInterval_in (InputLayer)   [(None, 1)]          0                                            \n",
            "__________________________________________________________________________________________________\n",
            "Year_in (InputLayer)            [(None, 1)]          0                                            \n",
            "__________________________________________________________________________________________________\n",
            "CompetitionMonthsOpen_in (Input [(None, 1)]          0                                            \n",
            "__________________________________________________________________________________________________\n",
            "StoreType_in (InputLayer)       [(None, 1)]          0                                            \n",
            "__________________________________________________________________________________________________\n",
            "Week_in (InputLayer)            [(None, 1)]          0                                            \n",
            "__________________________________________________________________________________________________\n",
            "Promo2Weeks_in (InputLayer)     [(None, 1)]          0                                            \n",
            "__________________________________________________________________________________________________\n",
            "Promo_fw_in (InputLayer)        [(None, 1)]          0                                            \n",
            "__________________________________________________________________________________________________\n",
            "Promo_bw_in (InputLayer)        [(None, 1)]          0                                            \n",
            "__________________________________________________________________________________________________\n",
            "StateHoliday_fw_in (InputLayer) [(None, 1)]          0                                            \n",
            "__________________________________________________________________________________________________\n",
            "StateHoliday_bw_in (InputLayer) [(None, 1)]          0                                            \n",
            "__________________________________________________________________________________________________\n",
            "SchoolHoliday_fw_in (InputLayer [(None, 1)]          0                                            \n",
            "__________________________________________________________________________________________________\n",
            "SchoolHoliday_bw_in (InputLayer [(None, 1)]          0                                            \n",
            "__________________________________________________________________________________________________\n",
            "Store_emb (Embedding)           (None, 1, 50)        55750       Store_in[0][0]                   \n",
            "__________________________________________________________________________________________________\n",
            "Day_emb (Embedding)             (None, 1, 10)        310         Day_in[0][0]                     \n",
            "__________________________________________________________________________________________________\n",
            "DayOfWeek_emb (Embedding)       (None, 1, 6)         42          DayOfWeek_in[0][0]               \n",
            "__________________________________________________________________________________________________\n",
            "Month_emb (Embedding)           (None, 1, 6)         72          Month_in[0][0]                   \n",
            "__________________________________________________________________________________________________\n",
            "State_emb (Embedding)           (None, 1, 6)         72          State_in[0][0]                   \n",
            "__________________________________________________________________________________________________\n",
            "CompetitionOpenSinceYear_emb (E (None, 1, 4)         92          CompetitionOpenSinceYear_in[0][0]\n",
            "__________________________________________________________________________________________________\n",
            "Promo2SinceYear_emb (Embedding) (None, 1, 4)         32          Promo2SinceYear_in[0][0]         \n",
            "__________________________________________________________________________________________________\n",
            "Events_emb (Embedding)          (None, 1, 4)         88          Events_in[0][0]                  \n",
            "__________________________________________________________________________________________________\n",
            "StateHoliday_emb (Embedding)    (None, 1, 3)         6           StateHoliday_in[0][0]            \n",
            "__________________________________________________________________________________________________\n",
            "Assortment_emb (Embedding)      (None, 1, 3)         9           Assortment_in[0][0]              \n",
            "__________________________________________________________________________________________________\n",
            "PromoInterval_emb (Embedding)   (None, 1, 3)         12          PromoInterval_in[0][0]           \n",
            "__________________________________________________________________________________________________\n",
            "Year_emb (Embedding)            (None, 1, 2)         6           Year_in[0][0]                    \n",
            "__________________________________________________________________________________________________\n",
            "CompetitionMonthsOpen_emb (Embe (None, 1, 2)         50          CompetitionMonthsOpen_in[0][0]   \n",
            "__________________________________________________________________________________________________\n",
            "StoreType_emb (Embedding)       (None, 1, 2)         8           StoreType_in[0][0]               \n",
            "__________________________________________________________________________________________________\n",
            "Week_emb (Embedding)            (None, 1, 2)         104         Week_in[0][0]                    \n",
            "__________________________________________________________________________________________________\n",
            "Promo2Weeks_emb (Embedding)     (None, 1, 1)         26          Promo2Weeks_in[0][0]             \n",
            "__________________________________________________________________________________________________\n",
            "Promo_fw_emb (Embedding)        (None, 1, 1)         6           Promo_fw_in[0][0]                \n",
            "__________________________________________________________________________________________________\n",
            "Promo_bw_emb (Embedding)        (None, 1, 1)         6           Promo_bw_in[0][0]                \n",
            "__________________________________________________________________________________________________\n",
            "StateHoliday_fw_emb (Embedding) (None, 1, 1)         3           StateHoliday_fw_in[0][0]         \n",
            "__________________________________________________________________________________________________\n",
            "StateHoliday_bw_emb (Embedding) (None, 1, 1)         3           StateHoliday_bw_in[0][0]         \n",
            "__________________________________________________________________________________________________\n",
            "SchoolHoliday_fw_emb (Embedding (None, 1, 1)         8           SchoolHoliday_fw_in[0][0]        \n",
            "__________________________________________________________________________________________________\n",
            "SchoolHoliday_bw_emb (Embedding (None, 1, 1)         8           SchoolHoliday_bw_in[0][0]        \n",
            "__________________________________________________________________________________________________\n",
            "contin (InputLayer)             [(None, 16)]         0                                            \n",
            "__________________________________________________________________________________________________\n",
            "Store_flt (Flatten)             (None, 50)           0           Store_emb[0][0]                  \n",
            "__________________________________________________________________________________________________\n",
            "Day_flt (Flatten)               (None, 10)           0           Day_emb[0][0]                    \n",
            "__________________________________________________________________________________________________\n",
            "DayOfWeek_flt (Flatten)         (None, 6)            0           DayOfWeek_emb[0][0]              \n",
            "__________________________________________________________________________________________________\n",
            "Month_flt (Flatten)             (None, 6)            0           Month_emb[0][0]                  \n",
            "__________________________________________________________________________________________________\n",
            "State_flt (Flatten)             (None, 6)            0           State_emb[0][0]                  \n",
            "__________________________________________________________________________________________________\n",
            "CompetitionOpenSinceYear_flt (F (None, 4)            0           CompetitionOpenSinceYear_emb[0][0\n",
            "__________________________________________________________________________________________________\n",
            "Promo2SinceYear_flt (Flatten)   (None, 4)            0           Promo2SinceYear_emb[0][0]        \n",
            "__________________________________________________________________________________________________\n",
            "Events_flt (Flatten)            (None, 4)            0           Events_emb[0][0]                 \n",
            "__________________________________________________________________________________________________\n",
            "StateHoliday_flt (Flatten)      (None, 3)            0           StateHoliday_emb[0][0]           \n",
            "__________________________________________________________________________________________________\n",
            "Assortment_flt (Flatten)        (None, 3)            0           Assortment_emb[0][0]             \n",
            "__________________________________________________________________________________________________\n",
            "PromoInterval_flt (Flatten)     (None, 3)            0           PromoInterval_emb[0][0]          \n",
            "__________________________________________________________________________________________________\n",
            "Year_flt (Flatten)              (None, 2)            0           Year_emb[0][0]                   \n",
            "__________________________________________________________________________________________________\n",
            "CompetitionMonthsOpen_flt (Flat (None, 2)            0           CompetitionMonthsOpen_emb[0][0]  \n",
            "__________________________________________________________________________________________________\n",
            "StoreType_flt (Flatten)         (None, 2)            0           StoreType_emb[0][0]              \n",
            "__________________________________________________________________________________________________\n",
            "Week_flt (Flatten)              (None, 2)            0           Week_emb[0][0]                   \n",
            "__________________________________________________________________________________________________\n",
            "Promo2Weeks_flt (Flatten)       (None, 1)            0           Promo2Weeks_emb[0][0]            \n",
            "__________________________________________________________________________________________________\n",
            "Promo_fw_flt (Flatten)          (None, 1)            0           Promo_fw_emb[0][0]               \n",
            "__________________________________________________________________________________________________\n",
            "Promo_bw_flt (Flatten)          (None, 1)            0           Promo_bw_emb[0][0]               \n",
            "__________________________________________________________________________________________________\n",
            "StateHoliday_fw_flt (Flatten)   (None, 1)            0           StateHoliday_fw_emb[0][0]        \n",
            "__________________________________________________________________________________________________\n",
            "StateHoliday_bw_flt (Flatten)   (None, 1)            0           StateHoliday_bw_emb[0][0]        \n",
            "__________________________________________________________________________________________________\n",
            "SchoolHoliday_fw_flt (Flatten)  (None, 1)            0           SchoolHoliday_fw_emb[0][0]       \n",
            "__________________________________________________________________________________________________\n",
            "SchoolHoliday_bw_flt (Flatten)  (None, 1)            0           SchoolHoliday_bw_emb[0][0]       \n",
            "__________________________________________________________________________________________________\n",
            "contin_d (Dense)                (None, 160)          2720        contin[0][0]                     \n",
            "__________________________________________________________________________________________________\n",
            "concatenate (Concatenate)       (None, 274)          0           Store_flt[0][0]                  \n",
            "                                                                 Day_flt[0][0]                    \n",
            "                                                                 DayOfWeek_flt[0][0]              \n",
            "                                                                 Month_flt[0][0]                  \n",
            "                                                                 State_flt[0][0]                  \n",
            "                                                                 CompetitionOpenSinceYear_flt[0][0\n",
            "                                                                 Promo2SinceYear_flt[0][0]        \n",
            "                                                                 Events_flt[0][0]                 \n",
            "                                                                 StateHoliday_flt[0][0]           \n",
            "                                                                 Assortment_flt[0][0]             \n",
            "                                                                 PromoInterval_flt[0][0]          \n",
            "                                                                 Year_flt[0][0]                   \n",
            "                                                                 CompetitionMonthsOpen_flt[0][0]  \n",
            "                                                                 StoreType_flt[0][0]              \n",
            "                                                                 Week_flt[0][0]                   \n",
            "                                                                 Promo2Weeks_flt[0][0]            \n",
            "                                                                 Promo_fw_flt[0][0]               \n",
            "                                                                 Promo_bw_flt[0][0]               \n",
            "                                                                 StateHoliday_fw_flt[0][0]        \n",
            "                                                                 StateHoliday_bw_flt[0][0]        \n",
            "                                                                 SchoolHoliday_fw_flt[0][0]       \n",
            "                                                                 SchoolHoliday_bw_flt[0][0]       \n",
            "                                                                 contin_d[0][0]                   \n",
            "__________________________________________________________________________________________________\n",
            "dropout (Dropout)               (None, 274)          0           concatenate[0][0]                \n",
            "__________________________________________________________________________________________________\n",
            "dense (Dense)                   (None, 1000)         275000      dropout[0][0]                    \n",
            "__________________________________________________________________________________________________\n",
            "dense_1 (Dense)                 (None, 500)          500500      dense[0][0]                      \n",
            "__________________________________________________________________________________________________\n",
            "dropout_1 (Dropout)             (None, 500)          0           dense_1[0][0]                    \n",
            "__________________________________________________________________________________________________\n",
            "dense_2 (Dense)                 (None, 1)            501         dropout_1[0][0]                  \n",
            "==================================================================================================\n",
            "Total params: 835,434\n",
            "Trainable params: 835,434\n",
            "Non-trainable params: 0\n",
            "__________________________________________________________________________________________________\n"
          ],
          "name": "stdout"
        }
      ]
    },
    {
      "cell_type": "code",
      "metadata": {
        "colab": {
          "base_uri": "https://localhost:8080/"
        },
        "id": "iakbEhTtLNRH",
        "outputId": "9afb4312-3781-446a-bac4-b1ffeffabeed"
      },
      "source": [
        "y_pred_norm = model.predict(map_valid, verbose=1)"
      ],
      "execution_count": null,
      "outputs": [
        {
          "output_type": "stream",
          "text": [
            "2639/2639 [==============================] - 10s 4ms/step\n"
          ],
          "name": "stdout"
        }
      ]
    },
    {
      "cell_type": "code",
      "metadata": {
        "id": "l5bKZ8yfNpGw"
      },
      "source": [
        "y_pred = np.exp(y_pred_norm * max_log_y)\n",
        "y_pred = y_pred[:,0]"
      ],
      "execution_count": null,
      "outputs": []
    },
    {
      "cell_type": "code",
      "metadata": {
        "colab": {
          "base_uri": "https://localhost:8080/"
        },
        "id": "ePt1D9z-VXVj",
        "outputId": "5ef2c8c6-e128-4eef-ba7e-d4517328c0fc"
      },
      "source": [
        "e_rmspe = rmspe(y_pred, y_valid_orig)\n",
        "print(e_rmspe)"
      ],
      "execution_count": null,
      "outputs": [
        {
          "output_type": "stream",
          "text": [
            "0.11881262545852418\n"
          ],
          "name": "stdout"
        }
      ]
    },
    {
      "cell_type": "code",
      "metadata": {
        "colab": {
          "base_uri": "https://localhost:8080/"
        },
        "id": "Bmws3lVInIYP",
        "outputId": "37f3a0e7-acef-4774-b982-28cad100910d"
      },
      "source": [
        "y_pred"
      ],
      "execution_count": null,
      "outputs": [
        {
          "output_type": "execute_result",
          "data": {
            "text/plain": [
              "array([14233.2  , 10528.638,  6219.59 , ..., 10704.123, 10007.719,\n",
              "        5648.04 ], dtype=float32)"
            ]
          },
          "metadata": {
            "tags": []
          },
          "execution_count": 179
        }
      ]
    },
    {
      "cell_type": "code",
      "metadata": {
        "colab": {
          "base_uri": "https://localhost:8080/"
        },
        "id": "YhqKrqlOnRnr",
        "outputId": "c079d5d9-6ad9-476a-85cc-02ca0de5f330"
      },
      "source": [
        "y_valid_orig"
      ],
      "execution_count": null,
      "outputs": [
        {
          "output_type": "execute_result",
          "data": {
            "text/plain": [
              "Date\n",
              "2015-05-02    17002\n",
              "2015-05-02    12465\n",
              "2015-05-02     6700\n",
              "2015-05-02     7218\n",
              "2015-05-02     6367\n",
              "              ...  \n",
              "2015-07-31     8363\n",
              "2015-07-31     9082\n",
              "2015-07-31    10708\n",
              "2015-07-31    11253\n",
              "2015-07-31     5263\n",
              "Name: Sales, Length: 84434, dtype: int64"
            ]
          },
          "metadata": {
            "tags": []
          },
          "execution_count": 180
        }
      ]
    },
    {
      "cell_type": "markdown",
      "metadata": {
        "id": "wi6cC-Nfk8so"
      },
      "source": [
        "# Arbol\n"
      ]
    },
    {
      "cell_type": "code",
      "metadata": {
        "id": "nf8VwoFKWQmY"
      },
      "source": [
        "X_train = np.concatenate([cat_map_train, contin_map_train], axis=1)\n"
      ],
      "execution_count": null,
      "outputs": []
    },
    {
      "cell_type": "code",
      "metadata": {
        "id": "eioCcKULliNj"
      },
      "source": [
        "X_valid = np.concatenate([cat_map_valid, contin_map_valid], axis=1)"
      ],
      "execution_count": null,
      "outputs": []
    },
    {
      "cell_type": "code",
      "metadata": {
        "id": "OW4INznklpLT"
      },
      "source": [
        "all_vars = cat_vars + contin_vars"
      ],
      "execution_count": null,
      "outputs": []
    },
    {
      "cell_type": "code",
      "metadata": {
        "id": "DltwwsfWlt9K"
      },
      "source": [
        "xgb_params = {'learning_rate': 0.1, 'subsample': 0.6, 'colsample_bylevel': 0.6, 'silent': True, 'objective': 'reg:linear'}"
      ],
      "execution_count": null,
      "outputs": []
    },
    {
      "cell_type": "code",
      "metadata": {
        "id": "1_HgiV9dl9Xs"
      },
      "source": [
        "xdata = xgboost.DMatrix(X_train, y_train, feature_names=all_vars)"
      ],
      "execution_count": null,
      "outputs": []
    },
    {
      "cell_type": "code",
      "metadata": {
        "id": "_wWCml3ImHwa"
      },
      "source": [
        "xdata_val = xgboost.DMatrix(X_valid, y_valid, feature_names=all_vars)"
      ],
      "execution_count": null,
      "outputs": []
    },
    {
      "cell_type": "code",
      "metadata": {
        "id": "VbO3RmLbmPy5"
      },
      "source": [
        "xgb_params['seed'] = random.randint(0, 1e9)\n",
        "model_xg = xgboost.train(xgb_params, xdata)"
      ],
      "execution_count": null,
      "outputs": []
    },
    {
      "cell_type": "code",
      "metadata": {
        "colab": {
          "base_uri": "https://localhost:8080/",
          "height": 35
        },
        "id": "cF5rLIE4mkDn",
        "outputId": "73afe5db-f264-4820-8036-0ac8c13bb498"
      },
      "source": [
        "model_xg.eval(xdata_val)"
      ],
      "execution_count": null,
      "outputs": [
        {
          "output_type": "execute_result",
          "data": {
            "application/vnd.google.colaboratory.intrinsic+json": {
              "type": "string"
            },
            "text/plain": [
              "'[0]\\teval-rmse:0.120569'"
            ]
          },
          "metadata": {
            "tags": []
          },
          "execution_count": 165
        }
      ]
    },
    {
      "cell_type": "code",
      "metadata": {
        "colab": {
          "base_uri": "https://localhost:8080/",
          "height": 638
        },
        "id": "Np8pJrbbm52f",
        "outputId": "2d70787c-69cf-4adf-c868-5fd6babcbe6d"
      },
      "source": [
        "importance = model_xg.get_fscore()\n",
        "importante = sorted(importance.items(), key=operator.itemgetter(1))\n",
        "\n",
        "df = pd.DataFrame(importante, columns=['feature', 'fscore'])\n",
        "df['fscore'] = df['fscore']/df['fscore'].sum()\n",
        "\n",
        "df.plot(kind = 'barh', x='feature', y='fscore', legend=False, figsize=(6,10))\n",
        "plt.title('XGBoost Feature Importante')\n",
        "plt.xlabel('Relative Importance')"
      ],
      "execution_count": null,
      "outputs": [
        {
          "output_type": "execute_result",
          "data": {
            "text/plain": [
              "Text(0.5, 0, 'Relative Importance')"
            ]
          },
          "metadata": {
            "tags": []
          },
          "execution_count": 166
        },
        {
          "output_type": "display_data",
          "data": {
            "image/png": "[encoded data removed]",
            "text/plain": [
              "<Figure size 432x720 with 1 Axes>"
            ]
          },
          "metadata": {
            "tags": [],
            "needs_background": "light"
          }
        }
      ]
    },
    {
      "cell_type": "code",
      "metadata": {
        "id": "0C4mGELOnCO-"
      },
      "source": [
        "y_pred_train_log = model_xg.predict(xdata)\n",
        "y_pred_val_log = model_xg.predict(xdata_val)"
      ],
      "execution_count": null,
      "outputs": []
    },
    {
      "cell_type": "code",
      "metadata": {
        "id": "RFom92oeudd-"
      },
      "source": [
        "y_pred_train = np.exp(y_pred_train_log*max_log_y)\n",
        "y_pred_val = np.exp(y_pred_val_log*max_log_y)"
      ],
      "execution_count": null,
      "outputs": []
    },
    {
      "cell_type": "code",
      "metadata": {
        "id": "tFp1qLbOpl2i"
      },
      "source": [
        "rmspe_train_log = rmspe(y_pred_train_log, y_train)\n",
        "rmspe_val_log = rmspe(y_pred_val_log, y_valid)\n"
      ],
      "execution_count": null,
      "outputs": []
    },
    {
      "cell_type": "code",
      "metadata": {
        "id": "uylHQgf_ZzL_"
      },
      "source": [
        "rmspe_train = rmspe(y_pred_train, y_train_orig)\n",
        "rmspe_val = rmspe(y_pred_val, y_valid_orig)"
      ],
      "execution_count": null,
      "outputs": []
    },
    {
      "cell_type": "code",
      "metadata": {
        "colab": {
          "base_uri": "https://localhost:8080/"
        },
        "id": "6g2tr_DoszgN",
        "outputId": "77aecc12-ed1f-4c0c-bfb1-d3e4c1cfd158"
      },
      "source": [
        "print(rmspe_train, rmspe_val)"
      ],
      "execution_count": null,
      "outputs": [
        {
          "output_type": "stream",
          "text": [
            "0.6904072198085287 0.7003903296959888\n"
          ],
          "name": "stdout"
        }
      ]
    },
    {
      "cell_type": "code",
      "metadata": {
        "colab": {
          "base_uri": "https://localhost:8080/"
        },
        "id": "3VUPaGRlZ608",
        "outputId": "0a74d1e2-02d8-4bba-da6a-5a5594041c78"
      },
      "source": [
        "print(rmspe_train_log, rmspe_val_log)"
      ],
      "execution_count": null,
      "outputs": [
        {
          "output_type": "stream",
          "text": [
            "0.13968447043972285 0.14288820699249205\n"
          ],
          "name": "stdout"
        }
      ]
    },
    {
      "cell_type": "code",
      "metadata": {
        "colab": {
          "base_uri": "https://localhost:8080/"
        },
        "id": "82GeaAFwt5ic",
        "outputId": "89cccb53-dfa0-4f36-80e7-ba4bb7b4359a"
      },
      "source": [
        "y_pred_val[1:5]"
      ],
      "execution_count": null,
      "outputs": [
        {
          "output_type": "execute_result",
          "data": {
            "text/plain": [
              "array([2026.8271, 1861.0042, 1835.4557, 1843.6774], dtype=float32)"
            ]
          },
          "metadata": {
            "tags": []
          },
          "execution_count": 181
        }
      ]
    },
    {
      "cell_type": "code",
      "metadata": {
        "colab": {
          "base_uri": "https://localhost:8080/"
        },
        "id": "3PsGd5hzt9Pg",
        "outputId": "68dd9210-1edc-421c-b88b-8d82cdbe6a06"
      },
      "source": [
        "y_valid_orig[1:5]"
      ],
      "execution_count": null,
      "outputs": [
        {
          "output_type": "execute_result",
          "data": {
            "text/plain": [
              "Date\n",
              "2015-05-02    12465\n",
              "2015-05-02     6700\n",
              "2015-05-02     7218\n",
              "2015-05-02     6367\n",
              "Name: Sales, dtype: int64"
            ]
          },
          "metadata": {
            "tags": []
          },
          "execution_count": 182
        }
      ]
    },
    {
      "cell_type": "code",
      "metadata": {
        "id": "id4wedlatSH6"
      },
      "source": [
        ""
      ],
      "execution_count": null,
      "outputs": []
    }
  ]
}