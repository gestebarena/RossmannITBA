{
  "nbformat": 4,
  "nbformat_minor": 0,
  "metadata": {
    "colab": {
      "name": "Combinar salidas Rossmann.ipynb",
      "provenance": []
    },
    "kernelspec": {
      "name": "python3",
      "display_name": "Python 3"
    },
    "language_info": {
      "name": "python"
    }
  },
  "cells": [
    {
      "cell_type": "code",
      "metadata": {
        "colab": {
          "base_uri": "https://localhost:8080/"
        },
        "id": "gaRvbXXnG5Il",
        "outputId": "e61d2e9e-1e31-42a7-8222-4779ec147a28"
      },
      "source": [
        "!pip install pandas_summary\n",
        "from google.colab import drive\n",
        "drive.mount('/content/drive')\n",
        "PATH = '/content/drive/MyDrive/Colab Notebooks/kaggle-rossmann/dataset/rossmann/'\n",
        "%cd '/content/drive/MyDrive/Colab Notebooks/kaggle-rossmann'"
      ],
      "execution_count": null,
      "outputs": [
        {
          "output_type": "stream",
          "text": [
            "Collecting pandas_summary\n",
            "  Downloading https://files.pythonhosted.org/packages/f5/20/865d4785f86e86f7ad7ebd52fc14810ef59ef13cd959f1363a2615d1c665/pandas_summary-0.0.7-py2.py3-none-any.whl\n",
            "Requirement already satisfied: numpy in /usr/local/lib/python3.7/dist-packages (from pandas_summary) (1.19.5)\n",
            "Requirement already satisfied: pandas in /usr/local/lib/python3.7/dist-packages (from pandas_summary) (1.1.5)\n",
            "Requirement already satisfied: python-dateutil>=2.7.3 in /usr/local/lib/python3.7/dist-packages (from pandas->pandas_summary) (2.8.1)\n",
            "Requirement already satisfied: pytz>=2017.2 in /usr/local/lib/python3.7/dist-packages (from pandas->pandas_summary) (2018.9)\n",
            "Requirement already satisfied: six>=1.5 in /usr/local/lib/python3.7/dist-packages (from python-dateutil>=2.7.3->pandas->pandas_summary) (1.15.0)\n",
            "Installing collected packages: pandas-summary\n",
            "Successfully installed pandas-summary-0.0.7\n",
            "Mounted at /content/drive\n",
            "/content/drive/MyDrive/Colab Notebooks/kaggle-rossmann\n"
          ],
          "name": "stdout"
        }
      ]
    },
    {
      "cell_type": "code",
      "metadata": {
        "id": "Yvul1QnE7fiP"
      },
      "source": [
        "%matplotlib inline"
      ],
      "execution_count": null,
      "outputs": []
    },
    {
      "cell_type": "code",
      "metadata": {
        "colab": {
          "base_uri": "https://localhost:8080/"
        },
        "id": "OFu_8vua7j9Q",
        "outputId": "5eedd9c7-badb-4e51-8ff9-62ae5ee9eb8e"
      },
      "source": [
        "!pip install isoweek\n",
        "\n",
        "import math, keras, datetime, pandas as pd, numpy as np, keras.backend as K\n",
        "import matplotlib.pyplot as plt, xgboost, operator, random, pickle\n",
        "from isoweek import Week"
      ],
      "execution_count": null,
      "outputs": [
        {
          "output_type": "stream",
          "text": [
            "Collecting isoweek\n",
            "  Downloading https://files.pythonhosted.org/packages/c2/d4/fe7e2637975c476734fcbf53776e650a29680194eb0dd21dbdc020ca92de/isoweek-1.3.3-py2.py3-none-any.whl\n",
            "Installing collected packages: isoweek\n",
            "Successfully installed isoweek-1.3.3\n"
          ],
          "name": "stdout"
        }
      ]
    },
    {
      "cell_type": "code",
      "metadata": {
        "colab": {
          "base_uri": "https://localhost:8080/"
        },
        "id": "GCdHsGXsvC01",
        "outputId": "710aa600-b728-46c8-f222-4a38d5b25e4a"
      },
      "source": [
        "import pandas as pd\n",
        "!pip install pandas_summary\n",
        "from pandas_summary import DataFrameSummary"
      ],
      "execution_count": null,
      "outputs": [
        {
          "output_type": "stream",
          "text": [
            "Requirement already satisfied: pandas_summary in /usr/local/lib/python3.7/dist-packages (0.0.7)\n",
            "Requirement already satisfied: numpy in /usr/local/lib/python3.7/dist-packages (from pandas_summary) (1.19.5)\n",
            "Requirement already satisfied: pandas in /usr/local/lib/python3.7/dist-packages (from pandas_summary) (1.1.5)\n",
            "Requirement already satisfied: python-dateutil>=2.7.3 in /usr/local/lib/python3.7/dist-packages (from pandas->pandas_summary) (2.8.1)\n",
            "Requirement already satisfied: pytz>=2017.2 in /usr/local/lib/python3.7/dist-packages (from pandas->pandas_summary) (2018.9)\n",
            "Requirement already satisfied: six>=1.5 in /usr/local/lib/python3.7/dist-packages (from python-dateutil>=2.7.3->pandas->pandas_summary) (1.15.0)\n"
          ],
          "name": "stdout"
        }
      ]
    },
    {
      "cell_type": "code",
      "metadata": {
        "id": "mI1Y7HvmHRjX"
      },
      "source": [
        "sample_csv = pd.read_csv('dataset/rossmann/sample_submission.csv')\n",
        "#sample_csv['Sales'] = y_pred_test\n",
        "#sample_csv.head()\n",
        "\n",
        "#sample_csv.to_csv(f'submision_lGBM_full.csv', index=False)"
      ],
      "execution_count": null,
      "outputs": []
    },
    {
      "cell_type": "code",
      "metadata": {
        "colab": {
          "base_uri": "https://localhost:8080/",
          "height": 419
        },
        "id": "0OtNSDGfHklY",
        "outputId": "25bf30a2-c7b8-461b-8324-03724f2b46d9"
      },
      "source": [
        "sample_csv"
      ],
      "execution_count": null,
      "outputs": [
        {
          "output_type": "execute_result",
          "data": {
            "text/html": [
              "<div>\n",
              "<style scoped>\n",
              "    .dataframe tbody tr th:only-of-type {\n",
              "        vertical-align: middle;\n",
              "    }\n",
              "\n",
              "    .dataframe tbody tr th {\n",
              "        vertical-align: top;\n",
              "    }\n",
              "\n",
              "    .dataframe thead th {\n",
              "        text-align: right;\n",
              "    }\n",
              "</style>\n",
              "<table border=\"1\" class=\"dataframe\">\n",
              "  <thead>\n",
              "    <tr style=\"text-align: right;\">\n",
              "      <th></th>\n",
              "      <th>Id</th>\n",
              "      <th>Sales</th>\n",
              "    </tr>\n",
              "  </thead>\n",
              "  <tbody>\n",
              "    <tr>\n",
              "      <th>0</th>\n",
              "      <td>1</td>\n",
              "      <td>0</td>\n",
              "    </tr>\n",
              "    <tr>\n",
              "      <th>1</th>\n",
              "      <td>2</td>\n",
              "      <td>0</td>\n",
              "    </tr>\n",
              "    <tr>\n",
              "      <th>2</th>\n",
              "      <td>3</td>\n",
              "      <td>0</td>\n",
              "    </tr>\n",
              "    <tr>\n",
              "      <th>3</th>\n",
              "      <td>4</td>\n",
              "      <td>0</td>\n",
              "    </tr>\n",
              "    <tr>\n",
              "      <th>4</th>\n",
              "      <td>5</td>\n",
              "      <td>0</td>\n",
              "    </tr>\n",
              "    <tr>\n",
              "      <th>...</th>\n",
              "      <td>...</td>\n",
              "      <td>...</td>\n",
              "    </tr>\n",
              "    <tr>\n",
              "      <th>41083</th>\n",
              "      <td>41084</td>\n",
              "      <td>0</td>\n",
              "    </tr>\n",
              "    <tr>\n",
              "      <th>41084</th>\n",
              "      <td>41085</td>\n",
              "      <td>0</td>\n",
              "    </tr>\n",
              "    <tr>\n",
              "      <th>41085</th>\n",
              "      <td>41086</td>\n",
              "      <td>0</td>\n",
              "    </tr>\n",
              "    <tr>\n",
              "      <th>41086</th>\n",
              "      <td>41087</td>\n",
              "      <td>0</td>\n",
              "    </tr>\n",
              "    <tr>\n",
              "      <th>41087</th>\n",
              "      <td>41088</td>\n",
              "      <td>0</td>\n",
              "    </tr>\n",
              "  </tbody>\n",
              "</table>\n",
              "<p>41088 rows × 2 columns</p>\n",
              "</div>"
            ],
            "text/plain": [
              "          Id  Sales\n",
              "0          1      0\n",
              "1          2      0\n",
              "2          3      0\n",
              "3          4      0\n",
              "4          5      0\n",
              "...      ...    ...\n",
              "41083  41084      0\n",
              "41084  41085      0\n",
              "41085  41086      0\n",
              "41086  41087      0\n",
              "41087  41088      0\n",
              "\n",
              "[41088 rows x 2 columns]"
            ]
          },
          "metadata": {
            "tags": []
          },
          "execution_count": 8
        }
      ]
    },
    {
      "cell_type": "code",
      "metadata": {
        "id": "gWVJRYEFHpnA"
      },
      "source": [
        "model_1 = pd.read_csv('submision_True-5-4000-0.05.csv')\n",
        "model_2 = pd.read_csv('submission_MLP_video.csv')\n",
        "model_3 = pd.read_csv('submision_lightgbm_last_week-True-5-4000-0.1.csv')\n"
      ],
      "execution_count": null,
      "outputs": []
    },
    {
      "cell_type": "code",
      "metadata": {
        "colab": {
          "base_uri": "https://localhost:8080/",
          "height": 419
        },
        "id": "qIFCamNiIGps",
        "outputId": "3b4d51b0-6f53-4da8-b2e9-96fd75093bc7"
      },
      "source": [
        "model_1"
      ],
      "execution_count": null,
      "outputs": [
        {
          "output_type": "execute_result",
          "data": {
            "text/html": [
              "<div>\n",
              "<style scoped>\n",
              "    .dataframe tbody tr th:only-of-type {\n",
              "        vertical-align: middle;\n",
              "    }\n",
              "\n",
              "    .dataframe tbody tr th {\n",
              "        vertical-align: top;\n",
              "    }\n",
              "\n",
              "    .dataframe thead th {\n",
              "        text-align: right;\n",
              "    }\n",
              "</style>\n",
              "<table border=\"1\" class=\"dataframe\">\n",
              "  <thead>\n",
              "    <tr style=\"text-align: right;\">\n",
              "      <th></th>\n",
              "      <th>Id</th>\n",
              "      <th>Sales</th>\n",
              "    </tr>\n",
              "  </thead>\n",
              "  <tbody>\n",
              "    <tr>\n",
              "      <th>0</th>\n",
              "      <td>1</td>\n",
              "      <td>3650.224443</td>\n",
              "    </tr>\n",
              "    <tr>\n",
              "      <th>1</th>\n",
              "      <td>2</td>\n",
              "      <td>6640.397895</td>\n",
              "    </tr>\n",
              "    <tr>\n",
              "      <th>2</th>\n",
              "      <td>3</td>\n",
              "      <td>8284.478909</td>\n",
              "    </tr>\n",
              "    <tr>\n",
              "      <th>3</th>\n",
              "      <td>4</td>\n",
              "      <td>6349.246852</td>\n",
              "    </tr>\n",
              "    <tr>\n",
              "      <th>4</th>\n",
              "      <td>5</td>\n",
              "      <td>6653.195485</td>\n",
              "    </tr>\n",
              "    <tr>\n",
              "      <th>...</th>\n",
              "      <td>...</td>\n",
              "      <td>...</td>\n",
              "    </tr>\n",
              "    <tr>\n",
              "      <th>41083</th>\n",
              "      <td>41084</td>\n",
              "      <td>2961.708152</td>\n",
              "    </tr>\n",
              "    <tr>\n",
              "      <th>41084</th>\n",
              "      <td>41085</td>\n",
              "      <td>7494.871022</td>\n",
              "    </tr>\n",
              "    <tr>\n",
              "      <th>41085</th>\n",
              "      <td>41086</td>\n",
              "      <td>5600.542732</td>\n",
              "    </tr>\n",
              "    <tr>\n",
              "      <th>41086</th>\n",
              "      <td>41087</td>\n",
              "      <td>27502.470700</td>\n",
              "    </tr>\n",
              "    <tr>\n",
              "      <th>41087</th>\n",
              "      <td>41088</td>\n",
              "      <td>6920.422543</td>\n",
              "    </tr>\n",
              "  </tbody>\n",
              "</table>\n",
              "<p>41088 rows × 2 columns</p>\n",
              "</div>"
            ],
            "text/plain": [
              "          Id         Sales\n",
              "0          1   3650.224443\n",
              "1          2   6640.397895\n",
              "2          3   8284.478909\n",
              "3          4   6349.246852\n",
              "4          5   6653.195485\n",
              "...      ...           ...\n",
              "41083  41084   2961.708152\n",
              "41084  41085   7494.871022\n",
              "41085  41086   5600.542732\n",
              "41086  41087  27502.470700\n",
              "41087  41088   6920.422543\n",
              "\n",
              "[41088 rows x 2 columns]"
            ]
          },
          "metadata": {
            "tags": []
          },
          "execution_count": 45
        }
      ]
    },
    {
      "cell_type": "code",
      "metadata": {
        "id": "96cg2qcLI8oW"
      },
      "source": [
        "combination = model_1.merge(model_2, how='left', left_on='Id', right_on='Id', suffixes=(\"1\", \"2\"))"
      ],
      "execution_count": null,
      "outputs": []
    },
    {
      "cell_type": "code",
      "metadata": {
        "id": "TiYLE4ffJVDA"
      },
      "source": [
        "combination = combination.merge(model_3, how='left', left_on='Id', right_on='Id', suffixes=(\"\", \"3\"))"
      ],
      "execution_count": null,
      "outputs": []
    },
    {
      "cell_type": "code",
      "metadata": {
        "colab": {
          "base_uri": "https://localhost:8080/",
          "height": 419
        },
        "id": "kz_ub5_4Ixwn",
        "outputId": "67507e60-5251-44b8-ad2c-cbc341cb1a8c"
      },
      "source": [
        "combination"
      ],
      "execution_count": null,
      "outputs": [
        {
          "output_type": "execute_result",
          "data": {
            "text/html": [
              "<div>\n",
              "<style scoped>\n",
              "    .dataframe tbody tr th:only-of-type {\n",
              "        vertical-align: middle;\n",
              "    }\n",
              "\n",
              "    .dataframe tbody tr th {\n",
              "        vertical-align: top;\n",
              "    }\n",
              "\n",
              "    .dataframe thead th {\n",
              "        text-align: right;\n",
              "    }\n",
              "</style>\n",
              "<table border=\"1\" class=\"dataframe\">\n",
              "  <thead>\n",
              "    <tr style=\"text-align: right;\">\n",
              "      <th></th>\n",
              "      <th>Id</th>\n",
              "      <th>Sales1</th>\n",
              "      <th>Sales2</th>\n",
              "      <th>Sales</th>\n",
              "    </tr>\n",
              "  </thead>\n",
              "  <tbody>\n",
              "    <tr>\n",
              "      <th>0</th>\n",
              "      <td>1</td>\n",
              "      <td>3650.224443</td>\n",
              "      <td>4312.6694</td>\n",
              "      <td>3947.392046</td>\n",
              "    </tr>\n",
              "    <tr>\n",
              "      <th>1</th>\n",
              "      <td>2</td>\n",
              "      <td>6640.397895</td>\n",
              "      <td>7083.7764</td>\n",
              "      <td>7203.561734</td>\n",
              "    </tr>\n",
              "    <tr>\n",
              "      <th>2</th>\n",
              "      <td>3</td>\n",
              "      <td>8284.478909</td>\n",
              "      <td>8581.2910</td>\n",
              "      <td>9058.286732</td>\n",
              "    </tr>\n",
              "    <tr>\n",
              "      <th>3</th>\n",
              "      <td>4</td>\n",
              "      <td>6349.246852</td>\n",
              "      <td>7466.6055</td>\n",
              "      <td>7366.881193</td>\n",
              "    </tr>\n",
              "    <tr>\n",
              "      <th>4</th>\n",
              "      <td>5</td>\n",
              "      <td>6653.195485</td>\n",
              "      <td>6833.3203</td>\n",
              "      <td>7745.838247</td>\n",
              "    </tr>\n",
              "    <tr>\n",
              "      <th>...</th>\n",
              "      <td>...</td>\n",
              "      <td>...</td>\n",
              "      <td>...</td>\n",
              "      <td>...</td>\n",
              "    </tr>\n",
              "    <tr>\n",
              "      <th>41083</th>\n",
              "      <td>41084</td>\n",
              "      <td>2961.708152</td>\n",
              "      <td>3233.5042</td>\n",
              "      <td>3069.909554</td>\n",
              "    </tr>\n",
              "    <tr>\n",
              "      <th>41084</th>\n",
              "      <td>41085</td>\n",
              "      <td>7494.871022</td>\n",
              "      <td>8117.4700</td>\n",
              "      <td>7782.204325</td>\n",
              "    </tr>\n",
              "    <tr>\n",
              "      <th>41085</th>\n",
              "      <td>41086</td>\n",
              "      <td>5600.542732</td>\n",
              "      <td>6671.3228</td>\n",
              "      <td>6085.275087</td>\n",
              "    </tr>\n",
              "    <tr>\n",
              "      <th>41086</th>\n",
              "      <td>41087</td>\n",
              "      <td>27502.470700</td>\n",
              "      <td>23580.9240</td>\n",
              "      <td>24736.060053</td>\n",
              "    </tr>\n",
              "    <tr>\n",
              "      <th>41087</th>\n",
              "      <td>41088</td>\n",
              "      <td>6920.422543</td>\n",
              "      <td>10617.5710</td>\n",
              "      <td>7119.050059</td>\n",
              "    </tr>\n",
              "  </tbody>\n",
              "</table>\n",
              "<p>41088 rows × 4 columns</p>\n",
              "</div>"
            ],
            "text/plain": [
              "          Id        Sales1      Sales2         Sales\n",
              "0          1   3650.224443   4312.6694   3947.392046\n",
              "1          2   6640.397895   7083.7764   7203.561734\n",
              "2          3   8284.478909   8581.2910   9058.286732\n",
              "3          4   6349.246852   7466.6055   7366.881193\n",
              "4          5   6653.195485   6833.3203   7745.838247\n",
              "...      ...           ...         ...           ...\n",
              "41083  41084   2961.708152   3233.5042   3069.909554\n",
              "41084  41085   7494.871022   8117.4700   7782.204325\n",
              "41085  41086   5600.542732   6671.3228   6085.275087\n",
              "41086  41087  27502.470700  23580.9240  24736.060053\n",
              "41087  41088   6920.422543  10617.5710   7119.050059\n",
              "\n",
              "[41088 rows x 4 columns]"
            ]
          },
          "metadata": {
            "tags": []
          },
          "execution_count": 55
        }
      ]
    },
    {
      "cell_type": "code",
      "metadata": {
        "id": "-d95BOFzJSA8"
      },
      "source": [
        "combination['SalesAVG'] = (combination['Sales1']+combination['Sales2']+combination['Sales'])/3\n",
        "#combination['SalesAVG'] = (combination['Sales1']+combination['Sales2'])/2"
      ],
      "execution_count": null,
      "outputs": []
    },
    {
      "cell_type": "code",
      "metadata": {
        "colab": {
          "base_uri": "https://localhost:8080/",
          "height": 419
        },
        "id": "b8pyLYcnKK3C",
        "outputId": "01acbf6f-5e98-4844-e31c-a69a4adf398a"
      },
      "source": [
        "combination"
      ],
      "execution_count": null,
      "outputs": [
        {
          "output_type": "execute_result",
          "data": {
            "text/html": [
              "<div>\n",
              "<style scoped>\n",
              "    .dataframe tbody tr th:only-of-type {\n",
              "        vertical-align: middle;\n",
              "    }\n",
              "\n",
              "    .dataframe tbody tr th {\n",
              "        vertical-align: top;\n",
              "    }\n",
              "\n",
              "    .dataframe thead th {\n",
              "        text-align: right;\n",
              "    }\n",
              "</style>\n",
              "<table border=\"1\" class=\"dataframe\">\n",
              "  <thead>\n",
              "    <tr style=\"text-align: right;\">\n",
              "      <th></th>\n",
              "      <th>Id</th>\n",
              "      <th>Sales1</th>\n",
              "      <th>Sales2</th>\n",
              "      <th>Sales</th>\n",
              "      <th>SalesAVG</th>\n",
              "    </tr>\n",
              "  </thead>\n",
              "  <tbody>\n",
              "    <tr>\n",
              "      <th>0</th>\n",
              "      <td>1</td>\n",
              "      <td>3650.224443</td>\n",
              "      <td>4312.6694</td>\n",
              "      <td>3947.392046</td>\n",
              "      <td>3970.095296</td>\n",
              "    </tr>\n",
              "    <tr>\n",
              "      <th>1</th>\n",
              "      <td>2</td>\n",
              "      <td>6640.397895</td>\n",
              "      <td>7083.7764</td>\n",
              "      <td>7203.561734</td>\n",
              "      <td>6975.912010</td>\n",
              "    </tr>\n",
              "    <tr>\n",
              "      <th>2</th>\n",
              "      <td>3</td>\n",
              "      <td>8284.478909</td>\n",
              "      <td>8581.2910</td>\n",
              "      <td>9058.286732</td>\n",
              "      <td>8641.352213</td>\n",
              "    </tr>\n",
              "    <tr>\n",
              "      <th>3</th>\n",
              "      <td>4</td>\n",
              "      <td>6349.246852</td>\n",
              "      <td>7466.6055</td>\n",
              "      <td>7366.881193</td>\n",
              "      <td>7060.911182</td>\n",
              "    </tr>\n",
              "    <tr>\n",
              "      <th>4</th>\n",
              "      <td>5</td>\n",
              "      <td>6653.195485</td>\n",
              "      <td>6833.3203</td>\n",
              "      <td>7745.838247</td>\n",
              "      <td>7077.451344</td>\n",
              "    </tr>\n",
              "    <tr>\n",
              "      <th>...</th>\n",
              "      <td>...</td>\n",
              "      <td>...</td>\n",
              "      <td>...</td>\n",
              "      <td>...</td>\n",
              "      <td>...</td>\n",
              "    </tr>\n",
              "    <tr>\n",
              "      <th>41083</th>\n",
              "      <td>41084</td>\n",
              "      <td>2961.708152</td>\n",
              "      <td>3233.5042</td>\n",
              "      <td>3069.909554</td>\n",
              "      <td>3088.373969</td>\n",
              "    </tr>\n",
              "    <tr>\n",
              "      <th>41084</th>\n",
              "      <td>41085</td>\n",
              "      <td>7494.871022</td>\n",
              "      <td>8117.4700</td>\n",
              "      <td>7782.204325</td>\n",
              "      <td>7798.181782</td>\n",
              "    </tr>\n",
              "    <tr>\n",
              "      <th>41085</th>\n",
              "      <td>41086</td>\n",
              "      <td>5600.542732</td>\n",
              "      <td>6671.3228</td>\n",
              "      <td>6085.275087</td>\n",
              "      <td>6119.046873</td>\n",
              "    </tr>\n",
              "    <tr>\n",
              "      <th>41086</th>\n",
              "      <td>41087</td>\n",
              "      <td>27502.470700</td>\n",
              "      <td>23580.9240</td>\n",
              "      <td>24736.060053</td>\n",
              "      <td>25273.151584</td>\n",
              "    </tr>\n",
              "    <tr>\n",
              "      <th>41087</th>\n",
              "      <td>41088</td>\n",
              "      <td>6920.422543</td>\n",
              "      <td>10617.5710</td>\n",
              "      <td>7119.050059</td>\n",
              "      <td>8219.014534</td>\n",
              "    </tr>\n",
              "  </tbody>\n",
              "</table>\n",
              "<p>41088 rows × 5 columns</p>\n",
              "</div>"
            ],
            "text/plain": [
              "          Id        Sales1      Sales2         Sales      SalesAVG\n",
              "0          1   3650.224443   4312.6694   3947.392046   3970.095296\n",
              "1          2   6640.397895   7083.7764   7203.561734   6975.912010\n",
              "2          3   8284.478909   8581.2910   9058.286732   8641.352213\n",
              "3          4   6349.246852   7466.6055   7366.881193   7060.911182\n",
              "4          5   6653.195485   6833.3203   7745.838247   7077.451344\n",
              "...      ...           ...         ...           ...           ...\n",
              "41083  41084   2961.708152   3233.5042   3069.909554   3088.373969\n",
              "41084  41085   7494.871022   8117.4700   7782.204325   7798.181782\n",
              "41085  41086   5600.542732   6671.3228   6085.275087   6119.046873\n",
              "41086  41087  27502.470700  23580.9240  24736.060053  25273.151584\n",
              "41087  41088   6920.422543  10617.5710   7119.050059   8219.014534\n",
              "\n",
              "[41088 rows x 5 columns]"
            ]
          },
          "metadata": {
            "tags": []
          },
          "execution_count": 57
        }
      ]
    },
    {
      "cell_type": "code",
      "metadata": {
        "colab": {
          "base_uri": "https://localhost:8080/"
        },
        "id": "H0vJdyAEKa4Q",
        "outputId": "5c759afa-feef-4bdf-88fa-bc3166d832b9"
      },
      "source": [
        "combination['SalesAVG']"
      ],
      "execution_count": null,
      "outputs": [
        {
          "output_type": "execute_result",
          "data": {
            "text/plain": [
              "0         4470.255233\n",
              "1         7437.302489\n",
              "2         8423.261050\n",
              "3         7292.600645\n",
              "4         7234.313338\n",
              "             ...     \n",
              "41083     3500.504303\n",
              "41084     8608.815628\n",
              "41085     6809.745352\n",
              "41086    23153.479124\n",
              "41087     8671.540145\n",
              "Name: SalesAVG, Length: 41088, dtype: float64"
            ]
          },
          "metadata": {
            "tags": []
          },
          "execution_count": 29
        }
      ]
    },
    {
      "cell_type": "code",
      "metadata": {
        "id": "FGLB8MY4KQes"
      },
      "source": [
        "sample_csv = pd.read_csv('dataset/rossmann/sample_submission.csv')\n",
        "sample_csv['Sales'] = combination['SalesAVG']\n",
        "sample_csv.head()\n",
        "\n",
        "sample_csv.to_csv(f'submision_avg.csv', index=False)"
      ],
      "execution_count": null,
      "outputs": []
    },
    {
      "cell_type": "code",
      "metadata": {
        "id": "_FkUMuNqKiOW"
      },
      "source": [
        ""
      ],
      "execution_count": null,
      "outputs": []
    }
  ]
}