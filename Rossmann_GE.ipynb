{
  "nbformat": 4,
  "nbformat_minor": 0,
  "metadata": {
    "kernelspec": {
      "display_name": "Python 3",
      "language": "python",
      "name": "python3"
    },
    "language_info": {
      "codemirror_mode": {
        "name": "ipython",
        "version": 3
      },
      "file_extension": ".py",
      "mimetype": "text/x-python",
      "name": "python",
      "nbconvert_exporter": "python",
      "pygments_lexer": "ipython3",
      "version": "3.6.10"
    },
    "colab": {
      "name": "Rossmann-GE.ipynb",
      "provenance": [],
      "collapsed_sections": [
        "ZQCu7TeGk-ci"
      ]
    },
    "accelerator": "GPU"
  },
  "cells": [
    {
      "cell_type": "code",
      "metadata": {
        "id": "Yvul1QnE7fiP"
      },
      "source": [
        "%matplotlib inline"
      ],
      "execution_count": null,
      "outputs": []
    },
    {
      "cell_type": "code",
      "metadata": {
        "colab": {
          "base_uri": "https://localhost:8080/"
        },
        "id": "OFu_8vua7j9Q",
        "outputId": "b21a331e-92e3-41fa-ce06-ce32d4a7f6e5"
      },
      "source": [
        "!pip install isoweek\n",
        "\n",
        "import math, keras, datetime, pandas as pd, numpy as np, keras.backend as K\n",
        "import matplotlib.pyplot as plt, xgboost, operator, random, pickle\n",
        "from isoweek import Week"
      ],
      "execution_count": null,
      "outputs": [
        {
          "output_type": "stream",
          "text": [
            "Collecting isoweek\n",
            "  Downloading https://files.pythonhosted.org/packages/c2/d4/fe7e2637975c476734fcbf53776e650a29680194eb0dd21dbdc020ca92de/isoweek-1.3.3-py2.py3-none-any.whl\n",
            "Installing collected packages: isoweek\n",
            "Successfully installed isoweek-1.3.3\n"
          ],
          "name": "stdout"
        }
      ]
    },
    {
      "cell_type": "code",
      "metadata": {
        "colab": {
          "base_uri": "https://localhost:8080/"
        },
        "id": "1VTubGWHva7r",
        "outputId": "26f47ae4-4151-4ead-8736-b5afcd1237a8"
      },
      "source": [
        "from google.colab import drive\n",
        "drive.mount('/content/drive')\n",
        "PATH = '/content/drive/MyDrive/Colab Notebooks/kaggle-rossmann/dataset/rossmann/'\n",
        "%cd '/content/drive/MyDrive/Colab Notebooks/kaggle-rossmann'"
      ],
      "execution_count": null,
      "outputs": [
        {
          "output_type": "stream",
          "text": [
            "Mounted at /content/drive\n",
            "/content/drive/MyDrive/Colab Notebooks/kaggle-rossmann\n"
          ],
          "name": "stdout"
        }
      ]
    },
    {
      "cell_type": "code",
      "metadata": {
        "colab": {
          "base_uri": "https://localhost:8080/"
        },
        "id": "GCdHsGXsvC01",
        "outputId": "78cedf5f-0a10-4bce-be5a-02cce729b4e2"
      },
      "source": [
        "import pandas as pd\n",
        "!pip install pandas_summary\n",
        "from pandas_summary import DataFrameSummary"
      ],
      "execution_count": null,
      "outputs": [
        {
          "output_type": "stream",
          "text": [
            "Collecting pandas_summary\n",
            "  Downloading https://files.pythonhosted.org/packages/f5/20/865d4785f86e86f7ad7ebd52fc14810ef59ef13cd959f1363a2615d1c665/pandas_summary-0.0.7-py2.py3-none-any.whl\n",
            "Requirement already satisfied: numpy in /usr/local/lib/python3.7/dist-packages (from pandas_summary) (1.19.5)\n",
            "Requirement already satisfied: pandas in /usr/local/lib/python3.7/dist-packages (from pandas_summary) (1.1.5)\n",
            "Requirement already satisfied: pytz>=2017.2 in /usr/local/lib/python3.7/dist-packages (from pandas->pandas_summary) (2018.9)\n",
            "Requirement already satisfied: python-dateutil>=2.7.3 in /usr/local/lib/python3.7/dist-packages (from pandas->pandas_summary) (2.8.1)\n",
            "Requirement already satisfied: six>=1.5 in /usr/local/lib/python3.7/dist-packages (from python-dateutil>=2.7.3->pandas->pandas_summary) (1.15.0)\n",
            "Installing collected packages: pandas-summary\n",
            "Successfully installed pandas-summary-0.0.7\n"
          ],
          "name": "stdout"
        }
      ]
    },
    {
      "cell_type": "markdown",
      "metadata": {
        "id": "49_6RW2dvC06"
      },
      "source": [
        "# Competencia de Kaggle\n",
        "\n",
        "[ir a Kaggle](https://www.kaggle.com/c/rossmann-store-sales/data)\n",
        "\n",
        "[3er puesto](https://github.com/entron/entity-embedding-rossmann)"
      ]
    },
    {
      "cell_type": "markdown",
      "metadata": {
        "id": "Wb5OV3vnvC07"
      },
      "source": [
        "# Métrica de la competencia"
      ]
    },
    {
      "cell_type": "markdown",
      "metadata": {
        "id": "O6-z-VwwvC07"
      },
      "source": [
        "$$\n",
        "\\textrm{RMSPE} = \\sqrt{\\frac{1}{n} \\sum_{i=1}^{n} \\left(\\frac{\\hat{y}_i - y_i}{y_i}\\right)^2}\n",
        "$$\n",
        "\n",
        "donde:\n",
        "\n",
        "- $y_i$ las ventas de un día particular de un store\n",
        "- $\\hat{y}_i$ ventas estimadas por el modelo\n",
        "- $n$ es el número de predicciones realizadas"
      ]
    },
    {
      "cell_type": "code",
      "metadata": {
        "id": "K381TAKXk3pH"
      },
      "source": [
        ""
      ],
      "execution_count": null,
      "outputs": []
    },
    {
      "cell_type": "markdown",
      "metadata": {
        "id": "Ld-3wTsBvC08"
      },
      "source": [
        "# Importamos dataset"
      ]
    },
    {
      "cell_type": "markdown",
      "metadata": {
        "id": "lAkFR9I5vC08"
      },
      "source": [
        "La competencia permitía agregar datos externos para realizar la predicción"
      ]
    },
    {
      "cell_type": "markdown",
      "metadata": {
        "id": "2au3zZMNvC08"
      },
      "source": [
        "The following tables are available in the datasets:\n",
        "\n",
        "| Archivo      | Descripción| Origen de Datos|\n",
        "|--------------|--------------------------------------------------------------------|--|\n",
        "| train.csv        | training set: información del store día a día, ventas, clientes, si es feriado, etc | Kaggle |\n",
        "| store.csv       | Información general del store, por ejemplo datos del competidor | Kaggle |\n",
        "| store_states.csv | Mapea de store a estado - Dato externo| Externos |\n",
        "| state_names.csv  | Mapea estados a acronimo de estado | Externos |\n",
        "| googletrend.csv  | Tendencias por semana - Dato externo| Externos|\n",
        "| weather.csv      | Condiciones meteorológicas por día | Externos|"
      ]
    },
    {
      "cell_type": "code",
      "metadata": {
        "id": "IpW1UtqTvC09"
      },
      "source": [
        "table_names = ['train', 'test', 'store', 'store_states', 'state_names', 'googletrend', 'weather']\n",
        "train, test, store, store_states, state_names, googletrend, weather = [pd.read_csv(PATH + fname+'.csv', \n",
        "                                                                             low_memory=False) for fname in table_names]"
      ],
      "execution_count": null,
      "outputs": []
    },
    {
      "cell_type": "markdown",
      "metadata": {
        "id": "ZQCu7TeGk-ci"
      },
      "source": [
        "# Data visualization"
      ]
    },
    {
      "cell_type": "code",
      "metadata": {
        "id": "pEi7gGUXvC09",
        "colab": {
          "base_uri": "https://localhost:8080/"
        },
        "outputId": "cc8448ac-5fa8-41aa-fba2-430dd16ed68f"
      },
      "source": [
        "display(train.head())\n",
        "display(DataFrameSummary(train).summary())"
      ],
      "execution_count": null,
      "outputs": [
        {
          "output_type": "display_data",
          "data": {
            "text/html": [
              "<div>\n",
              "<style scoped>\n",
              "    .dataframe tbody tr th:only-of-type {\n",
              "        vertical-align: middle;\n",
              "    }\n",
              "\n",
              "    .dataframe tbody tr th {\n",
              "        vertical-align: top;\n",
              "    }\n",
              "\n",
              "    .dataframe thead th {\n",
              "        text-align: right;\n",
              "    }\n",
              "</style>\n",
              "<table border=\"1\" class=\"dataframe\">\n",
              "  <thead>\n",
              "    <tr style=\"text-align: right;\">\n",
              "      <th></th>\n",
              "      <th>Store</th>\n",
              "      <th>DayOfWeek</th>\n",
              "      <th>Date</th>\n",
              "      <th>Sales</th>\n",
              "      <th>Customers</th>\n",
              "      <th>Open</th>\n",
              "      <th>Promo</th>\n",
              "      <th>StateHoliday</th>\n",
              "      <th>SchoolHoliday</th>\n",
              "    </tr>\n",
              "  </thead>\n",
              "  <tbody>\n",
              "    <tr>\n",
              "      <th>0</th>\n",
              "      <td>1</td>\n",
              "      <td>5</td>\n",
              "      <td>2015-07-31</td>\n",
              "      <td>5263</td>\n",
              "      <td>555</td>\n",
              "      <td>1</td>\n",
              "      <td>1</td>\n",
              "      <td>0</td>\n",
              "      <td>1</td>\n",
              "    </tr>\n",
              "    <tr>\n",
              "      <th>1</th>\n",
              "      <td>2</td>\n",
              "      <td>5</td>\n",
              "      <td>2015-07-31</td>\n",
              "      <td>6064</td>\n",
              "      <td>625</td>\n",
              "      <td>1</td>\n",
              "      <td>1</td>\n",
              "      <td>0</td>\n",
              "      <td>1</td>\n",
              "    </tr>\n",
              "    <tr>\n",
              "      <th>2</th>\n",
              "      <td>3</td>\n",
              "      <td>5</td>\n",
              "      <td>2015-07-31</td>\n",
              "      <td>8314</td>\n",
              "      <td>821</td>\n",
              "      <td>1</td>\n",
              "      <td>1</td>\n",
              "      <td>0</td>\n",
              "      <td>1</td>\n",
              "    </tr>\n",
              "    <tr>\n",
              "      <th>3</th>\n",
              "      <td>4</td>\n",
              "      <td>5</td>\n",
              "      <td>2015-07-31</td>\n",
              "      <td>13995</td>\n",
              "      <td>1498</td>\n",
              "      <td>1</td>\n",
              "      <td>1</td>\n",
              "      <td>0</td>\n",
              "      <td>1</td>\n",
              "    </tr>\n",
              "    <tr>\n",
              "      <th>4</th>\n",
              "      <td>5</td>\n",
              "      <td>5</td>\n",
              "      <td>2015-07-31</td>\n",
              "      <td>4822</td>\n",
              "      <td>559</td>\n",
              "      <td>1</td>\n",
              "      <td>1</td>\n",
              "      <td>0</td>\n",
              "      <td>1</td>\n",
              "    </tr>\n",
              "  </tbody>\n",
              "</table>\n",
              "</div>"
            ],
            "text/plain": [
              "   Store  DayOfWeek        Date  Sales  ...  Open  Promo  StateHoliday SchoolHoliday\n",
              "0      1          5  2015-07-31   5263  ...     1      1             0             1\n",
              "1      2          5  2015-07-31   6064  ...     1      1             0             1\n",
              "2      3          5  2015-07-31   8314  ...     1      1             0             1\n",
              "3      4          5  2015-07-31  13995  ...     1      1             0             1\n",
              "4      5          5  2015-07-31   4822  ...     1      1             0             1\n",
              "\n",
              "[5 rows x 9 columns]"
            ]
          },
          "metadata": {
            "tags": []
          }
        },
        {
          "output_type": "display_data",
          "data": {
            "text/html": [
              "<div>\n",
              "<style scoped>\n",
              "    .dataframe tbody tr th:only-of-type {\n",
              "        vertical-align: middle;\n",
              "    }\n",
              "\n",
              "    .dataframe tbody tr th {\n",
              "        vertical-align: top;\n",
              "    }\n",
              "\n",
              "    .dataframe thead th {\n",
              "        text-align: right;\n",
              "    }\n",
              "</style>\n",
              "<table border=\"1\" class=\"dataframe\">\n",
              "  <thead>\n",
              "    <tr style=\"text-align: right;\">\n",
              "      <th></th>\n",
              "      <th>Store</th>\n",
              "      <th>DayOfWeek</th>\n",
              "      <th>Date</th>\n",
              "      <th>Sales</th>\n",
              "      <th>Customers</th>\n",
              "      <th>Open</th>\n",
              "      <th>Promo</th>\n",
              "      <th>StateHoliday</th>\n",
              "      <th>SchoolHoliday</th>\n",
              "    </tr>\n",
              "  </thead>\n",
              "  <tbody>\n",
              "    <tr>\n",
              "      <th>count</th>\n",
              "      <td>1.01721e+06</td>\n",
              "      <td>1.01721e+06</td>\n",
              "      <td>NaN</td>\n",
              "      <td>1.01721e+06</td>\n",
              "      <td>1.01721e+06</td>\n",
              "      <td>1.01721e+06</td>\n",
              "      <td>1.01721e+06</td>\n",
              "      <td>NaN</td>\n",
              "      <td>1.01721e+06</td>\n",
              "    </tr>\n",
              "    <tr>\n",
              "      <th>mean</th>\n",
              "      <td>558.43</td>\n",
              "      <td>3.99834</td>\n",
              "      <td>NaN</td>\n",
              "      <td>5773.82</td>\n",
              "      <td>633.146</td>\n",
              "      <td>0.830107</td>\n",
              "      <td>0.381515</td>\n",
              "      <td>NaN</td>\n",
              "      <td>0.178647</td>\n",
              "    </tr>\n",
              "    <tr>\n",
              "      <th>std</th>\n",
              "      <td>321.909</td>\n",
              "      <td>1.99739</td>\n",
              "      <td>NaN</td>\n",
              "      <td>3849.93</td>\n",
              "      <td>464.412</td>\n",
              "      <td>0.375539</td>\n",
              "      <td>0.485759</td>\n",
              "      <td>NaN</td>\n",
              "      <td>0.383056</td>\n",
              "    </tr>\n",
              "    <tr>\n",
              "      <th>min</th>\n",
              "      <td>1</td>\n",
              "      <td>1</td>\n",
              "      <td>NaN</td>\n",
              "      <td>0</td>\n",
              "      <td>0</td>\n",
              "      <td>0</td>\n",
              "      <td>0</td>\n",
              "      <td>NaN</td>\n",
              "      <td>0</td>\n",
              "    </tr>\n",
              "    <tr>\n",
              "      <th>25%</th>\n",
              "      <td>280</td>\n",
              "      <td>2</td>\n",
              "      <td>NaN</td>\n",
              "      <td>3727</td>\n",
              "      <td>405</td>\n",
              "      <td>1</td>\n",
              "      <td>0</td>\n",
              "      <td>NaN</td>\n",
              "      <td>0</td>\n",
              "    </tr>\n",
              "    <tr>\n",
              "      <th>50%</th>\n",
              "      <td>558</td>\n",
              "      <td>4</td>\n",
              "      <td>NaN</td>\n",
              "      <td>5744</td>\n",
              "      <td>609</td>\n",
              "      <td>1</td>\n",
              "      <td>0</td>\n",
              "      <td>NaN</td>\n",
              "      <td>0</td>\n",
              "    </tr>\n",
              "    <tr>\n",
              "      <th>75%</th>\n",
              "      <td>838</td>\n",
              "      <td>6</td>\n",
              "      <td>NaN</td>\n",
              "      <td>7856</td>\n",
              "      <td>837</td>\n",
              "      <td>1</td>\n",
              "      <td>1</td>\n",
              "      <td>NaN</td>\n",
              "      <td>0</td>\n",
              "    </tr>\n",
              "    <tr>\n",
              "      <th>max</th>\n",
              "      <td>1115</td>\n",
              "      <td>7</td>\n",
              "      <td>NaN</td>\n",
              "      <td>41551</td>\n",
              "      <td>7388</td>\n",
              "      <td>1</td>\n",
              "      <td>1</td>\n",
              "      <td>NaN</td>\n",
              "      <td>1</td>\n",
              "    </tr>\n",
              "    <tr>\n",
              "      <th>counts</th>\n",
              "      <td>1017209</td>\n",
              "      <td>1017209</td>\n",
              "      <td>1017209</td>\n",
              "      <td>1017209</td>\n",
              "      <td>1017209</td>\n",
              "      <td>1017209</td>\n",
              "      <td>1017209</td>\n",
              "      <td>1017209</td>\n",
              "      <td>1017209</td>\n",
              "    </tr>\n",
              "    <tr>\n",
              "      <th>uniques</th>\n",
              "      <td>1115</td>\n",
              "      <td>7</td>\n",
              "      <td>942</td>\n",
              "      <td>21734</td>\n",
              "      <td>4086</td>\n",
              "      <td>2</td>\n",
              "      <td>2</td>\n",
              "      <td>4</td>\n",
              "      <td>2</td>\n",
              "    </tr>\n",
              "    <tr>\n",
              "      <th>missing</th>\n",
              "      <td>0</td>\n",
              "      <td>0</td>\n",
              "      <td>0</td>\n",
              "      <td>0</td>\n",
              "      <td>0</td>\n",
              "      <td>0</td>\n",
              "      <td>0</td>\n",
              "      <td>0</td>\n",
              "      <td>0</td>\n",
              "    </tr>\n",
              "    <tr>\n",
              "      <th>missing_perc</th>\n",
              "      <td>0%</td>\n",
              "      <td>0%</td>\n",
              "      <td>0%</td>\n",
              "      <td>0%</td>\n",
              "      <td>0%</td>\n",
              "      <td>0%</td>\n",
              "      <td>0%</td>\n",
              "      <td>0%</td>\n",
              "      <td>0%</td>\n",
              "    </tr>\n",
              "    <tr>\n",
              "      <th>types</th>\n",
              "      <td>numeric</td>\n",
              "      <td>numeric</td>\n",
              "      <td>categorical</td>\n",
              "      <td>numeric</td>\n",
              "      <td>numeric</td>\n",
              "      <td>bool</td>\n",
              "      <td>bool</td>\n",
              "      <td>categorical</td>\n",
              "      <td>bool</td>\n",
              "    </tr>\n",
              "  </tbody>\n",
              "</table>\n",
              "</div>"
            ],
            "text/plain": [
              "                    Store    DayOfWeek  ... StateHoliday SchoolHoliday\n",
              "count         1.01721e+06  1.01721e+06  ...          NaN   1.01721e+06\n",
              "mean               558.43      3.99834  ...          NaN      0.178647\n",
              "std               321.909      1.99739  ...          NaN      0.383056\n",
              "min                     1            1  ...          NaN             0\n",
              "25%                   280            2  ...          NaN             0\n",
              "50%                   558            4  ...          NaN             0\n",
              "75%                   838            6  ...          NaN             0\n",
              "max                  1115            7  ...          NaN             1\n",
              "counts            1017209      1017209  ...      1017209       1017209\n",
              "uniques              1115            7  ...            4             2\n",
              "missing                 0            0  ...            0             0\n",
              "missing_perc           0%           0%  ...           0%            0%\n",
              "types             numeric      numeric  ...  categorical          bool\n",
              "\n",
              "[13 rows x 9 columns]"
            ]
          },
          "metadata": {
            "tags": []
          }
        }
      ]
    },
    {
      "cell_type": "code",
      "metadata": {
        "colab": {
          "base_uri": "https://localhost:8080/"
        },
        "id": "gdod8hI7k63_",
        "outputId": "3a27ef4c-66f0-44bb-c7a0-40059bfbe51e"
      },
      "source": [
        "display(test.head())\n",
        "display(DataFrameSummary(test).summary())"
      ],
      "execution_count": null,
      "outputs": [
        {
          "output_type": "display_data",
          "data": {
            "text/html": [
              "<div>\n",
              "<style scoped>\n",
              "    .dataframe tbody tr th:only-of-type {\n",
              "        vertical-align: middle;\n",
              "    }\n",
              "\n",
              "    .dataframe tbody tr th {\n",
              "        vertical-align: top;\n",
              "    }\n",
              "\n",
              "    .dataframe thead th {\n",
              "        text-align: right;\n",
              "    }\n",
              "</style>\n",
              "<table border=\"1\" class=\"dataframe\">\n",
              "  <thead>\n",
              "    <tr style=\"text-align: right;\">\n",
              "      <th></th>\n",
              "      <th>Id</th>\n",
              "      <th>Store</th>\n",
              "      <th>DayOfWeek</th>\n",
              "      <th>Date</th>\n",
              "      <th>Open</th>\n",
              "      <th>Promo</th>\n",
              "      <th>StateHoliday</th>\n",
              "      <th>SchoolHoliday</th>\n",
              "    </tr>\n",
              "  </thead>\n",
              "  <tbody>\n",
              "    <tr>\n",
              "      <th>0</th>\n",
              "      <td>1</td>\n",
              "      <td>1</td>\n",
              "      <td>4</td>\n",
              "      <td>2015-09-17</td>\n",
              "      <td>1.0</td>\n",
              "      <td>1</td>\n",
              "      <td>0</td>\n",
              "      <td>0</td>\n",
              "    </tr>\n",
              "    <tr>\n",
              "      <th>1</th>\n",
              "      <td>2</td>\n",
              "      <td>3</td>\n",
              "      <td>4</td>\n",
              "      <td>2015-09-17</td>\n",
              "      <td>1.0</td>\n",
              "      <td>1</td>\n",
              "      <td>0</td>\n",
              "      <td>0</td>\n",
              "    </tr>\n",
              "    <tr>\n",
              "      <th>2</th>\n",
              "      <td>3</td>\n",
              "      <td>7</td>\n",
              "      <td>4</td>\n",
              "      <td>2015-09-17</td>\n",
              "      <td>1.0</td>\n",
              "      <td>1</td>\n",
              "      <td>0</td>\n",
              "      <td>0</td>\n",
              "    </tr>\n",
              "    <tr>\n",
              "      <th>3</th>\n",
              "      <td>4</td>\n",
              "      <td>8</td>\n",
              "      <td>4</td>\n",
              "      <td>2015-09-17</td>\n",
              "      <td>1.0</td>\n",
              "      <td>1</td>\n",
              "      <td>0</td>\n",
              "      <td>0</td>\n",
              "    </tr>\n",
              "    <tr>\n",
              "      <th>4</th>\n",
              "      <td>5</td>\n",
              "      <td>9</td>\n",
              "      <td>4</td>\n",
              "      <td>2015-09-17</td>\n",
              "      <td>1.0</td>\n",
              "      <td>1</td>\n",
              "      <td>0</td>\n",
              "      <td>0</td>\n",
              "    </tr>\n",
              "  </tbody>\n",
              "</table>\n",
              "</div>"
            ],
            "text/plain": [
              "   Id  Store  DayOfWeek        Date  Open  Promo StateHoliday  SchoolHoliday\n",
              "0   1      1          4  2015-09-17   1.0      1            0              0\n",
              "1   2      3          4  2015-09-17   1.0      1            0              0\n",
              "2   3      7          4  2015-09-17   1.0      1            0              0\n",
              "3   4      8          4  2015-09-17   1.0      1            0              0\n",
              "4   5      9          4  2015-09-17   1.0      1            0              0"
            ]
          },
          "metadata": {
            "tags": []
          }
        },
        {
          "output_type": "display_data",
          "data": {
            "text/html": [
              "<div>\n",
              "<style scoped>\n",
              "    .dataframe tbody tr th:only-of-type {\n",
              "        vertical-align: middle;\n",
              "    }\n",
              "\n",
              "    .dataframe tbody tr th {\n",
              "        vertical-align: top;\n",
              "    }\n",
              "\n",
              "    .dataframe thead th {\n",
              "        text-align: right;\n",
              "    }\n",
              "</style>\n",
              "<table border=\"1\" class=\"dataframe\">\n",
              "  <thead>\n",
              "    <tr style=\"text-align: right;\">\n",
              "      <th></th>\n",
              "      <th>Id</th>\n",
              "      <th>Store</th>\n",
              "      <th>DayOfWeek</th>\n",
              "      <th>Date</th>\n",
              "      <th>Open</th>\n",
              "      <th>Promo</th>\n",
              "      <th>StateHoliday</th>\n",
              "      <th>SchoolHoliday</th>\n",
              "    </tr>\n",
              "  </thead>\n",
              "  <tbody>\n",
              "    <tr>\n",
              "      <th>count</th>\n",
              "      <td>41088</td>\n",
              "      <td>41088</td>\n",
              "      <td>41088</td>\n",
              "      <td>NaN</td>\n",
              "      <td>41077</td>\n",
              "      <td>41088</td>\n",
              "      <td>NaN</td>\n",
              "      <td>41088</td>\n",
              "    </tr>\n",
              "    <tr>\n",
              "      <th>mean</th>\n",
              "      <td>20544.5</td>\n",
              "      <td>555.9</td>\n",
              "      <td>3.97917</td>\n",
              "      <td>NaN</td>\n",
              "      <td>0.854322</td>\n",
              "      <td>0.395833</td>\n",
              "      <td>NaN</td>\n",
              "      <td>0.443487</td>\n",
              "    </tr>\n",
              "    <tr>\n",
              "      <th>std</th>\n",
              "      <td>11861.2</td>\n",
              "      <td>320.274</td>\n",
              "      <td>2.01548</td>\n",
              "      <td>NaN</td>\n",
              "      <td>0.352787</td>\n",
              "      <td>0.489035</td>\n",
              "      <td>NaN</td>\n",
              "      <td>0.496802</td>\n",
              "    </tr>\n",
              "    <tr>\n",
              "      <th>min</th>\n",
              "      <td>1</td>\n",
              "      <td>1</td>\n",
              "      <td>1</td>\n",
              "      <td>NaN</td>\n",
              "      <td>0</td>\n",
              "      <td>0</td>\n",
              "      <td>NaN</td>\n",
              "      <td>0</td>\n",
              "    </tr>\n",
              "    <tr>\n",
              "      <th>25%</th>\n",
              "      <td>10272.8</td>\n",
              "      <td>279.75</td>\n",
              "      <td>2</td>\n",
              "      <td>NaN</td>\n",
              "      <td>1</td>\n",
              "      <td>0</td>\n",
              "      <td>NaN</td>\n",
              "      <td>0</td>\n",
              "    </tr>\n",
              "    <tr>\n",
              "      <th>50%</th>\n",
              "      <td>20544.5</td>\n",
              "      <td>553.5</td>\n",
              "      <td>4</td>\n",
              "      <td>NaN</td>\n",
              "      <td>1</td>\n",
              "      <td>0</td>\n",
              "      <td>NaN</td>\n",
              "      <td>0</td>\n",
              "    </tr>\n",
              "    <tr>\n",
              "      <th>75%</th>\n",
              "      <td>30816.2</td>\n",
              "      <td>832.25</td>\n",
              "      <td>6</td>\n",
              "      <td>NaN</td>\n",
              "      <td>1</td>\n",
              "      <td>1</td>\n",
              "      <td>NaN</td>\n",
              "      <td>1</td>\n",
              "    </tr>\n",
              "    <tr>\n",
              "      <th>max</th>\n",
              "      <td>41088</td>\n",
              "      <td>1115</td>\n",
              "      <td>7</td>\n",
              "      <td>NaN</td>\n",
              "      <td>1</td>\n",
              "      <td>1</td>\n",
              "      <td>NaN</td>\n",
              "      <td>1</td>\n",
              "    </tr>\n",
              "    <tr>\n",
              "      <th>counts</th>\n",
              "      <td>41088</td>\n",
              "      <td>41088</td>\n",
              "      <td>41088</td>\n",
              "      <td>41088</td>\n",
              "      <td>41077</td>\n",
              "      <td>41088</td>\n",
              "      <td>41088</td>\n",
              "      <td>41088</td>\n",
              "    </tr>\n",
              "    <tr>\n",
              "      <th>uniques</th>\n",
              "      <td>41088</td>\n",
              "      <td>856</td>\n",
              "      <td>7</td>\n",
              "      <td>48</td>\n",
              "      <td>2</td>\n",
              "      <td>2</td>\n",
              "      <td>2</td>\n",
              "      <td>2</td>\n",
              "    </tr>\n",
              "    <tr>\n",
              "      <th>missing</th>\n",
              "      <td>0</td>\n",
              "      <td>0</td>\n",
              "      <td>0</td>\n",
              "      <td>0</td>\n",
              "      <td>11</td>\n",
              "      <td>0</td>\n",
              "      <td>0</td>\n",
              "      <td>0</td>\n",
              "    </tr>\n",
              "    <tr>\n",
              "      <th>missing_perc</th>\n",
              "      <td>0%</td>\n",
              "      <td>0%</td>\n",
              "      <td>0%</td>\n",
              "      <td>0%</td>\n",
              "      <td>0.03%</td>\n",
              "      <td>0%</td>\n",
              "      <td>0%</td>\n",
              "      <td>0%</td>\n",
              "    </tr>\n",
              "    <tr>\n",
              "      <th>types</th>\n",
              "      <td>numeric</td>\n",
              "      <td>numeric</td>\n",
              "      <td>numeric</td>\n",
              "      <td>categorical</td>\n",
              "      <td>bool</td>\n",
              "      <td>bool</td>\n",
              "      <td>bool</td>\n",
              "      <td>bool</td>\n",
              "    </tr>\n",
              "  </tbody>\n",
              "</table>\n",
              "</div>"
            ],
            "text/plain": [
              "                   Id    Store DayOfWeek  ...     Promo StateHoliday SchoolHoliday\n",
              "count           41088    41088     41088  ...     41088          NaN         41088\n",
              "mean          20544.5    555.9   3.97917  ...  0.395833          NaN      0.443487\n",
              "std           11861.2  320.274   2.01548  ...  0.489035          NaN      0.496802\n",
              "min                 1        1         1  ...         0          NaN             0\n",
              "25%           10272.8   279.75         2  ...         0          NaN             0\n",
              "50%           20544.5    553.5         4  ...         0          NaN             0\n",
              "75%           30816.2   832.25         6  ...         1          NaN             1\n",
              "max             41088     1115         7  ...         1          NaN             1\n",
              "counts          41088    41088     41088  ...     41088        41088         41088\n",
              "uniques         41088      856         7  ...         2            2             2\n",
              "missing             0        0         0  ...         0            0             0\n",
              "missing_perc       0%       0%        0%  ...        0%           0%            0%\n",
              "types         numeric  numeric   numeric  ...      bool         bool          bool\n",
              "\n",
              "[13 rows x 8 columns]"
            ]
          },
          "metadata": {
            "tags": []
          }
        }
      ]
    },
    {
      "cell_type": "markdown",
      "metadata": {
        "id": "ZjC1oJs2vC0-"
      },
      "source": [
        "- Mirar counts que todos tienen la misma cantidad\n",
        "- Ninguno tiene missing\n",
        "- Los tipos tambien es interesante observar"
      ]
    },
    {
      "cell_type": "code",
      "metadata": {
        "id": "zU5boD5OvC0-",
        "colab": {
          "base_uri": "https://localhost:8080/"
        },
        "outputId": "cf20ce78-a662-4ada-dc5a-b531f3eee426"
      },
      "source": [
        "train['StateHoliday'].value_counts()"
      ],
      "execution_count": null,
      "outputs": [
        {
          "output_type": "execute_result",
          "data": {
            "text/plain": [
              "0    986159\n",
              "a     20260\n",
              "b      6690\n",
              "c      4100\n",
              "Name: StateHoliday, dtype: int64"
            ]
          },
          "metadata": {
            "tags": []
          },
          "execution_count": 8
        }
      ]
    },
    {
      "cell_type": "code",
      "metadata": {
        "id": "EWPBH48MvC0-",
        "colab": {
          "base_uri": "https://localhost:8080/"
        },
        "outputId": "3a499d74-5b86-4ea4-decc-61dcfca54818"
      },
      "source": [
        "display(store.head())\n",
        "display(DataFrameSummary(store).summary())"
      ],
      "execution_count": null,
      "outputs": [
        {
          "output_type": "display_data",
          "data": {
            "text/html": [
              "<div>\n",
              "<style scoped>\n",
              "    .dataframe tbody tr th:only-of-type {\n",
              "        vertical-align: middle;\n",
              "    }\n",
              "\n",
              "    .dataframe tbody tr th {\n",
              "        vertical-align: top;\n",
              "    }\n",
              "\n",
              "    .dataframe thead th {\n",
              "        text-align: right;\n",
              "    }\n",
              "</style>\n",
              "<table border=\"1\" class=\"dataframe\">\n",
              "  <thead>\n",
              "    <tr style=\"text-align: right;\">\n",
              "      <th></th>\n",
              "      <th>Store</th>\n",
              "      <th>StoreType</th>\n",
              "      <th>Assortment</th>\n",
              "      <th>CompetitionDistance</th>\n",
              "      <th>CompetitionOpenSinceMonth</th>\n",
              "      <th>CompetitionOpenSinceYear</th>\n",
              "      <th>Promo2</th>\n",
              "      <th>Promo2SinceWeek</th>\n",
              "      <th>Promo2SinceYear</th>\n",
              "      <th>PromoInterval</th>\n",
              "    </tr>\n",
              "  </thead>\n",
              "  <tbody>\n",
              "    <tr>\n",
              "      <th>0</th>\n",
              "      <td>1</td>\n",
              "      <td>c</td>\n",
              "      <td>a</td>\n",
              "      <td>1270.0</td>\n",
              "      <td>9.0</td>\n",
              "      <td>2008.0</td>\n",
              "      <td>0</td>\n",
              "      <td>NaN</td>\n",
              "      <td>NaN</td>\n",
              "      <td>NaN</td>\n",
              "    </tr>\n",
              "    <tr>\n",
              "      <th>1</th>\n",
              "      <td>2</td>\n",
              "      <td>a</td>\n",
              "      <td>a</td>\n",
              "      <td>570.0</td>\n",
              "      <td>11.0</td>\n",
              "      <td>2007.0</td>\n",
              "      <td>1</td>\n",
              "      <td>13.0</td>\n",
              "      <td>2010.0</td>\n",
              "      <td>Jan,Apr,Jul,Oct</td>\n",
              "    </tr>\n",
              "    <tr>\n",
              "      <th>2</th>\n",
              "      <td>3</td>\n",
              "      <td>a</td>\n",
              "      <td>a</td>\n",
              "      <td>14130.0</td>\n",
              "      <td>12.0</td>\n",
              "      <td>2006.0</td>\n",
              "      <td>1</td>\n",
              "      <td>14.0</td>\n",
              "      <td>2011.0</td>\n",
              "      <td>Jan,Apr,Jul,Oct</td>\n",
              "    </tr>\n",
              "    <tr>\n",
              "      <th>3</th>\n",
              "      <td>4</td>\n",
              "      <td>c</td>\n",
              "      <td>c</td>\n",
              "      <td>620.0</td>\n",
              "      <td>9.0</td>\n",
              "      <td>2009.0</td>\n",
              "      <td>0</td>\n",
              "      <td>NaN</td>\n",
              "      <td>NaN</td>\n",
              "      <td>NaN</td>\n",
              "    </tr>\n",
              "    <tr>\n",
              "      <th>4</th>\n",
              "      <td>5</td>\n",
              "      <td>a</td>\n",
              "      <td>a</td>\n",
              "      <td>29910.0</td>\n",
              "      <td>4.0</td>\n",
              "      <td>2015.0</td>\n",
              "      <td>0</td>\n",
              "      <td>NaN</td>\n",
              "      <td>NaN</td>\n",
              "      <td>NaN</td>\n",
              "    </tr>\n",
              "  </tbody>\n",
              "</table>\n",
              "</div>"
            ],
            "text/plain": [
              "   Store StoreType  ... Promo2SinceYear    PromoInterval\n",
              "0      1         c  ...             NaN              NaN\n",
              "1      2         a  ...          2010.0  Jan,Apr,Jul,Oct\n",
              "2      3         a  ...          2011.0  Jan,Apr,Jul,Oct\n",
              "3      4         c  ...             NaN              NaN\n",
              "4      5         a  ...             NaN              NaN\n",
              "\n",
              "[5 rows x 10 columns]"
            ]
          },
          "metadata": {
            "tags": []
          }
        },
        {
          "output_type": "display_data",
          "data": {
            "text/html": [
              "<div>\n",
              "<style scoped>\n",
              "    .dataframe tbody tr th:only-of-type {\n",
              "        vertical-align: middle;\n",
              "    }\n",
              "\n",
              "    .dataframe tbody tr th {\n",
              "        vertical-align: top;\n",
              "    }\n",
              "\n",
              "    .dataframe thead th {\n",
              "        text-align: right;\n",
              "    }\n",
              "</style>\n",
              "<table border=\"1\" class=\"dataframe\">\n",
              "  <thead>\n",
              "    <tr style=\"text-align: right;\">\n",
              "      <th></th>\n",
              "      <th>Store</th>\n",
              "      <th>StoreType</th>\n",
              "      <th>Assortment</th>\n",
              "      <th>CompetitionDistance</th>\n",
              "      <th>CompetitionOpenSinceMonth</th>\n",
              "      <th>CompetitionOpenSinceYear</th>\n",
              "      <th>Promo2</th>\n",
              "      <th>Promo2SinceWeek</th>\n",
              "      <th>Promo2SinceYear</th>\n",
              "      <th>PromoInterval</th>\n",
              "    </tr>\n",
              "  </thead>\n",
              "  <tbody>\n",
              "    <tr>\n",
              "      <th>count</th>\n",
              "      <td>1115</td>\n",
              "      <td>NaN</td>\n",
              "      <td>NaN</td>\n",
              "      <td>1112</td>\n",
              "      <td>761</td>\n",
              "      <td>761</td>\n",
              "      <td>1115</td>\n",
              "      <td>571</td>\n",
              "      <td>571</td>\n",
              "      <td>NaN</td>\n",
              "    </tr>\n",
              "    <tr>\n",
              "      <th>mean</th>\n",
              "      <td>558</td>\n",
              "      <td>NaN</td>\n",
              "      <td>NaN</td>\n",
              "      <td>5404.9</td>\n",
              "      <td>7.2247</td>\n",
              "      <td>2008.67</td>\n",
              "      <td>0.512108</td>\n",
              "      <td>23.5954</td>\n",
              "      <td>2011.76</td>\n",
              "      <td>NaN</td>\n",
              "    </tr>\n",
              "    <tr>\n",
              "      <th>std</th>\n",
              "      <td>322.017</td>\n",
              "      <td>NaN</td>\n",
              "      <td>NaN</td>\n",
              "      <td>7663.17</td>\n",
              "      <td>3.21235</td>\n",
              "      <td>6.19598</td>\n",
              "      <td>0.500078</td>\n",
              "      <td>14.142</td>\n",
              "      <td>1.67494</td>\n",
              "      <td>NaN</td>\n",
              "    </tr>\n",
              "    <tr>\n",
              "      <th>min</th>\n",
              "      <td>1</td>\n",
              "      <td>NaN</td>\n",
              "      <td>NaN</td>\n",
              "      <td>20</td>\n",
              "      <td>1</td>\n",
              "      <td>1900</td>\n",
              "      <td>0</td>\n",
              "      <td>1</td>\n",
              "      <td>2009</td>\n",
              "      <td>NaN</td>\n",
              "    </tr>\n",
              "    <tr>\n",
              "      <th>25%</th>\n",
              "      <td>279.5</td>\n",
              "      <td>NaN</td>\n",
              "      <td>NaN</td>\n",
              "      <td>717.5</td>\n",
              "      <td>4</td>\n",
              "      <td>2006</td>\n",
              "      <td>0</td>\n",
              "      <td>13</td>\n",
              "      <td>2011</td>\n",
              "      <td>NaN</td>\n",
              "    </tr>\n",
              "    <tr>\n",
              "      <th>50%</th>\n",
              "      <td>558</td>\n",
              "      <td>NaN</td>\n",
              "      <td>NaN</td>\n",
              "      <td>2325</td>\n",
              "      <td>8</td>\n",
              "      <td>2010</td>\n",
              "      <td>1</td>\n",
              "      <td>22</td>\n",
              "      <td>2012</td>\n",
              "      <td>NaN</td>\n",
              "    </tr>\n",
              "    <tr>\n",
              "      <th>75%</th>\n",
              "      <td>836.5</td>\n",
              "      <td>NaN</td>\n",
              "      <td>NaN</td>\n",
              "      <td>6882.5</td>\n",
              "      <td>10</td>\n",
              "      <td>2013</td>\n",
              "      <td>1</td>\n",
              "      <td>37</td>\n",
              "      <td>2013</td>\n",
              "      <td>NaN</td>\n",
              "    </tr>\n",
              "    <tr>\n",
              "      <th>max</th>\n",
              "      <td>1115</td>\n",
              "      <td>NaN</td>\n",
              "      <td>NaN</td>\n",
              "      <td>75860</td>\n",
              "      <td>12</td>\n",
              "      <td>2015</td>\n",
              "      <td>1</td>\n",
              "      <td>50</td>\n",
              "      <td>2015</td>\n",
              "      <td>NaN</td>\n",
              "    </tr>\n",
              "    <tr>\n",
              "      <th>counts</th>\n",
              "      <td>1115</td>\n",
              "      <td>1115</td>\n",
              "      <td>1115</td>\n",
              "      <td>1112</td>\n",
              "      <td>761</td>\n",
              "      <td>761</td>\n",
              "      <td>1115</td>\n",
              "      <td>571</td>\n",
              "      <td>571</td>\n",
              "      <td>571</td>\n",
              "    </tr>\n",
              "    <tr>\n",
              "      <th>uniques</th>\n",
              "      <td>1115</td>\n",
              "      <td>4</td>\n",
              "      <td>3</td>\n",
              "      <td>654</td>\n",
              "      <td>12</td>\n",
              "      <td>23</td>\n",
              "      <td>2</td>\n",
              "      <td>24</td>\n",
              "      <td>7</td>\n",
              "      <td>3</td>\n",
              "    </tr>\n",
              "    <tr>\n",
              "      <th>missing</th>\n",
              "      <td>0</td>\n",
              "      <td>0</td>\n",
              "      <td>0</td>\n",
              "      <td>3</td>\n",
              "      <td>354</td>\n",
              "      <td>354</td>\n",
              "      <td>0</td>\n",
              "      <td>544</td>\n",
              "      <td>544</td>\n",
              "      <td>544</td>\n",
              "    </tr>\n",
              "    <tr>\n",
              "      <th>missing_perc</th>\n",
              "      <td>0%</td>\n",
              "      <td>0%</td>\n",
              "      <td>0%</td>\n",
              "      <td>0.27%</td>\n",
              "      <td>31.75%</td>\n",
              "      <td>31.75%</td>\n",
              "      <td>0%</td>\n",
              "      <td>48.79%</td>\n",
              "      <td>48.79%</td>\n",
              "      <td>48.79%</td>\n",
              "    </tr>\n",
              "    <tr>\n",
              "      <th>types</th>\n",
              "      <td>numeric</td>\n",
              "      <td>categorical</td>\n",
              "      <td>categorical</td>\n",
              "      <td>numeric</td>\n",
              "      <td>numeric</td>\n",
              "      <td>numeric</td>\n",
              "      <td>bool</td>\n",
              "      <td>numeric</td>\n",
              "      <td>numeric</td>\n",
              "      <td>categorical</td>\n",
              "    </tr>\n",
              "  </tbody>\n",
              "</table>\n",
              "</div>"
            ],
            "text/plain": [
              "                Store    StoreType  ... Promo2SinceYear PromoInterval\n",
              "count            1115          NaN  ...             571           NaN\n",
              "mean              558          NaN  ...         2011.76           NaN\n",
              "std           322.017          NaN  ...         1.67494           NaN\n",
              "min                 1          NaN  ...            2009           NaN\n",
              "25%             279.5          NaN  ...            2011           NaN\n",
              "50%               558          NaN  ...            2012           NaN\n",
              "75%             836.5          NaN  ...            2013           NaN\n",
              "max              1115          NaN  ...            2015           NaN\n",
              "counts           1115         1115  ...             571           571\n",
              "uniques          1115            4  ...               7             3\n",
              "missing             0            0  ...             544           544\n",
              "missing_perc       0%           0%  ...          48.79%        48.79%\n",
              "types         numeric  categorical  ...         numeric   categorical\n",
              "\n",
              "[13 rows x 10 columns]"
            ]
          },
          "metadata": {
            "tags": []
          }
        }
      ]
    },
    {
      "cell_type": "markdown",
      "metadata": {
        "id": "ro_4bPZFvC0_"
      },
      "source": [
        "Descripción de algunas columnas que quizas no sean tan claras:\n",
        "\n",
        "- `Customers`: La cantidad de clientes por día\n",
        "- `Open`: Indicador si el store estaba abierto o cerrado: 0 = closed, 1 = open\n",
        "- `StateHoliday`: Indica feriado en ese estado. a = public holiday, b = Easter holiday, c = Christmas, 0 = None\n",
        "- `SchoolHoliday`: Inidica si el store fue afectado por el feriado escolar\n",
        "- `StoreType`: Tipos de store: a, b, c, d\n",
        "- `Assortment`: Describe el nivel de surtido de la tienda: a = basic, b = extra, c = extended\n",
        "- `CompetitionDistance`: Distancia en metros al competidor\n",
        "- `CompetitionOpenSince[Month/Year]`: Fecha en que abrío la competencia\n",
        "- `Promo`: Si el store esta corriendo una promoción ese día\n",
        "- `Promo2`: Promo2 is a continuing and consecutive promotion for some stores: 0 = store is not participating, 1 = store is participating\n",
        "- `Promo2Since[Year/Week]`: describes the year and calendar week when the store started participating in Promo2\n",
        "- `PromoInterval`: describes the consecutive intervals Promo2 is started, naming the months the promotion is started anew. E.g. \"Feb,May,Aug,Nov\" means each round starts in February, May, August, November of any given year for that store\n"
      ]
    },
    {
      "cell_type": "code",
      "metadata": {
        "id": "nboAOvBAvC0_",
        "colab": {
          "base_uri": "https://localhost:8080/"
        },
        "outputId": "54c4f3f5-e3fa-4ce4-d776-e14da3337856"
      },
      "source": [
        "store['StoreType'].value_counts()"
      ],
      "execution_count": null,
      "outputs": [
        {
          "output_type": "execute_result",
          "data": {
            "text/plain": [
              "a    602\n",
              "d    348\n",
              "c    148\n",
              "b     17\n",
              "Name: StoreType, dtype: int64"
            ]
          },
          "metadata": {
            "tags": []
          },
          "execution_count": 10
        }
      ]
    },
    {
      "cell_type": "code",
      "metadata": {
        "id": "WhuQKpMNvC0_",
        "colab": {
          "base_uri": "https://localhost:8080/"
        },
        "outputId": "14c58b96-07a6-4800-d573-18d1015a5f5e"
      },
      "source": [
        "store['PromoInterval'].value_counts()"
      ],
      "execution_count": null,
      "outputs": [
        {
          "output_type": "execute_result",
          "data": {
            "text/plain": [
              "Jan,Apr,Jul,Oct     335\n",
              "Feb,May,Aug,Nov     130\n",
              "Mar,Jun,Sept,Dec    106\n",
              "Name: PromoInterval, dtype: int64"
            ]
          },
          "metadata": {
            "tags": []
          },
          "execution_count": 11
        }
      ]
    },
    {
      "cell_type": "code",
      "metadata": {
        "id": "HrDq_7K3vC0_",
        "colab": {
          "base_uri": "https://localhost:8080/"
        },
        "outputId": "94dfd866-c62d-4c85-ed53-968085abf868"
      },
      "source": [
        "display(store_states.head(20))\n",
        "display(DataFrameSummary(store_states).summary())"
      ],
      "execution_count": null,
      "outputs": [
        {
          "output_type": "display_data",
          "data": {
            "text/html": [
              "<div>\n",
              "<style scoped>\n",
              "    .dataframe tbody tr th:only-of-type {\n",
              "        vertical-align: middle;\n",
              "    }\n",
              "\n",
              "    .dataframe tbody tr th {\n",
              "        vertical-align: top;\n",
              "    }\n",
              "\n",
              "    .dataframe thead th {\n",
              "        text-align: right;\n",
              "    }\n",
              "</style>\n",
              "<table border=\"1\" class=\"dataframe\">\n",
              "  <thead>\n",
              "    <tr style=\"text-align: right;\">\n",
              "      <th></th>\n",
              "      <th>Store</th>\n",
              "      <th>State</th>\n",
              "    </tr>\n",
              "  </thead>\n",
              "  <tbody>\n",
              "    <tr>\n",
              "      <th>0</th>\n",
              "      <td>1</td>\n",
              "      <td>HE</td>\n",
              "    </tr>\n",
              "    <tr>\n",
              "      <th>1</th>\n",
              "      <td>2</td>\n",
              "      <td>TH</td>\n",
              "    </tr>\n",
              "    <tr>\n",
              "      <th>2</th>\n",
              "      <td>3</td>\n",
              "      <td>NW</td>\n",
              "    </tr>\n",
              "    <tr>\n",
              "      <th>3</th>\n",
              "      <td>4</td>\n",
              "      <td>BE</td>\n",
              "    </tr>\n",
              "    <tr>\n",
              "      <th>4</th>\n",
              "      <td>5</td>\n",
              "      <td>SN</td>\n",
              "    </tr>\n",
              "    <tr>\n",
              "      <th>5</th>\n",
              "      <td>6</td>\n",
              "      <td>SN</td>\n",
              "    </tr>\n",
              "    <tr>\n",
              "      <th>6</th>\n",
              "      <td>7</td>\n",
              "      <td>SH</td>\n",
              "    </tr>\n",
              "    <tr>\n",
              "      <th>7</th>\n",
              "      <td>8</td>\n",
              "      <td>SH</td>\n",
              "    </tr>\n",
              "    <tr>\n",
              "      <th>8</th>\n",
              "      <td>9</td>\n",
              "      <td>NW</td>\n",
              "    </tr>\n",
              "    <tr>\n",
              "      <th>9</th>\n",
              "      <td>10</td>\n",
              "      <td>HB,NI</td>\n",
              "    </tr>\n",
              "    <tr>\n",
              "      <th>10</th>\n",
              "      <td>11</td>\n",
              "      <td>SH</td>\n",
              "    </tr>\n",
              "    <tr>\n",
              "      <th>11</th>\n",
              "      <td>12</td>\n",
              "      <td>SH</td>\n",
              "    </tr>\n",
              "    <tr>\n",
              "      <th>12</th>\n",
              "      <td>13</td>\n",
              "      <td>BY</td>\n",
              "    </tr>\n",
              "    <tr>\n",
              "      <th>13</th>\n",
              "      <td>14</td>\n",
              "      <td>NW</td>\n",
              "    </tr>\n",
              "    <tr>\n",
              "      <th>14</th>\n",
              "      <td>15</td>\n",
              "      <td>SH</td>\n",
              "    </tr>\n",
              "    <tr>\n",
              "      <th>15</th>\n",
              "      <td>16</td>\n",
              "      <td>BW</td>\n",
              "    </tr>\n",
              "    <tr>\n",
              "      <th>16</th>\n",
              "      <td>17</td>\n",
              "      <td>TH</td>\n",
              "    </tr>\n",
              "    <tr>\n",
              "      <th>17</th>\n",
              "      <td>18</td>\n",
              "      <td>TH</td>\n",
              "    </tr>\n",
              "    <tr>\n",
              "      <th>18</th>\n",
              "      <td>19</td>\n",
              "      <td>NW</td>\n",
              "    </tr>\n",
              "    <tr>\n",
              "      <th>19</th>\n",
              "      <td>20</td>\n",
              "      <td>BY</td>\n",
              "    </tr>\n",
              "  </tbody>\n",
              "</table>\n",
              "</div>"
            ],
            "text/plain": [
              "    Store  State\n",
              "0       1     HE\n",
              "1       2     TH\n",
              "2       3     NW\n",
              "3       4     BE\n",
              "4       5     SN\n",
              "5       6     SN\n",
              "6       7     SH\n",
              "7       8     SH\n",
              "8       9     NW\n",
              "9      10  HB,NI\n",
              "10     11     SH\n",
              "11     12     SH\n",
              "12     13     BY\n",
              "13     14     NW\n",
              "14     15     SH\n",
              "15     16     BW\n",
              "16     17     TH\n",
              "17     18     TH\n",
              "18     19     NW\n",
              "19     20     BY"
            ]
          },
          "metadata": {
            "tags": []
          }
        },
        {
          "output_type": "display_data",
          "data": {
            "text/html": [
              "<div>\n",
              "<style scoped>\n",
              "    .dataframe tbody tr th:only-of-type {\n",
              "        vertical-align: middle;\n",
              "    }\n",
              "\n",
              "    .dataframe tbody tr th {\n",
              "        vertical-align: top;\n",
              "    }\n",
              "\n",
              "    .dataframe thead th {\n",
              "        text-align: right;\n",
              "    }\n",
              "</style>\n",
              "<table border=\"1\" class=\"dataframe\">\n",
              "  <thead>\n",
              "    <tr style=\"text-align: right;\">\n",
              "      <th></th>\n",
              "      <th>Store</th>\n",
              "      <th>State</th>\n",
              "    </tr>\n",
              "  </thead>\n",
              "  <tbody>\n",
              "    <tr>\n",
              "      <th>count</th>\n",
              "      <td>1115</td>\n",
              "      <td>NaN</td>\n",
              "    </tr>\n",
              "    <tr>\n",
              "      <th>mean</th>\n",
              "      <td>558</td>\n",
              "      <td>NaN</td>\n",
              "    </tr>\n",
              "    <tr>\n",
              "      <th>std</th>\n",
              "      <td>322.017</td>\n",
              "      <td>NaN</td>\n",
              "    </tr>\n",
              "    <tr>\n",
              "      <th>min</th>\n",
              "      <td>1</td>\n",
              "      <td>NaN</td>\n",
              "    </tr>\n",
              "    <tr>\n",
              "      <th>25%</th>\n",
              "      <td>279.5</td>\n",
              "      <td>NaN</td>\n",
              "    </tr>\n",
              "    <tr>\n",
              "      <th>50%</th>\n",
              "      <td>558</td>\n",
              "      <td>NaN</td>\n",
              "    </tr>\n",
              "    <tr>\n",
              "      <th>75%</th>\n",
              "      <td>836.5</td>\n",
              "      <td>NaN</td>\n",
              "    </tr>\n",
              "    <tr>\n",
              "      <th>max</th>\n",
              "      <td>1115</td>\n",
              "      <td>NaN</td>\n",
              "    </tr>\n",
              "    <tr>\n",
              "      <th>counts</th>\n",
              "      <td>1115</td>\n",
              "      <td>1115</td>\n",
              "    </tr>\n",
              "    <tr>\n",
              "      <th>uniques</th>\n",
              "      <td>1115</td>\n",
              "      <td>12</td>\n",
              "    </tr>\n",
              "    <tr>\n",
              "      <th>missing</th>\n",
              "      <td>0</td>\n",
              "      <td>0</td>\n",
              "    </tr>\n",
              "    <tr>\n",
              "      <th>missing_perc</th>\n",
              "      <td>0%</td>\n",
              "      <td>0%</td>\n",
              "    </tr>\n",
              "    <tr>\n",
              "      <th>types</th>\n",
              "      <td>numeric</td>\n",
              "      <td>categorical</td>\n",
              "    </tr>\n",
              "  </tbody>\n",
              "</table>\n",
              "</div>"
            ],
            "text/plain": [
              "                Store        State\n",
              "count            1115          NaN\n",
              "mean              558          NaN\n",
              "std           322.017          NaN\n",
              "min                 1          NaN\n",
              "25%             279.5          NaN\n",
              "50%               558          NaN\n",
              "75%             836.5          NaN\n",
              "max              1115          NaN\n",
              "counts           1115         1115\n",
              "uniques          1115           12\n",
              "missing             0            0\n",
              "missing_perc       0%           0%\n",
              "types         numeric  categorical"
            ]
          },
          "metadata": {
            "tags": []
          }
        }
      ]
    },
    {
      "cell_type": "code",
      "metadata": {
        "id": "CEO9DQF2vC1A",
        "colab": {
          "base_uri": "https://localhost:8080/"
        },
        "outputId": "897071a3-b4a6-4380-d7fb-92b671be56b2"
      },
      "source": [
        "display(state_names.head(20))\n",
        "display(DataFrameSummary(state_names).summary())"
      ],
      "execution_count": null,
      "outputs": [
        {
          "output_type": "display_data",
          "data": {
            "text/html": [
              "<div>\n",
              "<style scoped>\n",
              "    .dataframe tbody tr th:only-of-type {\n",
              "        vertical-align: middle;\n",
              "    }\n",
              "\n",
              "    .dataframe tbody tr th {\n",
              "        vertical-align: top;\n",
              "    }\n",
              "\n",
              "    .dataframe thead th {\n",
              "        text-align: right;\n",
              "    }\n",
              "</style>\n",
              "<table border=\"1\" class=\"dataframe\">\n",
              "  <thead>\n",
              "    <tr style=\"text-align: right;\">\n",
              "      <th></th>\n",
              "      <th>StateName</th>\n",
              "      <th>State</th>\n",
              "    </tr>\n",
              "  </thead>\n",
              "  <tbody>\n",
              "    <tr>\n",
              "      <th>0</th>\n",
              "      <td>BadenWuerttemberg</td>\n",
              "      <td>BW</td>\n",
              "    </tr>\n",
              "    <tr>\n",
              "      <th>1</th>\n",
              "      <td>Bayern</td>\n",
              "      <td>BY</td>\n",
              "    </tr>\n",
              "    <tr>\n",
              "      <th>2</th>\n",
              "      <td>Berlin</td>\n",
              "      <td>BE</td>\n",
              "    </tr>\n",
              "    <tr>\n",
              "      <th>3</th>\n",
              "      <td>Brandenburg</td>\n",
              "      <td>BB</td>\n",
              "    </tr>\n",
              "    <tr>\n",
              "      <th>4</th>\n",
              "      <td>Bremen</td>\n",
              "      <td>HB</td>\n",
              "    </tr>\n",
              "    <tr>\n",
              "      <th>5</th>\n",
              "      <td>Hamburg</td>\n",
              "      <td>HH</td>\n",
              "    </tr>\n",
              "    <tr>\n",
              "      <th>6</th>\n",
              "      <td>Hessen</td>\n",
              "      <td>HE</td>\n",
              "    </tr>\n",
              "    <tr>\n",
              "      <th>7</th>\n",
              "      <td>MecklenburgVorpommern</td>\n",
              "      <td>MV</td>\n",
              "    </tr>\n",
              "    <tr>\n",
              "      <th>8</th>\n",
              "      <td>Niedersachsen</td>\n",
              "      <td>HB,NI</td>\n",
              "    </tr>\n",
              "    <tr>\n",
              "      <th>9</th>\n",
              "      <td>NordrheinWestfalen</td>\n",
              "      <td>NW</td>\n",
              "    </tr>\n",
              "    <tr>\n",
              "      <th>10</th>\n",
              "      <td>RheinlandPfalz</td>\n",
              "      <td>RP</td>\n",
              "    </tr>\n",
              "    <tr>\n",
              "      <th>11</th>\n",
              "      <td>Saarland</td>\n",
              "      <td>SL</td>\n",
              "    </tr>\n",
              "    <tr>\n",
              "      <th>12</th>\n",
              "      <td>Sachsen</td>\n",
              "      <td>SN</td>\n",
              "    </tr>\n",
              "    <tr>\n",
              "      <th>13</th>\n",
              "      <td>SachsenAnhalt</td>\n",
              "      <td>ST</td>\n",
              "    </tr>\n",
              "    <tr>\n",
              "      <th>14</th>\n",
              "      <td>SchleswigHolstein</td>\n",
              "      <td>SH</td>\n",
              "    </tr>\n",
              "    <tr>\n",
              "      <th>15</th>\n",
              "      <td>Thueringen</td>\n",
              "      <td>TH</td>\n",
              "    </tr>\n",
              "  </tbody>\n",
              "</table>\n",
              "</div>"
            ],
            "text/plain": [
              "                StateName  State\n",
              "0       BadenWuerttemberg     BW\n",
              "1                  Bayern     BY\n",
              "2                  Berlin     BE\n",
              "3             Brandenburg     BB\n",
              "4                  Bremen     HB\n",
              "5                 Hamburg     HH\n",
              "6                  Hessen     HE\n",
              "7   MecklenburgVorpommern     MV\n",
              "8           Niedersachsen  HB,NI\n",
              "9      NordrheinWestfalen     NW\n",
              "10         RheinlandPfalz     RP\n",
              "11               Saarland     SL\n",
              "12                Sachsen     SN\n",
              "13          SachsenAnhalt     ST\n",
              "14      SchleswigHolstein     SH\n",
              "15             Thueringen     TH"
            ]
          },
          "metadata": {
            "tags": []
          }
        },
        {
          "output_type": "display_data",
          "data": {
            "text/html": [
              "<div>\n",
              "<style scoped>\n",
              "    .dataframe tbody tr th:only-of-type {\n",
              "        vertical-align: middle;\n",
              "    }\n",
              "\n",
              "    .dataframe tbody tr th {\n",
              "        vertical-align: top;\n",
              "    }\n",
              "\n",
              "    .dataframe thead th {\n",
              "        text-align: right;\n",
              "    }\n",
              "</style>\n",
              "<table border=\"1\" class=\"dataframe\">\n",
              "  <thead>\n",
              "    <tr style=\"text-align: right;\">\n",
              "      <th></th>\n",
              "      <th>StateName</th>\n",
              "      <th>State</th>\n",
              "    </tr>\n",
              "  </thead>\n",
              "  <tbody>\n",
              "    <tr>\n",
              "      <th>count</th>\n",
              "      <td>16</td>\n",
              "      <td>16</td>\n",
              "    </tr>\n",
              "    <tr>\n",
              "      <th>unique</th>\n",
              "      <td>16</td>\n",
              "      <td>16</td>\n",
              "    </tr>\n",
              "    <tr>\n",
              "      <th>top</th>\n",
              "      <td>Niedersachsen</td>\n",
              "      <td>MV</td>\n",
              "    </tr>\n",
              "    <tr>\n",
              "      <th>freq</th>\n",
              "      <td>1</td>\n",
              "      <td>1</td>\n",
              "    </tr>\n",
              "    <tr>\n",
              "      <th>counts</th>\n",
              "      <td>16</td>\n",
              "      <td>16</td>\n",
              "    </tr>\n",
              "    <tr>\n",
              "      <th>uniques</th>\n",
              "      <td>16</td>\n",
              "      <td>16</td>\n",
              "    </tr>\n",
              "    <tr>\n",
              "      <th>missing</th>\n",
              "      <td>0</td>\n",
              "      <td>0</td>\n",
              "    </tr>\n",
              "    <tr>\n",
              "      <th>missing_perc</th>\n",
              "      <td>0%</td>\n",
              "      <td>0%</td>\n",
              "    </tr>\n",
              "    <tr>\n",
              "      <th>types</th>\n",
              "      <td>unique</td>\n",
              "      <td>unique</td>\n",
              "    </tr>\n",
              "  </tbody>\n",
              "</table>\n",
              "</div>"
            ],
            "text/plain": [
              "                  StateName   State\n",
              "count                    16      16\n",
              "unique                   16      16\n",
              "top           Niedersachsen      MV\n",
              "freq                      1       1\n",
              "counts                   16      16\n",
              "uniques                  16      16\n",
              "missing                   0       0\n",
              "missing_perc             0%      0%\n",
              "types                unique  unique"
            ]
          },
          "metadata": {
            "tags": []
          }
        }
      ]
    },
    {
      "cell_type": "code",
      "metadata": {
        "id": "3cTpdj3GvC1A",
        "colab": {
          "base_uri": "https://localhost:8080/"
        },
        "outputId": "7b5e483b-cf22-49c8-9df9-a6f987df5797"
      },
      "source": [
        "display(googletrend)\n",
        "display(DataFrameSummary(googletrend).summary())"
      ],
      "execution_count": null,
      "outputs": [
        {
          "output_type": "display_data",
          "data": {
            "text/html": [
              "<div>\n",
              "<style scoped>\n",
              "    .dataframe tbody tr th:only-of-type {\n",
              "        vertical-align: middle;\n",
              "    }\n",
              "\n",
              "    .dataframe tbody tr th {\n",
              "        vertical-align: top;\n",
              "    }\n",
              "\n",
              "    .dataframe thead th {\n",
              "        text-align: right;\n",
              "    }\n",
              "</style>\n",
              "<table border=\"1\" class=\"dataframe\">\n",
              "  <thead>\n",
              "    <tr style=\"text-align: right;\">\n",
              "      <th></th>\n",
              "      <th>file</th>\n",
              "      <th>week</th>\n",
              "      <th>trend</th>\n",
              "    </tr>\n",
              "  </thead>\n",
              "  <tbody>\n",
              "    <tr>\n",
              "      <th>0</th>\n",
              "      <td>Rossmann_DE_SN</td>\n",
              "      <td>2012-12-02 - 2012-12-08</td>\n",
              "      <td>96</td>\n",
              "    </tr>\n",
              "    <tr>\n",
              "      <th>1</th>\n",
              "      <td>Rossmann_DE_SN</td>\n",
              "      <td>2012-12-09 - 2012-12-15</td>\n",
              "      <td>95</td>\n",
              "    </tr>\n",
              "    <tr>\n",
              "      <th>2</th>\n",
              "      <td>Rossmann_DE_SN</td>\n",
              "      <td>2012-12-16 - 2012-12-22</td>\n",
              "      <td>91</td>\n",
              "    </tr>\n",
              "    <tr>\n",
              "      <th>3</th>\n",
              "      <td>Rossmann_DE_SN</td>\n",
              "      <td>2012-12-23 - 2012-12-29</td>\n",
              "      <td>48</td>\n",
              "    </tr>\n",
              "    <tr>\n",
              "      <th>4</th>\n",
              "      <td>Rossmann_DE_SN</td>\n",
              "      <td>2012-12-30 - 2013-01-05</td>\n",
              "      <td>67</td>\n",
              "    </tr>\n",
              "    <tr>\n",
              "      <th>...</th>\n",
              "      <td>...</td>\n",
              "      <td>...</td>\n",
              "      <td>...</td>\n",
              "    </tr>\n",
              "    <tr>\n",
              "      <th>2067</th>\n",
              "      <td>Rossmann_DE_SL</td>\n",
              "      <td>2015-08-30 - 2015-09-05</td>\n",
              "      <td>95</td>\n",
              "    </tr>\n",
              "    <tr>\n",
              "      <th>2068</th>\n",
              "      <td>Rossmann_DE_SL</td>\n",
              "      <td>2015-09-06 - 2015-09-12</td>\n",
              "      <td>47</td>\n",
              "    </tr>\n",
              "    <tr>\n",
              "      <th>2069</th>\n",
              "      <td>Rossmann_DE_SL</td>\n",
              "      <td>2015-09-13 - 2015-09-19</td>\n",
              "      <td>80</td>\n",
              "    </tr>\n",
              "    <tr>\n",
              "      <th>2070</th>\n",
              "      <td>Rossmann_DE_SL</td>\n",
              "      <td>2015-09-20 - 2015-09-26</td>\n",
              "      <td>57</td>\n",
              "    </tr>\n",
              "    <tr>\n",
              "      <th>2071</th>\n",
              "      <td>Rossmann_DE_SL</td>\n",
              "      <td>2015-09-27 - 2015-10-03</td>\n",
              "      <td>0</td>\n",
              "    </tr>\n",
              "  </tbody>\n",
              "</table>\n",
              "<p>2072 rows × 3 columns</p>\n",
              "</div>"
            ],
            "text/plain": [
              "                file                     week  trend\n",
              "0     Rossmann_DE_SN  2012-12-02 - 2012-12-08     96\n",
              "1     Rossmann_DE_SN  2012-12-09 - 2012-12-15     95\n",
              "2     Rossmann_DE_SN  2012-12-16 - 2012-12-22     91\n",
              "3     Rossmann_DE_SN  2012-12-23 - 2012-12-29     48\n",
              "4     Rossmann_DE_SN  2012-12-30 - 2013-01-05     67\n",
              "...              ...                      ...    ...\n",
              "2067  Rossmann_DE_SL  2015-08-30 - 2015-09-05     95\n",
              "2068  Rossmann_DE_SL  2015-09-06 - 2015-09-12     47\n",
              "2069  Rossmann_DE_SL  2015-09-13 - 2015-09-19     80\n",
              "2070  Rossmann_DE_SL  2015-09-20 - 2015-09-26     57\n",
              "2071  Rossmann_DE_SL  2015-09-27 - 2015-10-03      0\n",
              "\n",
              "[2072 rows x 3 columns]"
            ]
          },
          "metadata": {
            "tags": []
          }
        },
        {
          "output_type": "display_data",
          "data": {
            "text/html": [
              "<div>\n",
              "<style scoped>\n",
              "    .dataframe tbody tr th:only-of-type {\n",
              "        vertical-align: middle;\n",
              "    }\n",
              "\n",
              "    .dataframe tbody tr th {\n",
              "        vertical-align: top;\n",
              "    }\n",
              "\n",
              "    .dataframe thead th {\n",
              "        text-align: right;\n",
              "    }\n",
              "</style>\n",
              "<table border=\"1\" class=\"dataframe\">\n",
              "  <thead>\n",
              "    <tr style=\"text-align: right;\">\n",
              "      <th></th>\n",
              "      <th>file</th>\n",
              "      <th>week</th>\n",
              "      <th>trend</th>\n",
              "    </tr>\n",
              "  </thead>\n",
              "  <tbody>\n",
              "    <tr>\n",
              "      <th>count</th>\n",
              "      <td>NaN</td>\n",
              "      <td>NaN</td>\n",
              "      <td>2072</td>\n",
              "    </tr>\n",
              "    <tr>\n",
              "      <th>mean</th>\n",
              "      <td>NaN</td>\n",
              "      <td>NaN</td>\n",
              "      <td>63.8142</td>\n",
              "    </tr>\n",
              "    <tr>\n",
              "      <th>std</th>\n",
              "      <td>NaN</td>\n",
              "      <td>NaN</td>\n",
              "      <td>12.6502</td>\n",
              "    </tr>\n",
              "    <tr>\n",
              "      <th>min</th>\n",
              "      <td>NaN</td>\n",
              "      <td>NaN</td>\n",
              "      <td>0</td>\n",
              "    </tr>\n",
              "    <tr>\n",
              "      <th>25%</th>\n",
              "      <td>NaN</td>\n",
              "      <td>NaN</td>\n",
              "      <td>55</td>\n",
              "    </tr>\n",
              "    <tr>\n",
              "      <th>50%</th>\n",
              "      <td>NaN</td>\n",
              "      <td>NaN</td>\n",
              "      <td>64</td>\n",
              "    </tr>\n",
              "    <tr>\n",
              "      <th>75%</th>\n",
              "      <td>NaN</td>\n",
              "      <td>NaN</td>\n",
              "      <td>72</td>\n",
              "    </tr>\n",
              "    <tr>\n",
              "      <th>max</th>\n",
              "      <td>NaN</td>\n",
              "      <td>NaN</td>\n",
              "      <td>100</td>\n",
              "    </tr>\n",
              "    <tr>\n",
              "      <th>counts</th>\n",
              "      <td>2072</td>\n",
              "      <td>2072</td>\n",
              "      <td>2072</td>\n",
              "    </tr>\n",
              "    <tr>\n",
              "      <th>uniques</th>\n",
              "      <td>14</td>\n",
              "      <td>148</td>\n",
              "      <td>68</td>\n",
              "    </tr>\n",
              "    <tr>\n",
              "      <th>missing</th>\n",
              "      <td>0</td>\n",
              "      <td>0</td>\n",
              "      <td>0</td>\n",
              "    </tr>\n",
              "    <tr>\n",
              "      <th>missing_perc</th>\n",
              "      <td>0%</td>\n",
              "      <td>0%</td>\n",
              "      <td>0%</td>\n",
              "    </tr>\n",
              "    <tr>\n",
              "      <th>types</th>\n",
              "      <td>categorical</td>\n",
              "      <td>categorical</td>\n",
              "      <td>numeric</td>\n",
              "    </tr>\n",
              "  </tbody>\n",
              "</table>\n",
              "</div>"
            ],
            "text/plain": [
              "                     file         week    trend\n",
              "count                 NaN          NaN     2072\n",
              "mean                  NaN          NaN  63.8142\n",
              "std                   NaN          NaN  12.6502\n",
              "min                   NaN          NaN        0\n",
              "25%                   NaN          NaN       55\n",
              "50%                   NaN          NaN       64\n",
              "75%                   NaN          NaN       72\n",
              "max                   NaN          NaN      100\n",
              "counts               2072         2072     2072\n",
              "uniques                14          148       68\n",
              "missing                 0            0        0\n",
              "missing_perc           0%           0%       0%\n",
              "types         categorical  categorical  numeric"
            ]
          },
          "metadata": {
            "tags": []
          }
        }
      ]
    },
    {
      "cell_type": "code",
      "metadata": {
        "id": "5344c4MJvC1A",
        "colab": {
          "base_uri": "https://localhost:8080/"
        },
        "outputId": "48c0b01b-10b0-4aab-c9bf-6d7de2245044"
      },
      "source": [
        "display(weather)\n",
        "display(DataFrameSummary(weather[['Max_TemperatureC', 'Mean_TemperatureC', 'Min_TemperatureC',\n",
        "   'Max_Humidity', 'Mean_Humidity', 'Min_Humidity', 'Max_Wind_SpeedKm_h', \n",
        "   'Mean_Wind_SpeedKm_h', 'CloudCover', 'Precipitationmm']]).summary())"
      ],
      "execution_count": null,
      "outputs": [
        {
          "output_type": "display_data",
          "data": {
            "text/html": [
              "<div>\n",
              "<style scoped>\n",
              "    .dataframe tbody tr th:only-of-type {\n",
              "        vertical-align: middle;\n",
              "    }\n",
              "\n",
              "    .dataframe tbody tr th {\n",
              "        vertical-align: top;\n",
              "    }\n",
              "\n",
              "    .dataframe thead th {\n",
              "        text-align: right;\n",
              "    }\n",
              "</style>\n",
              "<table border=\"1\" class=\"dataframe\">\n",
              "  <thead>\n",
              "    <tr style=\"text-align: right;\">\n",
              "      <th></th>\n",
              "      <th>file</th>\n",
              "      <th>Date</th>\n",
              "      <th>Max_TemperatureC</th>\n",
              "      <th>Mean_TemperatureC</th>\n",
              "      <th>Min_TemperatureC</th>\n",
              "      <th>Dew_PointC</th>\n",
              "      <th>MeanDew_PointC</th>\n",
              "      <th>Min_DewpointC</th>\n",
              "      <th>Max_Humidity</th>\n",
              "      <th>Mean_Humidity</th>\n",
              "      <th>Min_Humidity</th>\n",
              "      <th>Max_Sea_Level_PressurehPa</th>\n",
              "      <th>Mean_Sea_Level_PressurehPa</th>\n",
              "      <th>Min_Sea_Level_PressurehPa</th>\n",
              "      <th>Max_VisibilityKm</th>\n",
              "      <th>Mean_VisibilityKm</th>\n",
              "      <th>Min_VisibilitykM</th>\n",
              "      <th>Max_Wind_SpeedKm_h</th>\n",
              "      <th>Mean_Wind_SpeedKm_h</th>\n",
              "      <th>Max_Gust_SpeedKm_h</th>\n",
              "      <th>Precipitationmm</th>\n",
              "      <th>CloudCover</th>\n",
              "      <th>Events</th>\n",
              "      <th>WindDirDegrees</th>\n",
              "    </tr>\n",
              "  </thead>\n",
              "  <tbody>\n",
              "    <tr>\n",
              "      <th>0</th>\n",
              "      <td>NordrheinWestfalen</td>\n",
              "      <td>2013-01-01</td>\n",
              "      <td>8</td>\n",
              "      <td>4</td>\n",
              "      <td>2</td>\n",
              "      <td>7</td>\n",
              "      <td>5</td>\n",
              "      <td>1</td>\n",
              "      <td>94</td>\n",
              "      <td>87</td>\n",
              "      <td>65</td>\n",
              "      <td>1013</td>\n",
              "      <td>1005</td>\n",
              "      <td>1001</td>\n",
              "      <td>31.0</td>\n",
              "      <td>12.0</td>\n",
              "      <td>4.0</td>\n",
              "      <td>39</td>\n",
              "      <td>26</td>\n",
              "      <td>58.0</td>\n",
              "      <td>5.08</td>\n",
              "      <td>6.0</td>\n",
              "      <td>Rain</td>\n",
              "      <td>215</td>\n",
              "    </tr>\n",
              "    <tr>\n",
              "      <th>1</th>\n",
              "      <td>NordrheinWestfalen</td>\n",
              "      <td>2013-01-02</td>\n",
              "      <td>7</td>\n",
              "      <td>4</td>\n",
              "      <td>1</td>\n",
              "      <td>5</td>\n",
              "      <td>3</td>\n",
              "      <td>2</td>\n",
              "      <td>93</td>\n",
              "      <td>85</td>\n",
              "      <td>78</td>\n",
              "      <td>1028</td>\n",
              "      <td>1022</td>\n",
              "      <td>1014</td>\n",
              "      <td>31.0</td>\n",
              "      <td>14.0</td>\n",
              "      <td>10.0</td>\n",
              "      <td>24</td>\n",
              "      <td>16</td>\n",
              "      <td>NaN</td>\n",
              "      <td>0.00</td>\n",
              "      <td>6.0</td>\n",
              "      <td>Rain</td>\n",
              "      <td>225</td>\n",
              "    </tr>\n",
              "    <tr>\n",
              "      <th>2</th>\n",
              "      <td>NordrheinWestfalen</td>\n",
              "      <td>2013-01-03</td>\n",
              "      <td>11</td>\n",
              "      <td>8</td>\n",
              "      <td>6</td>\n",
              "      <td>10</td>\n",
              "      <td>8</td>\n",
              "      <td>4</td>\n",
              "      <td>100</td>\n",
              "      <td>93</td>\n",
              "      <td>77</td>\n",
              "      <td>1035</td>\n",
              "      <td>1030</td>\n",
              "      <td>1026</td>\n",
              "      <td>31.0</td>\n",
              "      <td>8.0</td>\n",
              "      <td>2.0</td>\n",
              "      <td>26</td>\n",
              "      <td>21</td>\n",
              "      <td>NaN</td>\n",
              "      <td>1.02</td>\n",
              "      <td>7.0</td>\n",
              "      <td>Rain</td>\n",
              "      <td>240</td>\n",
              "    </tr>\n",
              "    <tr>\n",
              "      <th>3</th>\n",
              "      <td>NordrheinWestfalen</td>\n",
              "      <td>2013-01-04</td>\n",
              "      <td>9</td>\n",
              "      <td>9</td>\n",
              "      <td>8</td>\n",
              "      <td>9</td>\n",
              "      <td>9</td>\n",
              "      <td>8</td>\n",
              "      <td>100</td>\n",
              "      <td>94</td>\n",
              "      <td>87</td>\n",
              "      <td>1036</td>\n",
              "      <td>1035</td>\n",
              "      <td>1034</td>\n",
              "      <td>11.0</td>\n",
              "      <td>5.0</td>\n",
              "      <td>2.0</td>\n",
              "      <td>23</td>\n",
              "      <td>14</td>\n",
              "      <td>NaN</td>\n",
              "      <td>0.25</td>\n",
              "      <td>7.0</td>\n",
              "      <td>Rain</td>\n",
              "      <td>263</td>\n",
              "    </tr>\n",
              "    <tr>\n",
              "      <th>4</th>\n",
              "      <td>NordrheinWestfalen</td>\n",
              "      <td>2013-01-05</td>\n",
              "      <td>8</td>\n",
              "      <td>8</td>\n",
              "      <td>7</td>\n",
              "      <td>8</td>\n",
              "      <td>7</td>\n",
              "      <td>6</td>\n",
              "      <td>100</td>\n",
              "      <td>94</td>\n",
              "      <td>87</td>\n",
              "      <td>1035</td>\n",
              "      <td>1034</td>\n",
              "      <td>1033</td>\n",
              "      <td>10.0</td>\n",
              "      <td>6.0</td>\n",
              "      <td>3.0</td>\n",
              "      <td>16</td>\n",
              "      <td>10</td>\n",
              "      <td>NaN</td>\n",
              "      <td>0.00</td>\n",
              "      <td>7.0</td>\n",
              "      <td>Rain</td>\n",
              "      <td>268</td>\n",
              "    </tr>\n",
              "    <tr>\n",
              "      <th>...</th>\n",
              "      <td>...</td>\n",
              "      <td>...</td>\n",
              "      <td>...</td>\n",
              "      <td>...</td>\n",
              "      <td>...</td>\n",
              "      <td>...</td>\n",
              "      <td>...</td>\n",
              "      <td>...</td>\n",
              "      <td>...</td>\n",
              "      <td>...</td>\n",
              "      <td>...</td>\n",
              "      <td>...</td>\n",
              "      <td>...</td>\n",
              "      <td>...</td>\n",
              "      <td>...</td>\n",
              "      <td>...</td>\n",
              "      <td>...</td>\n",
              "      <td>...</td>\n",
              "      <td>...</td>\n",
              "      <td>...</td>\n",
              "      <td>...</td>\n",
              "      <td>...</td>\n",
              "      <td>...</td>\n",
              "      <td>...</td>\n",
              "    </tr>\n",
              "    <tr>\n",
              "      <th>15835</th>\n",
              "      <td>Saarland</td>\n",
              "      <td>2015-09-13</td>\n",
              "      <td>21</td>\n",
              "      <td>17</td>\n",
              "      <td>12</td>\n",
              "      <td>16</td>\n",
              "      <td>14</td>\n",
              "      <td>12</td>\n",
              "      <td>100</td>\n",
              "      <td>88</td>\n",
              "      <td>68</td>\n",
              "      <td>1015</td>\n",
              "      <td>1010</td>\n",
              "      <td>1005</td>\n",
              "      <td>31.0</td>\n",
              "      <td>15.0</td>\n",
              "      <td>10.0</td>\n",
              "      <td>27</td>\n",
              "      <td>10</td>\n",
              "      <td>50.0</td>\n",
              "      <td>1.02</td>\n",
              "      <td>7.0</td>\n",
              "      <td>Rain</td>\n",
              "      <td>113</td>\n",
              "    </tr>\n",
              "    <tr>\n",
              "      <th>15836</th>\n",
              "      <td>Saarland</td>\n",
              "      <td>2015-09-14</td>\n",
              "      <td>18</td>\n",
              "      <td>14</td>\n",
              "      <td>11</td>\n",
              "      <td>15</td>\n",
              "      <td>12</td>\n",
              "      <td>7</td>\n",
              "      <td>99</td>\n",
              "      <td>85</td>\n",
              "      <td>61</td>\n",
              "      <td>1009</td>\n",
              "      <td>1005</td>\n",
              "      <td>1004</td>\n",
              "      <td>31.0</td>\n",
              "      <td>13.0</td>\n",
              "      <td>4.0</td>\n",
              "      <td>32</td>\n",
              "      <td>16</td>\n",
              "      <td>53.0</td>\n",
              "      <td>9.91</td>\n",
              "      <td>5.0</td>\n",
              "      <td>Rain-Thunderstorm</td>\n",
              "      <td>213</td>\n",
              "    </tr>\n",
              "    <tr>\n",
              "      <th>15837</th>\n",
              "      <td>Saarland</td>\n",
              "      <td>2015-09-15</td>\n",
              "      <td>16</td>\n",
              "      <td>12</td>\n",
              "      <td>9</td>\n",
              "      <td>11</td>\n",
              "      <td>8</td>\n",
              "      <td>7</td>\n",
              "      <td>93</td>\n",
              "      <td>77</td>\n",
              "      <td>62</td>\n",
              "      <td>1010</td>\n",
              "      <td>1008</td>\n",
              "      <td>1004</td>\n",
              "      <td>31.0</td>\n",
              "      <td>12.0</td>\n",
              "      <td>10.0</td>\n",
              "      <td>34</td>\n",
              "      <td>14</td>\n",
              "      <td>NaN</td>\n",
              "      <td>0.00</td>\n",
              "      <td>5.0</td>\n",
              "      <td>Rain</td>\n",
              "      <td>193</td>\n",
              "    </tr>\n",
              "    <tr>\n",
              "      <th>15838</th>\n",
              "      <td>Saarland</td>\n",
              "      <td>2015-09-16</td>\n",
              "      <td>19</td>\n",
              "      <td>15</td>\n",
              "      <td>11</td>\n",
              "      <td>16</td>\n",
              "      <td>13</td>\n",
              "      <td>10</td>\n",
              "      <td>97</td>\n",
              "      <td>90</td>\n",
              "      <td>75</td>\n",
              "      <td>1004</td>\n",
              "      <td>999</td>\n",
              "      <td>995</td>\n",
              "      <td>31.0</td>\n",
              "      <td>10.0</td>\n",
              "      <td>4.0</td>\n",
              "      <td>32</td>\n",
              "      <td>14</td>\n",
              "      <td>45.0</td>\n",
              "      <td>20.07</td>\n",
              "      <td>7.0</td>\n",
              "      <td>Rain-Thunderstorm</td>\n",
              "      <td>147</td>\n",
              "    </tr>\n",
              "    <tr>\n",
              "      <th>15839</th>\n",
              "      <td>Saarland</td>\n",
              "      <td>2015-09-17</td>\n",
              "      <td>14</td>\n",
              "      <td>13</td>\n",
              "      <td>12</td>\n",
              "      <td>14</td>\n",
              "      <td>12</td>\n",
              "      <td>10</td>\n",
              "      <td>99</td>\n",
              "      <td>92</td>\n",
              "      <td>82</td>\n",
              "      <td>1013</td>\n",
              "      <td>1005</td>\n",
              "      <td>999</td>\n",
              "      <td>31.0</td>\n",
              "      <td>14.0</td>\n",
              "      <td>8.0</td>\n",
              "      <td>27</td>\n",
              "      <td>16</td>\n",
              "      <td>47.0</td>\n",
              "      <td>6.10</td>\n",
              "      <td>6.0</td>\n",
              "      <td>Rain</td>\n",
              "      <td>202</td>\n",
              "    </tr>\n",
              "  </tbody>\n",
              "</table>\n",
              "<p>15840 rows × 24 columns</p>\n",
              "</div>"
            ],
            "text/plain": [
              "                     file        Date  ...             Events  WindDirDegrees\n",
              "0      NordrheinWestfalen  2013-01-01  ...               Rain             215\n",
              "1      NordrheinWestfalen  2013-01-02  ...               Rain             225\n",
              "2      NordrheinWestfalen  2013-01-03  ...               Rain             240\n",
              "3      NordrheinWestfalen  2013-01-04  ...               Rain             263\n",
              "4      NordrheinWestfalen  2013-01-05  ...               Rain             268\n",
              "...                   ...         ...  ...                ...             ...\n",
              "15835            Saarland  2015-09-13  ...               Rain             113\n",
              "15836            Saarland  2015-09-14  ...  Rain-Thunderstorm             213\n",
              "15837            Saarland  2015-09-15  ...               Rain             193\n",
              "15838            Saarland  2015-09-16  ...  Rain-Thunderstorm             147\n",
              "15839            Saarland  2015-09-17  ...               Rain             202\n",
              "\n",
              "[15840 rows x 24 columns]"
            ]
          },
          "metadata": {
            "tags": []
          }
        },
        {
          "output_type": "display_data",
          "data": {
            "text/html": [
              "<div>\n",
              "<style scoped>\n",
              "    .dataframe tbody tr th:only-of-type {\n",
              "        vertical-align: middle;\n",
              "    }\n",
              "\n",
              "    .dataframe tbody tr th {\n",
              "        vertical-align: top;\n",
              "    }\n",
              "\n",
              "    .dataframe thead th {\n",
              "        text-align: right;\n",
              "    }\n",
              "</style>\n",
              "<table border=\"1\" class=\"dataframe\">\n",
              "  <thead>\n",
              "    <tr style=\"text-align: right;\">\n",
              "      <th></th>\n",
              "      <th>Max_TemperatureC</th>\n",
              "      <th>Mean_TemperatureC</th>\n",
              "      <th>Min_TemperatureC</th>\n",
              "      <th>Max_Humidity</th>\n",
              "      <th>Mean_Humidity</th>\n",
              "      <th>Min_Humidity</th>\n",
              "      <th>Max_Wind_SpeedKm_h</th>\n",
              "      <th>Mean_Wind_SpeedKm_h</th>\n",
              "      <th>CloudCover</th>\n",
              "      <th>Precipitationmm</th>\n",
              "    </tr>\n",
              "  </thead>\n",
              "  <tbody>\n",
              "    <tr>\n",
              "      <th>count</th>\n",
              "      <td>15840</td>\n",
              "      <td>15840</td>\n",
              "      <td>15840</td>\n",
              "      <td>15840</td>\n",
              "      <td>15840</td>\n",
              "      <td>15840</td>\n",
              "      <td>15840</td>\n",
              "      <td>15840</td>\n",
              "      <td>14667</td>\n",
              "      <td>15840</td>\n",
              "    </tr>\n",
              "    <tr>\n",
              "      <th>mean</th>\n",
              "      <td>14.6441</td>\n",
              "      <td>10.389</td>\n",
              "      <td>6.19899</td>\n",
              "      <td>93.6596</td>\n",
              "      <td>74.2829</td>\n",
              "      <td>50.1586</td>\n",
              "      <td>22.7666</td>\n",
              "      <td>11.9722</td>\n",
              "      <td>5.55131</td>\n",
              "      <td>0.831718</td>\n",
              "    </tr>\n",
              "    <tr>\n",
              "      <th>std</th>\n",
              "      <td>8.64601</td>\n",
              "      <td>7.37926</td>\n",
              "      <td>6.52639</td>\n",
              "      <td>7.67853</td>\n",
              "      <td>13.4866</td>\n",
              "      <td>19.9602</td>\n",
              "      <td>8.98862</td>\n",
              "      <td>5.87284</td>\n",
              "      <td>1.68771</td>\n",
              "      <td>2.51351</td>\n",
              "    </tr>\n",
              "    <tr>\n",
              "      <th>min</th>\n",
              "      <td>-11</td>\n",
              "      <td>-13</td>\n",
              "      <td>-15</td>\n",
              "      <td>44</td>\n",
              "      <td>30</td>\n",
              "      <td>4</td>\n",
              "      <td>3</td>\n",
              "      <td>2</td>\n",
              "      <td>0</td>\n",
              "      <td>0</td>\n",
              "    </tr>\n",
              "    <tr>\n",
              "      <th>25%</th>\n",
              "      <td>8</td>\n",
              "      <td>4</td>\n",
              "      <td>1</td>\n",
              "      <td>90.75</td>\n",
              "      <td>65</td>\n",
              "      <td>34</td>\n",
              "      <td>16</td>\n",
              "      <td>8</td>\n",
              "      <td>5</td>\n",
              "      <td>0</td>\n",
              "    </tr>\n",
              "    <tr>\n",
              "      <th>50%</th>\n",
              "      <td>15</td>\n",
              "      <td>11</td>\n",
              "      <td>7</td>\n",
              "      <td>94</td>\n",
              "      <td>76</td>\n",
              "      <td>49</td>\n",
              "      <td>21</td>\n",
              "      <td>11</td>\n",
              "      <td>6</td>\n",
              "      <td>0</td>\n",
              "    </tr>\n",
              "    <tr>\n",
              "      <th>75%</th>\n",
              "      <td>21</td>\n",
              "      <td>16</td>\n",
              "      <td>11</td>\n",
              "      <td>100</td>\n",
              "      <td>85</td>\n",
              "      <td>66</td>\n",
              "      <td>27</td>\n",
              "      <td>14</td>\n",
              "      <td>7</td>\n",
              "      <td>0.25</td>\n",
              "    </tr>\n",
              "    <tr>\n",
              "      <th>max</th>\n",
              "      <td>39</td>\n",
              "      <td>31</td>\n",
              "      <td>24</td>\n",
              "      <td>100</td>\n",
              "      <td>100</td>\n",
              "      <td>100</td>\n",
              "      <td>101</td>\n",
              "      <td>53</td>\n",
              "      <td>8</td>\n",
              "      <td>58.93</td>\n",
              "    </tr>\n",
              "    <tr>\n",
              "      <th>counts</th>\n",
              "      <td>15840</td>\n",
              "      <td>15840</td>\n",
              "      <td>15840</td>\n",
              "      <td>15840</td>\n",
              "      <td>15840</td>\n",
              "      <td>15840</td>\n",
              "      <td>15840</td>\n",
              "      <td>15840</td>\n",
              "      <td>14667</td>\n",
              "      <td>15840</td>\n",
              "    </tr>\n",
              "    <tr>\n",
              "      <th>uniques</th>\n",
              "      <td>51</td>\n",
              "      <td>45</td>\n",
              "      <td>40</td>\n",
              "      <td>53</td>\n",
              "      <td>71</td>\n",
              "      <td>93</td>\n",
              "      <td>44</td>\n",
              "      <td>29</td>\n",
              "      <td>9</td>\n",
              "      <td>41</td>\n",
              "    </tr>\n",
              "    <tr>\n",
              "      <th>missing</th>\n",
              "      <td>0</td>\n",
              "      <td>0</td>\n",
              "      <td>0</td>\n",
              "      <td>0</td>\n",
              "      <td>0</td>\n",
              "      <td>0</td>\n",
              "      <td>0</td>\n",
              "      <td>0</td>\n",
              "      <td>1173</td>\n",
              "      <td>0</td>\n",
              "    </tr>\n",
              "    <tr>\n",
              "      <th>missing_perc</th>\n",
              "      <td>0%</td>\n",
              "      <td>0%</td>\n",
              "      <td>0%</td>\n",
              "      <td>0%</td>\n",
              "      <td>0%</td>\n",
              "      <td>0%</td>\n",
              "      <td>0%</td>\n",
              "      <td>0%</td>\n",
              "      <td>7.41%</td>\n",
              "      <td>0%</td>\n",
              "    </tr>\n",
              "    <tr>\n",
              "      <th>types</th>\n",
              "      <td>numeric</td>\n",
              "      <td>numeric</td>\n",
              "      <td>numeric</td>\n",
              "      <td>numeric</td>\n",
              "      <td>numeric</td>\n",
              "      <td>numeric</td>\n",
              "      <td>numeric</td>\n",
              "      <td>numeric</td>\n",
              "      <td>numeric</td>\n",
              "      <td>numeric</td>\n",
              "    </tr>\n",
              "  </tbody>\n",
              "</table>\n",
              "</div>"
            ],
            "text/plain": [
              "             Max_TemperatureC Mean_TemperatureC  ... CloudCover Precipitationmm\n",
              "count                   15840             15840  ...      14667           15840\n",
              "mean                  14.6441            10.389  ...    5.55131        0.831718\n",
              "std                   8.64601           7.37926  ...    1.68771         2.51351\n",
              "min                       -11               -13  ...          0               0\n",
              "25%                         8                 4  ...          5               0\n",
              "50%                        15                11  ...          6               0\n",
              "75%                        21                16  ...          7            0.25\n",
              "max                        39                31  ...          8           58.93\n",
              "counts                  15840             15840  ...      14667           15840\n",
              "uniques                    51                45  ...          9              41\n",
              "missing                     0                 0  ...       1173               0\n",
              "missing_perc               0%                0%  ...      7.41%              0%\n",
              "types                 numeric           numeric  ...    numeric         numeric\n",
              "\n",
              "[13 rows x 10 columns]"
            ]
          },
          "metadata": {
            "tags": []
          }
        }
      ]
    },
    {
      "cell_type": "code",
      "metadata": {
        "id": "xNpGX0FivC1A",
        "colab": {
          "base_uri": "https://localhost:8080/"
        },
        "outputId": "2076d84d-4d48-4453-d85b-83498f55c03a"
      },
      "source": [
        "weather.columns"
      ],
      "execution_count": null,
      "outputs": [
        {
          "output_type": "execute_result",
          "data": {
            "text/plain": [
              "Index(['file', 'Date', 'Max_TemperatureC', 'Mean_TemperatureC',\n",
              "       'Min_TemperatureC', 'Dew_PointC', 'MeanDew_PointC', 'Min_DewpointC',\n",
              "       'Max_Humidity', 'Mean_Humidity', 'Min_Humidity',\n",
              "       'Max_Sea_Level_PressurehPa', 'Mean_Sea_Level_PressurehPa',\n",
              "       'Min_Sea_Level_PressurehPa', 'Max_VisibilityKm', 'Mean_VisibilityKm',\n",
              "       'Min_VisibilitykM', 'Max_Wind_SpeedKm_h', 'Mean_Wind_SpeedKm_h',\n",
              "       'Max_Gust_SpeedKm_h', 'Precipitationmm', 'CloudCover', 'Events',\n",
              "       'WindDirDegrees'],\n",
              "      dtype='object')"
            ]
          },
          "metadata": {
            "tags": []
          },
          "execution_count": 16
        }
      ]
    },
    {
      "cell_type": "markdown",
      "metadata": {
        "id": "DWnUYy_8lS_6"
      },
      "source": [
        "# Data Pre-processing"
      ]
    },
    {
      "cell_type": "code",
      "metadata": {
        "id": "1_071VZ-vC1B"
      },
      "source": [
        "train.StateHoliday = train.StateHoliday != '0' # para convertir a booleana"
      ],
      "execution_count": null,
      "outputs": []
    },
    {
      "cell_type": "code",
      "metadata": {
        "id": "gaDyOw_tlnhV"
      },
      "source": [
        "test.StateHoliday = test.StateHoliday != '0' # para convertir a booleana"
      ],
      "execution_count": null,
      "outputs": []
    },
    {
      "cell_type": "code",
      "metadata": {
        "id": "Fpgj8lt4ltk8"
      },
      "source": [
        "def join_df(left, right, left_on, right_on=None):\n",
        "    if right_on is None: right_on = left_on\n",
        "    return left.merge(right, how='left', left_on=left_on, right_on=right_on, \n",
        "                      suffixes=(\"\", \"_y\"))"
      ],
      "execution_count": null,
      "outputs": []
    },
    {
      "cell_type": "code",
      "metadata": {
        "id": "9e7jxKTLmgWX"
      },
      "source": [
        "weather = join_df(weather, state_names, \"file\", \"StateName\") # le pego a weather el codigo de los estados"
      ],
      "execution_count": null,
      "outputs": []
    },
    {
      "cell_type": "code",
      "metadata": {
        "id": "vFsiwLWuuU2m"
      },
      "source": [
        "googletrend['Date'] = googletrend.week.str.split(' - ', expand=True)[0]\n",
        "googletrend['State'] = googletrend.file.str.split('_', expand=True)[2]\n",
        "googletrend.loc[googletrend.State == 'NI', \"State\"] = 'HB,NI'"
      ],
      "execution_count": null,
      "outputs": []
    },
    {
      "cell_type": "code",
      "metadata": {
        "id": "9wYHU7e8wMWn"
      },
      "source": [
        "def add_datepart(df):\n",
        "  df.Date = pd.to_datetime(df.Date)\n",
        "  df['Year'] = df.Date.dt.year\n",
        "  df['Month'] = df.Date.dt.month\n",
        "  df['Week'] = df.Date.dt.isocalendar().week\n",
        "  df['Day'] = df.Date.dt.day"
      ],
      "execution_count": null,
      "outputs": []
    },
    {
      "cell_type": "code",
      "metadata": {
        "id": "il84VN3ixXUS"
      },
      "source": [
        "add_datepart(weather)\n",
        "add_datepart(googletrend)\n",
        "add_datepart(train)\n",
        "add_datepart(test)"
      ],
      "execution_count": null,
      "outputs": []
    },
    {
      "cell_type": "code",
      "metadata": {
        "id": "n6PF_cSM11CA"
      },
      "source": [
        "trend_de = googletrend[googletrend.file == 'Rossmann_DE']"
      ],
      "execution_count": null,
      "outputs": []
    },
    {
      "cell_type": "code",
      "metadata": {
        "colab": {
          "base_uri": "https://localhost:8080/"
        },
        "id": "uFF-tBgpzual",
        "outputId": "64aa12d3-c2e3-4557-88d9-87cd492a0b32"
      },
      "source": [
        "store = join_df(store, store_states, \"Store\")\n",
        "len(store[store.State.isnull()])"
      ],
      "execution_count": null,
      "outputs": [
        {
          "output_type": "execute_result",
          "data": {
            "text/plain": [
              "0"
            ]
          },
          "metadata": {
            "tags": []
          },
          "execution_count": 25
        }
      ]
    },
    {
      "cell_type": "code",
      "metadata": {
        "colab": {
          "base_uri": "https://localhost:8080/"
        },
        "id": "H_JoY5hs0OPQ",
        "outputId": "a64a894f-9595-4f1c-d580-9c1b4eac1af6"
      },
      "source": [
        "joined = join_df(train, store, \"Store\")\n",
        "len(joined[joined.StoreType.isnull()])"
      ],
      "execution_count": null,
      "outputs": [
        {
          "output_type": "execute_result",
          "data": {
            "text/plain": [
              "0"
            ]
          },
          "metadata": {
            "tags": []
          },
          "execution_count": 26
        }
      ]
    },
    {
      "cell_type": "code",
      "metadata": {
        "colab": {
          "base_uri": "https://localhost:8080/"
        },
        "id": "WbBmUtL30frG",
        "outputId": "4026619a-4ba1-428d-e43a-6d072f9f5374"
      },
      "source": [
        "joined = join_df(joined, googletrend, [\"State\", \"Year\", \"Week\"])\n",
        "len(joined[joined.trend.isnull()])"
      ],
      "execution_count": null,
      "outputs": [
        {
          "output_type": "execute_result",
          "data": {
            "text/plain": [
              "0"
            ]
          },
          "metadata": {
            "tags": []
          },
          "execution_count": 27
        }
      ]
    },
    {
      "cell_type": "code",
      "metadata": {
        "colab": {
          "base_uri": "https://localhost:8080/"
        },
        "id": "zinX96ih0zFk",
        "outputId": "615de9cc-2263-4778-a921-7ffc38464905"
      },
      "source": [
        "joined = joined.merge(trend_de, 'left', ['Year', 'Week'], suffixes=('', '_DE'))\n",
        "len(joined[joined.trend_DE.isnull()])"
      ],
      "execution_count": null,
      "outputs": [
        {
          "output_type": "execute_result",
          "data": {
            "text/plain": [
              "0"
            ]
          },
          "metadata": {
            "tags": []
          },
          "execution_count": 28
        }
      ]
    },
    {
      "cell_type": "code",
      "metadata": {
        "colab": {
          "base_uri": "https://localhost:8080/"
        },
        "id": "L9IMxR2E2gQh",
        "outputId": "1d38a08e-7fa1-4b18-96d7-71666eb74ffc"
      },
      "source": [
        "joined = join_df(joined, weather, ['State', 'Date'])\n",
        "len(joined[joined.Mean_TemperatureC.isnull()])"
      ],
      "execution_count": null,
      "outputs": [
        {
          "output_type": "execute_result",
          "data": {
            "text/plain": [
              "0"
            ]
          },
          "metadata": {
            "tags": []
          },
          "execution_count": 29
        }
      ]
    },
    {
      "cell_type": "code",
      "metadata": {
        "colab": {
          "base_uri": "https://localhost:8080/"
        },
        "id": "_bJy5ZNiESM_",
        "outputId": "520136ee-f52c-4973-b7d8-e72adf86c309"
      },
      "source": [
        "joined_test = join_df(test, store, \"Store\")\n",
        "len(joined_test[joined_test.StoreType.isnull()])"
      ],
      "execution_count": null,
      "outputs": [
        {
          "output_type": "execute_result",
          "data": {
            "text/plain": [
              "0"
            ]
          },
          "metadata": {
            "tags": []
          },
          "execution_count": 30
        }
      ]
    },
    {
      "cell_type": "code",
      "metadata": {
        "colab": {
          "base_uri": "https://localhost:8080/"
        },
        "id": "6jo2EVTaIck4",
        "outputId": "d6d611f8-4fa1-4ad5-9fed-8d8ab9c8db0b"
      },
      "source": [
        "joined_test = join_df(joined_test, googletrend, [\"State\", \"Year\", \"Week\"])\n",
        "len(joined_test[joined_test.trend.isnull()])"
      ],
      "execution_count": null,
      "outputs": [
        {
          "output_type": "execute_result",
          "data": {
            "text/plain": [
              "0"
            ]
          },
          "metadata": {
            "tags": []
          },
          "execution_count": 31
        }
      ]
    },
    {
      "cell_type": "code",
      "metadata": {
        "colab": {
          "base_uri": "https://localhost:8080/"
        },
        "id": "9W8JcD0BJE8w",
        "outputId": "c14e8c7d-0c9a-4c74-f6d3-825443f31fd8"
      },
      "source": [
        "joined_test = joined_test.merge(trend_de, 'left', ['Year', 'Week'], suffixes=('', '_DE'))\n",
        "len(joined_test[joined_test.trend_DE.isnull()])"
      ],
      "execution_count": null,
      "outputs": [
        {
          "output_type": "execute_result",
          "data": {
            "text/plain": [
              "0"
            ]
          },
          "metadata": {
            "tags": []
          },
          "execution_count": 32
        }
      ]
    },
    {
      "cell_type": "code",
      "metadata": {
        "colab": {
          "base_uri": "https://localhost:8080/"
        },
        "id": "r6261E0NJFpI",
        "outputId": "a27ba611-cf52-4c7a-b8d8-b0fbfcf528e9"
      },
      "source": [
        "joined_test = join_df(joined_test, weather, ['State', 'Date'])\n",
        "len(joined_test[joined_test.Mean_TemperatureC.isnull()])"
      ],
      "execution_count": null,
      "outputs": [
        {
          "output_type": "execute_result",
          "data": {
            "text/plain": [
              "0"
            ]
          },
          "metadata": {
            "tags": []
          },
          "execution_count": 33
        }
      ]
    },
    {
      "cell_type": "code",
      "metadata": {
        "colab": {
          "base_uri": "https://localhost:8080/"
        },
        "id": "5Rj7DHGi9Mmb",
        "outputId": "187f76f5-c4df-4e7d-e805-0bc5a14101d5"
      },
      "source": [
        "joined_test.columns"
      ],
      "execution_count": null,
      "outputs": [
        {
          "output_type": "execute_result",
          "data": {
            "text/plain": [
              "Index(['Id', 'Store', 'DayOfWeek', 'Date', 'Open', 'Promo', 'StateHoliday',\n",
              "       'SchoolHoliday', 'Year', 'Month', 'Week', 'Day', 'StoreType',\n",
              "       'Assortment', 'CompetitionDistance', 'CompetitionOpenSinceMonth',\n",
              "       'CompetitionOpenSinceYear', 'Promo2', 'Promo2SinceWeek',\n",
              "       'Promo2SinceYear', 'PromoInterval', 'State', 'file', 'week', 'trend',\n",
              "       'Date_y', 'Month_y', 'Day_y', 'file_DE', 'week_DE', 'trend_DE',\n",
              "       'Date_DE', 'State_DE', 'Month_DE', 'Day_DE', 'file_y',\n",
              "       'Max_TemperatureC', 'Mean_TemperatureC', 'Min_TemperatureC',\n",
              "       'Dew_PointC', 'MeanDew_PointC', 'Min_DewpointC', 'Max_Humidity',\n",
              "       'Mean_Humidity', 'Min_Humidity', 'Max_Sea_Level_PressurehPa',\n",
              "       'Mean_Sea_Level_PressurehPa', 'Min_Sea_Level_PressurehPa',\n",
              "       'Max_VisibilityKm', 'Mean_VisibilityKm', 'Min_VisibilitykM',\n",
              "       'Max_Wind_SpeedKm_h', 'Mean_Wind_SpeedKm_h', 'Max_Gust_SpeedKm_h',\n",
              "       'Precipitationmm', 'CloudCover', 'Events', 'WindDirDegrees',\n",
              "       'StateName', 'Year_y', 'Month_y', 'Week_y', 'Day_y'],\n",
              "      dtype='object')"
            ]
          },
          "metadata": {
            "tags": []
          },
          "execution_count": 35
        }
      ]
    },
    {
      "cell_type": "code",
      "metadata": {
        "id": "usDX_EiH3WyO"
      },
      "source": [
        "joined.CompetitionOpenSinceYear = joined.CompetitionOpenSinceYear.fillna(1900).astype(np.int32)\n",
        "joined.CompetitionOpenSinceMonth = joined.CompetitionOpenSinceMonth.fillna(1).astype(np.int32)\n",
        "joined.Promo2SinceYear = joined.Promo2SinceYear.fillna(1900).astype(np.int32)\n",
        "joined.Promo2SinceWeek = joined.Promo2SinceWeek.fillna(1).astype(np.int32)"
      ],
      "execution_count": null,
      "outputs": []
    },
    {
      "cell_type": "code",
      "metadata": {
        "id": "5XjmjJcd1ASP"
      },
      "source": [
        "joined_test.CompetitionOpenSinceYear = joined_test.CompetitionOpenSinceYear.fillna(1900).astype(np.int32)\n",
        "joined_test.CompetitionOpenSinceMonth = joined_test.CompetitionOpenSinceMonth.fillna(1).astype(np.int32)\n",
        "joined_test.Promo2SinceYear = joined_test.Promo2SinceYear.fillna(1900).astype(np.int32)\n",
        "joined_test.Promo2SinceWeek = joined_test.Promo2SinceWeek.fillna(1).astype(np.int32)"
      ],
      "execution_count": null,
      "outputs": []
    },
    {
      "cell_type": "code",
      "metadata": {
        "id": "iKfJajma4KVj"
      },
      "source": [
        "joined[\"CompetitionOpenSince\"] = pd.to_datetime(joined.apply(lambda x: datetime.datetime(x.CompetitionOpenSinceYear, \n",
        "          x.CompetitionOpenSinceMonth, 15), axis=1))\n",
        "joined[\"CompetitionDaysOpen\"] = joined.Date.subtract(joined[\"CompetitionOpenSince\"]).dt.days"
      ],
      "execution_count": null,
      "outputs": []
    },
    {
      "cell_type": "code",
      "metadata": {
        "id": "X-2B7qNn1IZt"
      },
      "source": [
        "joined_test[\"CompetitionOpenSince\"] = pd.to_datetime(joined_test.apply(lambda x: datetime.datetime(x.CompetitionOpenSinceYear, \n",
        "          x.CompetitionOpenSinceMonth, 15), axis=1))\n",
        "joined_test[\"CompetitionDaysOpen\"] = joined_test.Date.subtract(joined_test[\"CompetitionOpenSince\"]).dt.days"
      ],
      "execution_count": null,
      "outputs": []
    },
    {
      "cell_type": "code",
      "metadata": {
        "id": "q8zIuT9I7NkC"
      },
      "source": [
        "joined.loc[joined.CompetitionDaysOpen < 0, 'CompetitionDaysOpen'] = 0\n",
        "joined.loc[joined.CompetitionOpenSinceYear < 1990, 'CompetitionDaysOpen'] = 0"
      ],
      "execution_count": null,
      "outputs": []
    },
    {
      "cell_type": "code",
      "metadata": {
        "id": "tQZFTChv1UaJ"
      },
      "source": [
        "joined_test.loc[joined_test.CompetitionDaysOpen < 0, 'CompetitionDaysOpen'] = 0\n",
        "joined_test.loc[joined_test.CompetitionOpenSinceYear < 1990, 'CompetitionDaysOpen'] = 0"
      ],
      "execution_count": null,
      "outputs": []
    },
    {
      "cell_type": "code",
      "metadata": {
        "colab": {
          "base_uri": "https://localhost:8080/"
        },
        "id": "jspO9vbT8a96",
        "outputId": "5895b822-2722-48ec-fa46-b7b1883a8f85"
      },
      "source": [
        "joined[\"CompetitionMonthsOpen\"] = joined[\"CompetitionDaysOpen\"] // 30\n",
        "joined.loc[joined.CompetitionMonthsOpen > 24, \"CompetitionMonthsOpen\"] = 24\n",
        "joined.CompetitionMonthsOpen.unique()"
      ],
      "execution_count": null,
      "outputs": [
        {
          "output_type": "execute_result",
          "data": {
            "text/plain": [
              "array([24,  3, 19,  9,  0, 16, 17,  7, 15, 22, 11, 13,  2, 23, 12,  4, 10,\n",
              "        1, 14, 20,  8, 18,  6, 21,  5])"
            ]
          },
          "metadata": {
            "tags": []
          },
          "execution_count": 42
        }
      ]
    },
    {
      "cell_type": "code",
      "metadata": {
        "colab": {
          "base_uri": "https://localhost:8080/"
        },
        "id": "07dEcRv51adO",
        "outputId": "88b58064-a106-4a29-d8f1-9f85782af581"
      },
      "source": [
        "joined_test[\"CompetitionMonthsOpen\"] = joined_test[\"CompetitionDaysOpen\"] // 30\n",
        "joined_test.loc[joined_test.CompetitionMonthsOpen > 24, \"CompetitionMonthsOpen\"] = 24\n",
        "joined_test.CompetitionMonthsOpen.unique()"
      ],
      "execution_count": null,
      "outputs": [
        {
          "output_type": "execute_result",
          "data": {
            "text/plain": [
              "array([24, 11,  0, 18, 19, 17, 21, 13,  9,  2, 14,  4,  6, 12,  3, 16, 10,\n",
              "       15, 20, 22,  5, 23,  7,  1,  8])"
            ]
          },
          "metadata": {
            "tags": []
          },
          "execution_count": 43
        }
      ]
    },
    {
      "cell_type": "code",
      "metadata": {
        "id": "NIiE5qclCueD"
      },
      "source": [
        "joined[\"Promo2Since\"] = pd.to_datetime(joined.apply(lambda x: Week(x.Promo2SinceYear, x.Promo2SinceWeek).monday(), axis=1))\n",
        "joined[\"Promo2Days\"] = joined.Date.subtract(joined[\"Promo2Since\"]).dt.days"
      ],
      "execution_count": null,
      "outputs": []
    },
    {
      "cell_type": "code",
      "metadata": {
        "id": "Y-l_odKS1gn8"
      },
      "source": [
        "joined_test[\"Promo2Since\"] = pd.to_datetime(joined_test.apply(lambda x: Week(x.Promo2SinceYear, x.Promo2SinceWeek).monday(), axis=1))\n",
        "joined_test[\"Promo2Days\"] = joined_test.Date.subtract(joined_test[\"Promo2Since\"]).dt.days"
      ],
      "execution_count": null,
      "outputs": []
    },
    {
      "cell_type": "code",
      "metadata": {
        "id": "DADmPcRMDbHh"
      },
      "source": [
        "joined.loc[joined.Promo2Days <0, \"Promo2Days\"] = 0\n",
        "joined.loc[joined.Promo2SinceYear < 1990, \"Promo2Days\"] = 0"
      ],
      "execution_count": null,
      "outputs": []
    },
    {
      "cell_type": "code",
      "metadata": {
        "id": "6V-Qi0Hl1nFF"
      },
      "source": [
        "joined_test.loc[joined_test.Promo2Days <0, \"Promo2Days\"] = 0\n",
        "joined_test.loc[joined_test.Promo2SinceYear < 1990, \"Promo2Days\"] = 0"
      ],
      "execution_count": null,
      "outputs": []
    },
    {
      "cell_type": "code",
      "metadata": {
        "colab": {
          "base_uri": "https://localhost:8080/"
        },
        "id": "kT4Wz0fuGMoQ",
        "outputId": "c8838c16-4bfd-4872-f7a3-cdd2d7735b82"
      },
      "source": [
        "joined[\"Promo2Weeks\"] = joined[\"Promo2Days\"] // 7\n",
        "joined.loc[joined.Promo2Weeks < 0, \"Promo2Weeks\"] = 0\n",
        "joined.loc[joined.Promo2Weeks > 25, \"Promo2Weeks\"] = 25\n",
        "joined[\"Promo2Weeks\"].unique()"
      ],
      "execution_count": null,
      "outputs": [
        {
          "output_type": "execute_result",
          "data": {
            "text/plain": [
              "array([ 0, 25, 17,  8, 13, 24, 16,  7, 12, 23, 15,  6, 11, 22, 14,  5, 10,\n",
              "       21,  4,  9, 20,  3, 19,  2, 18,  1])"
            ]
          },
          "metadata": {
            "tags": []
          },
          "execution_count": 48
        }
      ]
    },
    {
      "cell_type": "code",
      "metadata": {
        "colab": {
          "base_uri": "https://localhost:8080/"
        },
        "id": "WPHxGVHm1q0X",
        "outputId": "96841821-c507-4683-8f66-6b547640ff5d"
      },
      "source": [
        "joined_test[\"Promo2Weeks\"] = joined_test[\"Promo2Days\"] // 7\n",
        "joined_test.loc[joined_test.Promo2Weeks < 0, \"Promo2Weeks\"] = 0\n",
        "joined_test.loc[joined_test.Promo2Weeks > 25, \"Promo2Weeks\"] = 25\n",
        "joined_test[\"Promo2Weeks\"].unique()"
      ],
      "execution_count": null,
      "outputs": [
        {
          "output_type": "execute_result",
          "data": {
            "text/plain": [
              "array([ 0, 25, 24, 15, 20, 23, 14, 19, 22, 13, 18, 21, 12, 17, 11, 16, 10,\n",
              "        9,  8])"
            ]
          },
          "metadata": {
            "tags": []
          },
          "execution_count": 49
        }
      ]
    },
    {
      "cell_type": "code",
      "metadata": {
        "id": "vWfR64-NxiPv"
      },
      "source": [
        "def get_missing_columns(df):\n",
        "    return list(df.columns[df.describe(include = 'all').loc['count']<len(df)])"
      ],
      "execution_count": null,
      "outputs": []
    },
    {
      "cell_type": "code",
      "metadata": {
        "id": "RERHkrJPyBtV"
      },
      "source": [
        "# Si no es dia 7 esta abierto - Verificado que el store 622 esta usualmente cerrado el día 7\n",
        "joined_test.loc[test['Open'].isna(), 'Open'] = joined_test[joined_test['Open'].isna()]['DayOfWeek'] != 7*1.0"
      ],
      "execution_count": null,
      "outputs": []
    },
    {
      "cell_type": "code",
      "metadata": {
        "id": "s-ORE8mryW2s"
      },
      "source": [
        "# Si no tengo la distancia, supongo que no hay (Como si estuviera lejos)\n",
        "joined_test.loc[joined_test['CompetitionDistance'].isna(), 'CompetitionDistance'] = joined_test['CompetitionDistance'].max()"
      ],
      "execution_count": null,
      "outputs": []
    },
    {
      "cell_type": "code",
      "metadata": {
        "id": "jVlaJfCDyi3v"
      },
      "source": [
        "joined_test.loc[joined_test['PromoInterval'] == ' ', 'PromoInterval'] = joined['PromoInterval'].unique()[0]\n",
        "joined_test.loc[joined_test['PromoInterval'].isna() & (joined_test['Promo2'] == 0), 'PromoInterval'] = joined['PromoInterval'].unique()[0]"
      ],
      "execution_count": null,
      "outputs": []
    },
    {
      "cell_type": "code",
      "metadata": {
        "colab": {
          "base_uri": "https://localhost:8080/"
        },
        "id": "tRAubWe21OBg",
        "outputId": "ec2eb549-94a8-4ac1-c957-80d9c42797a1"
      },
      "source": [
        "joined['PromoInterval'].unique()"
      ],
      "execution_count": null,
      "outputs": [
        {
          "output_type": "execute_result",
          "data": {
            "text/plain": [
              "array(['', 'Jan,Apr,Jul,Oct', 'Feb,May,Aug,Nov', 'Mar,Jun,Sept,Dec'],\n",
              "      dtype=object)"
            ]
          },
          "metadata": {
            "tags": []
          },
          "execution_count": 169
        }
      ]
    },
    {
      "cell_type": "code",
      "metadata": {
        "colab": {
          "base_uri": "https://localhost:8080/"
        },
        "id": "ov5LDUjd1Vof",
        "outputId": "08ef54b1-04b3-419d-f014-223034f8a3c5"
      },
      "source": [
        "joined_test['PromoInterval'].unique()"
      ],
      "execution_count": null,
      "outputs": [
        {
          "output_type": "execute_result",
          "data": {
            "text/plain": [
              "array([nan, 'Jan,Apr,Jul,Oct', 'Feb,May,Aug,Nov', 'Mar,Jun,Sept,Dec'],\n",
              "      dtype=object)"
            ]
          },
          "metadata": {
            "tags": []
          },
          "execution_count": 177
        }
      ]
    },
    {
      "cell_type": "code",
      "metadata": {
        "id": "a450RXu8ytVB"
      },
      "source": [
        "joined_test.loc[joined_test['Events'] == 'Sunny', 'Events'] = 'Rain'"
      ],
      "execution_count": null,
      "outputs": []
    },
    {
      "cell_type": "code",
      "metadata": {
        "colab": {
          "base_uri": "https://localhost:8080/"
        },
        "id": "I5C-kyT4xjfN",
        "outputId": "57c9e5de-8b3f-4ca6-c7bd-5b023894ce58"
      },
      "source": [
        "print(get_missing_columns(joined_test))"
      ],
      "execution_count": null,
      "outputs": [
        {
          "output_type": "stream",
          "text": [
            "/usr/local/lib/python3.7/dist-packages/ipykernel_launcher.py:2: FutureWarning: Treating datetime data as categorical rather than numeric in `.describe` is deprecated and will be removed in a future version of pandas. Specify `datetime_is_numeric=True` to silence this warning and adopt the future behavior now.\n",
            "  \n"
          ],
          "name": "stderr"
        },
        {
          "output_type": "stream",
          "text": [
            "['State_DE', 'Max_VisibilityKm', 'Mean_VisibilityKm', 'Min_VisibilitykM', 'Max_Gust_SpeedKm_h', 'CloudCover']\n"
          ],
          "name": "stdout"
        }
      ]
    },
    {
      "cell_type": "markdown",
      "metadata": {
        "id": "ztwJ75l2Hg1H"
      },
      "source": [
        "# Durations"
      ]
    },
    {
      "cell_type": "code",
      "metadata": {
        "id": "1LXtLZPIGnVY"
      },
      "source": [
        "columns = ['Date', 'Store', 'Promo', 'StateHoliday', 'SchoolHoliday']"
      ],
      "execution_count": null,
      "outputs": []
    },
    {
      "cell_type": "code",
      "metadata": {
        "id": "sYiypxvgJzWF"
      },
      "source": [
        "class elapsed(object):\n",
        "  def __init__(self, fld):\n",
        "    self.fld = fld\n",
        "    self.last = pd.to_datetime(np.nan)\n",
        "    self.last_store = 0\n",
        "\n",
        "  def get(self, row):\n",
        "    if row.Store != self.last_store:\n",
        "      self.last = pd.to_datetime(np.nan)\n",
        "      self.last_store = row.Store\n",
        "    if(row[self.fld]): self.last = row.Date\n",
        "    return row.Date - self.last"
      ],
      "execution_count": null,
      "outputs": []
    },
    {
      "cell_type": "code",
      "metadata": {
        "id": "rXqOD-P5KoAp"
      },
      "source": [
        "df = train[columns]"
      ],
      "execution_count": null,
      "outputs": []
    },
    {
      "cell_type": "code",
      "metadata": {
        "id": "piU3YhpT11wv"
      },
      "source": [
        "df_test = test[columns]"
      ],
      "execution_count": null,
      "outputs": []
    },
    {
      "cell_type": "code",
      "metadata": {
        "id": "DvrstbgpKqoB"
      },
      "source": [
        "def add_elapsed(fld, prefix):\n",
        "  sh_el = elapsed(fld)\n",
        "  df[prefix+fld] = df.apply(sh_el.get, axis=1)"
      ],
      "execution_count": null,
      "outputs": []
    },
    {
      "cell_type": "code",
      "metadata": {
        "id": "PMr1n-2W2GQO"
      },
      "source": [
        "def add_elapsed_test(fld, prefix):\n",
        "  sh_el_test = elapsed(fld)\n",
        "  df_test[prefix+fld] = df_test.apply(sh_el_test.get, axis=1)"
      ],
      "execution_count": null,
      "outputs": []
    },
    {
      "cell_type": "code",
      "metadata": {
        "id": "p_7WpSJtLJzY"
      },
      "source": [
        "fld = 'SchoolHoliday'\n",
        "df = df.sort_values(['Store', 'Date'])\n",
        "add_elapsed(fld, 'After')\n",
        "df = df.sort_values(['Store', 'Date'], ascending=[True, False])\n",
        "add_elapsed(fld, 'Before')"
      ],
      "execution_count": null,
      "outputs": []
    },
    {
      "cell_type": "code",
      "metadata": {
        "id": "XuYLuZcr16-P"
      },
      "source": [
        "fld = 'SchoolHoliday'\n",
        "df_test = df_test.sort_values(['Store', 'Date'])\n",
        "add_elapsed_test(fld, 'After')\n",
        "df_test = df_test.sort_values(['Store', 'Date'], ascending=[True, False])\n",
        "add_elapsed_test(fld, 'Before')"
      ],
      "execution_count": null,
      "outputs": []
    },
    {
      "cell_type": "code",
      "metadata": {
        "id": "gaOZSDxpMNsp"
      },
      "source": [
        "fld = 'StateHoliday'\n",
        "df = df.sort_values(['Store', 'Date'])\n",
        "add_elapsed(fld, 'After')\n",
        "df = df.sort_values(['Store', 'Date'], ascending=[True, False])\n",
        "add_elapsed(fld, 'Before')"
      ],
      "execution_count": null,
      "outputs": []
    },
    {
      "cell_type": "code",
      "metadata": {
        "id": "lwYpQiuC2dIt"
      },
      "source": [
        "fld = 'StateHoliday'\n",
        "df_test = df_test.sort_values(['Store', 'Date'])\n",
        "add_elapsed_test(fld, 'After')\n",
        "df_test = df_test.sort_values(['Store', 'Date'], ascending=[True, False])\n",
        "add_elapsed_test(fld, 'Before')"
      ],
      "execution_count": null,
      "outputs": []
    },
    {
      "cell_type": "code",
      "metadata": {
        "id": "Awst9KKDMS_Z"
      },
      "source": [
        "fld = 'Promo'\n",
        "df = df.sort_values(['Store', 'Date'])\n",
        "add_elapsed(fld, 'After')\n",
        "df = df.sort_values(['Store', 'Date'], ascending=[True, False])\n",
        "add_elapsed(fld, 'Before')"
      ],
      "execution_count": null,
      "outputs": []
    },
    {
      "cell_type": "code",
      "metadata": {
        "id": "jNBqQNhv2fCQ"
      },
      "source": [
        "fld = 'Promo'\n",
        "df_test = df_test.sort_values(['Store', 'Date'])\n",
        "add_elapsed_test(fld, 'After')\n",
        "df_test = df_test.sort_values(['Store', 'Date'], ascending=[True, False])\n",
        "add_elapsed_test(fld, 'Before')"
      ],
      "execution_count": null,
      "outputs": []
    },
    {
      "cell_type": "code",
      "metadata": {
        "id": "hNSk4x8zMVdS"
      },
      "source": [
        "df = df.set_index('Date')"
      ],
      "execution_count": null,
      "outputs": []
    },
    {
      "cell_type": "code",
      "metadata": {
        "id": "WC4mgWg32iNL"
      },
      "source": [
        "df_test = df_test.set_index('Date')"
      ],
      "execution_count": null,
      "outputs": []
    },
    {
      "cell_type": "code",
      "metadata": {
        "id": "iz2lhh6FM392"
      },
      "source": [
        "columns = ['SchoolHoliday', 'StateHoliday', 'Promo']"
      ],
      "execution_count": null,
      "outputs": []
    },
    {
      "cell_type": "code",
      "metadata": {
        "id": "95GWqTpyPVrg"
      },
      "source": [
        "for o in ['Before', 'After']:\n",
        "  for p in columns:\n",
        "    a = o + p\n",
        "    df[a] = df[a].fillna(pd.Timedelta(0)).dt.days"
      ],
      "execution_count": null,
      "outputs": []
    },
    {
      "cell_type": "code",
      "metadata": {
        "id": "-dImpzwU2k7Y"
      },
      "source": [
        "for o in ['Before', 'After']:\n",
        "  for p in columns:\n",
        "    a = o + p\n",
        "    df_test[a] = df_test[a].fillna(pd.Timedelta(0)).dt.days"
      ],
      "execution_count": null,
      "outputs": []
    },
    {
      "cell_type": "code",
      "metadata": {
        "id": "7GLUDIHqPmiK"
      },
      "source": [
        "bwd = df[['Store']+columns].sort_index().groupby('Store').rolling(7, min_periods=1).sum()"
      ],
      "execution_count": null,
      "outputs": []
    },
    {
      "cell_type": "code",
      "metadata": {
        "id": "YQe6lVE52tDe"
      },
      "source": [
        "bwd_test = df_test[['Store']+columns].sort_index().groupby('Store').rolling(7, min_periods=1).sum()"
      ],
      "execution_count": null,
      "outputs": []
    },
    {
      "cell_type": "code",
      "metadata": {
        "id": "9OSabGUMQxK2"
      },
      "source": [
        "fwd = df[['Store']+columns].sort_index(ascending=False).groupby('Store').rolling(7, min_periods=1).sum()"
      ],
      "execution_count": null,
      "outputs": []
    },
    {
      "cell_type": "code",
      "metadata": {
        "id": "BYOvjelO2va4"
      },
      "source": [
        "fwd_test = df_test[['Store']+columns].sort_index(ascending=False).groupby('Store').rolling(7, min_periods=1).sum()"
      ],
      "execution_count": null,
      "outputs": []
    },
    {
      "cell_type": "code",
      "metadata": {
        "id": "6ZJY91TzQ5eG"
      },
      "source": [
        "bwd.drop('Store', 1, inplace=True)\n",
        "bwd.reset_index(inplace=True)"
      ],
      "execution_count": null,
      "outputs": []
    },
    {
      "cell_type": "code",
      "metadata": {
        "id": "ru3nXBVY2yuW"
      },
      "source": [
        "bwd_test.drop('Store', 1, inplace=True)\n",
        "bwd_test.reset_index(inplace=True)"
      ],
      "execution_count": null,
      "outputs": []
    },
    {
      "cell_type": "code",
      "metadata": {
        "id": "Hz80AKfhRMKR"
      },
      "source": [
        "fwd.drop('Store', 1, inplace=True)\n",
        "fwd.reset_index(inplace=True)"
      ],
      "execution_count": null,
      "outputs": []
    },
    {
      "cell_type": "code",
      "metadata": {
        "id": "BBegNqM622GQ"
      },
      "source": [
        "fwd_test.drop('Store', 1, inplace=True)\n",
        "fwd_test.reset_index(inplace=True)"
      ],
      "execution_count": null,
      "outputs": []
    },
    {
      "cell_type": "code",
      "metadata": {
        "id": "Q5sD_l2jRO37"
      },
      "source": [
        "df.reset_index(inplace=True)"
      ],
      "execution_count": null,
      "outputs": []
    },
    {
      "cell_type": "code",
      "metadata": {
        "id": "UtsPrbZl2456"
      },
      "source": [
        "df_test.reset_index(inplace=True)"
      ],
      "execution_count": null,
      "outputs": []
    },
    {
      "cell_type": "code",
      "metadata": {
        "id": "TRN28hXURULm"
      },
      "source": [
        "df = df.merge(bwd, 'left', ['Date', 'Store'], suffixes=['', '_bw'])\n",
        "df = df.merge(fwd, 'left', ['Date', 'Store'], suffixes=['', '_fw'])"
      ],
      "execution_count": null,
      "outputs": []
    },
    {
      "cell_type": "code",
      "metadata": {
        "id": "P2mXaXfF266U"
      },
      "source": [
        "df_test = df_test.merge(bwd_test, 'left', ['Date', 'Store'], suffixes=['', '_bw'])\n",
        "df_test = df_test.merge(fwd_test, 'left', ['Date', 'Store'], suffixes=['', '_fw'])"
      ],
      "execution_count": null,
      "outputs": []
    },
    {
      "cell_type": "code",
      "metadata": {
        "id": "DPNc1o3IRk-T"
      },
      "source": [
        "df.drop(columns, 1, inplace=True)"
      ],
      "execution_count": null,
      "outputs": []
    },
    {
      "cell_type": "code",
      "metadata": {
        "id": "LBuUSpUu3Cdc"
      },
      "source": [
        "df_test.drop(columns, 1, inplace=True)"
      ],
      "execution_count": null,
      "outputs": []
    },
    {
      "cell_type": "code",
      "metadata": {
        "colab": {
          "base_uri": "https://localhost:8080/",
          "height": 309
        },
        "id": "_PM2HXCyRwq5",
        "outputId": "958ddb39-f6c7-413d-d759-2387bf5e0803"
      },
      "source": [
        "df.head()"
      ],
      "execution_count": null,
      "outputs": [
        {
          "output_type": "execute_result",
          "data": {
            "text/html": [
              "<div>\n",
              "<style scoped>\n",
              "    .dataframe tbody tr th:only-of-type {\n",
              "        vertical-align: middle;\n",
              "    }\n",
              "\n",
              "    .dataframe tbody tr th {\n",
              "        vertical-align: top;\n",
              "    }\n",
              "\n",
              "    .dataframe thead th {\n",
              "        text-align: right;\n",
              "    }\n",
              "</style>\n",
              "<table border=\"1\" class=\"dataframe\">\n",
              "  <thead>\n",
              "    <tr style=\"text-align: right;\">\n",
              "      <th></th>\n",
              "      <th>Date</th>\n",
              "      <th>Store</th>\n",
              "      <th>AfterSchoolHoliday</th>\n",
              "      <th>BeforeSchoolHoliday</th>\n",
              "      <th>AfterStateHoliday</th>\n",
              "      <th>BeforeStateHoliday</th>\n",
              "      <th>AfterPromo</th>\n",
              "      <th>BeforePromo</th>\n",
              "      <th>SchoolHoliday_bw</th>\n",
              "      <th>StateHoliday_bw</th>\n",
              "      <th>Promo_bw</th>\n",
              "      <th>SchoolHoliday_fw</th>\n",
              "      <th>StateHoliday_fw</th>\n",
              "      <th>Promo_fw</th>\n",
              "    </tr>\n",
              "  </thead>\n",
              "  <tbody>\n",
              "    <tr>\n",
              "      <th>0</th>\n",
              "      <td>2015-07-31</td>\n",
              "      <td>1</td>\n",
              "      <td>0</td>\n",
              "      <td>0</td>\n",
              "      <td>57</td>\n",
              "      <td>0</td>\n",
              "      <td>0</td>\n",
              "      <td>0</td>\n",
              "      <td>5.0</td>\n",
              "      <td>0.0</td>\n",
              "      <td>5.0</td>\n",
              "      <td>1.0</td>\n",
              "      <td>0.0</td>\n",
              "      <td>1.0</td>\n",
              "    </tr>\n",
              "    <tr>\n",
              "      <th>1</th>\n",
              "      <td>2015-07-30</td>\n",
              "      <td>1</td>\n",
              "      <td>0</td>\n",
              "      <td>0</td>\n",
              "      <td>56</td>\n",
              "      <td>0</td>\n",
              "      <td>0</td>\n",
              "      <td>0</td>\n",
              "      <td>4.0</td>\n",
              "      <td>0.0</td>\n",
              "      <td>4.0</td>\n",
              "      <td>2.0</td>\n",
              "      <td>0.0</td>\n",
              "      <td>2.0</td>\n",
              "    </tr>\n",
              "    <tr>\n",
              "      <th>2</th>\n",
              "      <td>2015-07-29</td>\n",
              "      <td>1</td>\n",
              "      <td>0</td>\n",
              "      <td>0</td>\n",
              "      <td>55</td>\n",
              "      <td>0</td>\n",
              "      <td>0</td>\n",
              "      <td>0</td>\n",
              "      <td>3.0</td>\n",
              "      <td>0.0</td>\n",
              "      <td>3.0</td>\n",
              "      <td>3.0</td>\n",
              "      <td>0.0</td>\n",
              "      <td>3.0</td>\n",
              "    </tr>\n",
              "    <tr>\n",
              "      <th>3</th>\n",
              "      <td>2015-07-28</td>\n",
              "      <td>1</td>\n",
              "      <td>0</td>\n",
              "      <td>0</td>\n",
              "      <td>54</td>\n",
              "      <td>0</td>\n",
              "      <td>0</td>\n",
              "      <td>0</td>\n",
              "      <td>2.0</td>\n",
              "      <td>0.0</td>\n",
              "      <td>2.0</td>\n",
              "      <td>4.0</td>\n",
              "      <td>0.0</td>\n",
              "      <td>4.0</td>\n",
              "    </tr>\n",
              "    <tr>\n",
              "      <th>4</th>\n",
              "      <td>2015-07-27</td>\n",
              "      <td>1</td>\n",
              "      <td>0</td>\n",
              "      <td>0</td>\n",
              "      <td>53</td>\n",
              "      <td>0</td>\n",
              "      <td>0</td>\n",
              "      <td>0</td>\n",
              "      <td>1.0</td>\n",
              "      <td>0.0</td>\n",
              "      <td>1.0</td>\n",
              "      <td>5.0</td>\n",
              "      <td>0.0</td>\n",
              "      <td>5.0</td>\n",
              "    </tr>\n",
              "  </tbody>\n",
              "</table>\n",
              "</div>"
            ],
            "text/plain": [
              "        Date  Store  ...  StateHoliday_fw  Promo_fw\n",
              "0 2015-07-31      1  ...              0.0       1.0\n",
              "1 2015-07-30      1  ...              0.0       2.0\n",
              "2 2015-07-29      1  ...              0.0       3.0\n",
              "3 2015-07-28      1  ...              0.0       4.0\n",
              "4 2015-07-27      1  ...              0.0       5.0\n",
              "\n",
              "[5 rows x 14 columns]"
            ]
          },
          "metadata": {
            "tags": []
          },
          "execution_count": 81
        }
      ]
    },
    {
      "cell_type": "code",
      "metadata": {
        "colab": {
          "base_uri": "https://localhost:8080/",
          "height": 309
        },
        "id": "4eaapLei3Eis",
        "outputId": "e89be85e-b805-48e6-f808-aa9199bd03ea"
      },
      "source": [
        "df_test.head()"
      ],
      "execution_count": null,
      "outputs": [
        {
          "output_type": "execute_result",
          "data": {
            "text/html": [
              "<div>\n",
              "<style scoped>\n",
              "    .dataframe tbody tr th:only-of-type {\n",
              "        vertical-align: middle;\n",
              "    }\n",
              "\n",
              "    .dataframe tbody tr th {\n",
              "        vertical-align: top;\n",
              "    }\n",
              "\n",
              "    .dataframe thead th {\n",
              "        text-align: right;\n",
              "    }\n",
              "</style>\n",
              "<table border=\"1\" class=\"dataframe\">\n",
              "  <thead>\n",
              "    <tr style=\"text-align: right;\">\n",
              "      <th></th>\n",
              "      <th>Date</th>\n",
              "      <th>Store</th>\n",
              "      <th>AfterSchoolHoliday</th>\n",
              "      <th>BeforeSchoolHoliday</th>\n",
              "      <th>AfterStateHoliday</th>\n",
              "      <th>BeforeStateHoliday</th>\n",
              "      <th>AfterPromo</th>\n",
              "      <th>BeforePromo</th>\n",
              "      <th>SchoolHoliday_bw</th>\n",
              "      <th>StateHoliday_bw</th>\n",
              "      <th>Promo_bw</th>\n",
              "      <th>SchoolHoliday_fw</th>\n",
              "      <th>StateHoliday_fw</th>\n",
              "      <th>Promo_fw</th>\n",
              "    </tr>\n",
              "  </thead>\n",
              "  <tbody>\n",
              "    <tr>\n",
              "      <th>0</th>\n",
              "      <td>2015-09-17</td>\n",
              "      <td>1</td>\n",
              "      <td>13</td>\n",
              "      <td>0</td>\n",
              "      <td>0</td>\n",
              "      <td>0</td>\n",
              "      <td>0</td>\n",
              "      <td>0</td>\n",
              "      <td>0.0</td>\n",
              "      <td>0.0</td>\n",
              "      <td>4.0</td>\n",
              "      <td>0.0</td>\n",
              "      <td>0.0</td>\n",
              "      <td>1.0</td>\n",
              "    </tr>\n",
              "    <tr>\n",
              "      <th>1</th>\n",
              "      <td>2015-09-16</td>\n",
              "      <td>1</td>\n",
              "      <td>12</td>\n",
              "      <td>0</td>\n",
              "      <td>0</td>\n",
              "      <td>0</td>\n",
              "      <td>0</td>\n",
              "      <td>0</td>\n",
              "      <td>0.0</td>\n",
              "      <td>0.0</td>\n",
              "      <td>3.0</td>\n",
              "      <td>0.0</td>\n",
              "      <td>0.0</td>\n",
              "      <td>2.0</td>\n",
              "    </tr>\n",
              "    <tr>\n",
              "      <th>2</th>\n",
              "      <td>2015-09-15</td>\n",
              "      <td>1</td>\n",
              "      <td>11</td>\n",
              "      <td>0</td>\n",
              "      <td>0</td>\n",
              "      <td>0</td>\n",
              "      <td>0</td>\n",
              "      <td>0</td>\n",
              "      <td>0.0</td>\n",
              "      <td>0.0</td>\n",
              "      <td>2.0</td>\n",
              "      <td>0.0</td>\n",
              "      <td>0.0</td>\n",
              "      <td>3.0</td>\n",
              "    </tr>\n",
              "    <tr>\n",
              "      <th>3</th>\n",
              "      <td>2015-09-14</td>\n",
              "      <td>1</td>\n",
              "      <td>10</td>\n",
              "      <td>0</td>\n",
              "      <td>0</td>\n",
              "      <td>0</td>\n",
              "      <td>0</td>\n",
              "      <td>0</td>\n",
              "      <td>0.0</td>\n",
              "      <td>0.0</td>\n",
              "      <td>1.0</td>\n",
              "      <td>0.0</td>\n",
              "      <td>0.0</td>\n",
              "      <td>4.0</td>\n",
              "    </tr>\n",
              "    <tr>\n",
              "      <th>4</th>\n",
              "      <td>2015-09-13</td>\n",
              "      <td>1</td>\n",
              "      <td>9</td>\n",
              "      <td>0</td>\n",
              "      <td>0</td>\n",
              "      <td>0</td>\n",
              "      <td>9</td>\n",
              "      <td>-1</td>\n",
              "      <td>0.0</td>\n",
              "      <td>0.0</td>\n",
              "      <td>0.0</td>\n",
              "      <td>0.0</td>\n",
              "      <td>0.0</td>\n",
              "      <td>4.0</td>\n",
              "    </tr>\n",
              "  </tbody>\n",
              "</table>\n",
              "</div>"
            ],
            "text/plain": [
              "        Date  Store  ...  StateHoliday_fw  Promo_fw\n",
              "0 2015-09-17      1  ...              0.0       1.0\n",
              "1 2015-09-16      1  ...              0.0       2.0\n",
              "2 2015-09-15      1  ...              0.0       3.0\n",
              "3 2015-09-14      1  ...              0.0       4.0\n",
              "4 2015-09-13      1  ...              0.0       4.0\n",
              "\n",
              "[5 rows x 14 columns]"
            ]
          },
          "metadata": {
            "tags": []
          },
          "execution_count": 82
        }
      ]
    },
    {
      "cell_type": "code",
      "metadata": {
        "id": "YFE_AfxTRyYN"
      },
      "source": [
        "df.to_csv('df-GE.csv')"
      ],
      "execution_count": null,
      "outputs": []
    },
    {
      "cell_type": "code",
      "metadata": {
        "id": "uLvnAujj3G-_"
      },
      "source": [
        "df_test.to_csv('df_test-GE.csv')"
      ],
      "execution_count": null,
      "outputs": []
    },
    {
      "cell_type": "code",
      "metadata": {
        "colab": {
          "base_uri": "https://localhost:8080/"
        },
        "id": "_MEHK5KqR_N1",
        "outputId": "88142eba-14a8-4231-b497-36d700536e63"
      },
      "source": [
        "df = pd.read_csv('df-GE.csv', index_col=0)"
      ],
      "execution_count": null,
      "outputs": [
        {
          "output_type": "stream",
          "text": [
            "/usr/local/lib/python3.7/dist-packages/numpy/lib/arraysetops.py:580: FutureWarning: elementwise comparison failed; returning scalar instead, but in the future will perform elementwise comparison\n",
            "  mask |= (ar1 == a)\n"
          ],
          "name": "stderr"
        }
      ]
    },
    {
      "cell_type": "code",
      "metadata": {
        "id": "ezoB-BvM3KYA"
      },
      "source": [
        "df_test = pd.read_csv('df_test-GE.csv', index_col=0)"
      ],
      "execution_count": null,
      "outputs": []
    },
    {
      "cell_type": "code",
      "metadata": {
        "id": "XXE48N6ySFvc"
      },
      "source": [
        "df['Date'] = pd.to_datetime(df.Date)"
      ],
      "execution_count": null,
      "outputs": []
    },
    {
      "cell_type": "code",
      "metadata": {
        "id": "C6xRLXzL3NMO"
      },
      "source": [
        "df_test['Date'] = pd.to_datetime(df_test.Date)"
      ],
      "execution_count": null,
      "outputs": []
    },
    {
      "cell_type": "code",
      "metadata": {
        "colab": {
          "base_uri": "https://localhost:8080/"
        },
        "id": "capjSnnhSbNU",
        "outputId": "f0490966-b186-4dcb-8936-360828421c4d"
      },
      "source": [
        "df.columns"
      ],
      "execution_count": null,
      "outputs": [
        {
          "output_type": "execute_result",
          "data": {
            "text/plain": [
              "Index(['Date', 'Store', 'AfterSchoolHoliday', 'BeforeSchoolHoliday',\n",
              "       'AfterStateHoliday', 'BeforeStateHoliday', 'AfterPromo', 'BeforePromo',\n",
              "       'SchoolHoliday_bw', 'StateHoliday_bw', 'Promo_bw', 'SchoolHoliday_fw',\n",
              "       'StateHoliday_fw', 'Promo_fw'],\n",
              "      dtype='object')"
            ]
          },
          "metadata": {
            "tags": []
          },
          "execution_count": 89
        }
      ]
    },
    {
      "cell_type": "code",
      "metadata": {
        "colab": {
          "base_uri": "https://localhost:8080/"
        },
        "id": "TxBW-Ln73QRe",
        "outputId": "c32239cb-59dd-403e-95a5-462a10411784"
      },
      "source": [
        "df_test.columns"
      ],
      "execution_count": null,
      "outputs": [
        {
          "output_type": "execute_result",
          "data": {
            "text/plain": [
              "Index(['Date', 'Store', 'AfterSchoolHoliday', 'BeforeSchoolHoliday',\n",
              "       'AfterStateHoliday', 'BeforeStateHoliday', 'AfterPromo', 'BeforePromo',\n",
              "       'SchoolHoliday_bw', 'StateHoliday_bw', 'Promo_bw', 'SchoolHoliday_fw',\n",
              "       'StateHoliday_fw', 'Promo_fw'],\n",
              "      dtype='object')"
            ]
          },
          "metadata": {
            "tags": []
          },
          "execution_count": 90
        }
      ]
    },
    {
      "cell_type": "code",
      "metadata": {
        "id": "wwJZsXcVScnd"
      },
      "source": [
        "joined = join_df(joined, df, ['Store', 'Date'])"
      ],
      "execution_count": null,
      "outputs": []
    },
    {
      "cell_type": "code",
      "metadata": {
        "id": "mDo21y9c3TH1"
      },
      "source": [
        "joined_test = join_df(joined_test, df_test, ['Store', 'Date'])"
      ],
      "execution_count": null,
      "outputs": []
    },
    {
      "cell_type": "code",
      "metadata": {
        "id": "WfZtlW4pSoRG"
      },
      "source": [
        "joined.to_csv('joined-GE.csv')"
      ],
      "execution_count": null,
      "outputs": []
    },
    {
      "cell_type": "code",
      "metadata": {
        "id": "N20GxIl-3trr"
      },
      "source": [
        "joined_test.to_csv('joined_test-GE.csv')"
      ],
      "execution_count": null,
      "outputs": []
    },
    {
      "cell_type": "code",
      "metadata": {
        "colab": {
          "base_uri": "https://localhost:8080/"
        },
        "id": "7VfH-43TSs5u",
        "outputId": "f141eded-e29c-42a0-f77e-551234f60467"
      },
      "source": [
        "joined = pd.read_csv('joined-GE.csv', index_col=0)\n",
        "joined['Date'] = pd.to_datetime(joined.Date)\n",
        "joined.columns"
      ],
      "execution_count": null,
      "outputs": [
        {
          "output_type": "stream",
          "text": [
            "/usr/local/lib/python3.7/dist-packages/numpy/lib/arraysetops.py:580: FutureWarning: elementwise comparison failed; returning scalar instead, but in the future will perform elementwise comparison\n",
            "  mask |= (ar1 == a)\n"
          ],
          "name": "stderr"
        },
        {
          "output_type": "execute_result",
          "data": {
            "text/plain": [
              "Index(['Store', 'DayOfWeek', 'Date', 'Sales', 'Customers', 'Open', 'Promo',\n",
              "       'StateHoliday', 'SchoolHoliday', 'Year', 'Month', 'Week', 'Day',\n",
              "       'StoreType', 'Assortment', 'CompetitionDistance',\n",
              "       'CompetitionOpenSinceMonth', 'CompetitionOpenSinceYear', 'Promo2',\n",
              "       'Promo2SinceWeek', 'Promo2SinceYear', 'PromoInterval', 'State', 'file',\n",
              "       'week', 'trend', 'Date_y', 'Month_y', 'Day_y', 'file_DE', 'week_DE',\n",
              "       'trend_DE', 'Date_DE', 'State_DE', 'Month_DE', 'Day_DE', 'file_y',\n",
              "       'Max_TemperatureC', 'Mean_TemperatureC', 'Min_TemperatureC',\n",
              "       'Dew_PointC', 'MeanDew_PointC', 'Min_DewpointC', 'Max_Humidity',\n",
              "       'Mean_Humidity', 'Min_Humidity', 'Max_Sea_Level_PressurehPa',\n",
              "       'Mean_Sea_Level_PressurehPa', 'Min_Sea_Level_PressurehPa',\n",
              "       'Max_VisibilityKm', 'Mean_VisibilityKm', 'Min_VisibilitykM',\n",
              "       'Max_Wind_SpeedKm_h', 'Mean_Wind_SpeedKm_h', 'Max_Gust_SpeedKm_h',\n",
              "       'Precipitationmm', 'CloudCover', 'Events', 'WindDirDegrees',\n",
              "       'StateName', 'Year_y', 'Month_y.1', 'Week_y', 'Day_y.1',\n",
              "       'CompetitionOpenSince', 'CompetitionDaysOpen', 'CompetitionMonthsOpen',\n",
              "       'Promo2Since', 'Promo2Days', 'Promo2Weeks', 'AfterSchoolHoliday',\n",
              "       'BeforeSchoolHoliday', 'AfterStateHoliday', 'BeforeStateHoliday',\n",
              "       'AfterPromo', 'BeforePromo', 'SchoolHoliday_bw', 'StateHoliday_bw',\n",
              "       'Promo_bw', 'SchoolHoliday_fw', 'StateHoliday_fw', 'Promo_fw'],\n",
              "      dtype='object')"
            ]
          },
          "metadata": {
            "tags": []
          },
          "execution_count": 5
        }
      ]
    },
    {
      "cell_type": "code",
      "metadata": {
        "colab": {
          "base_uri": "https://localhost:8080/"
        },
        "id": "hIVgzNP63ym4",
        "outputId": "19d1400b-5c08-4731-a35d-a90cd139a21a"
      },
      "source": [
        "joined_test = pd.read_csv('joined_test-GE.csv', index_col=0)\n",
        "joined_test['Date'] = pd.to_datetime(joined_test.Date)\n",
        "joined_test.loc[joined_test['PromoInterval'].isna(), 'PromoInterval'] = ''\n",
        "joined_test.columns"
      ],
      "execution_count": null,
      "outputs": [
        {
          "output_type": "stream",
          "text": [
            "/usr/local/lib/python3.7/dist-packages/IPython/core/interactiveshell.py:2718: DtypeWarning: Columns (5) have mixed types.Specify dtype option on import or set low_memory=False.\n",
            "  interactivity=interactivity, compiler=compiler, result=result)\n"
          ],
          "name": "stderr"
        },
        {
          "output_type": "execute_result",
          "data": {
            "text/plain": [
              "Index(['Id', 'Store', 'DayOfWeek', 'Date', 'Open', 'Promo', 'StateHoliday',\n",
              "       'SchoolHoliday', 'Year', 'Month',\n",
              "       ...\n",
              "       'AfterStateHoliday_y.2', 'BeforeStateHoliday_y.2', 'AfterPromo_y.2',\n",
              "       'BeforePromo_y.2', 'SchoolHoliday_bw_y.2', 'StateHoliday_bw_y.2',\n",
              "       'Promo_bw_y.2', 'SchoolHoliday_fw_y.2', 'StateHoliday_fw_y.2',\n",
              "       'Promo_fw_y.2'],\n",
              "      dtype='object', length=153)"
            ]
          },
          "metadata": {
            "tags": []
          },
          "execution_count": 6
        }
      ]
    },
    {
      "cell_type": "code",
      "metadata": {
        "colab": {
          "base_uri": "https://localhost:8080/"
        },
        "id": "4vWS9JY82baC",
        "outputId": "f937a0a8-29b1-4aec-dc3b-dd238b4cdf87"
      },
      "source": [
        "joined_test['PromoInterval'].unique()"
      ],
      "execution_count": null,
      "outputs": [
        {
          "output_type": "execute_result",
          "data": {
            "text/plain": [
              "array(['', 'Jan,Apr,Jul,Oct', 'Feb,May,Aug,Nov', 'Mar,Jun,Sept,Dec'],\n",
              "      dtype=object)"
            ]
          },
          "metadata": {
            "tags": []
          },
          "execution_count": 7
        }
      ]
    },
    {
      "cell_type": "markdown",
      "metadata": {
        "id": "O7WVE_YETrJi"
      },
      "source": [
        "# Create Features"
      ]
    },
    {
      "cell_type": "code",
      "metadata": {
        "id": "CoZ1fBNoTMA4"
      },
      "source": [
        "from sklearn_pandas import DataFrameMapper\n",
        "from sklearn.preprocessing import LabelEncoder, StandardScaler\n",
        "from sklearn.impute import SimpleImputer"
      ],
      "execution_count": null,
      "outputs": []
    },
    {
      "cell_type": "code",
      "metadata": {
        "id": "iJ0YFGoLUGFz"
      },
      "source": [
        "cat_var_dict = {'Store':50, 'DayOfWeek':6, 'Year':2, 'Month':6, 'Day':10, 'StateHoliday':3, 'CompetitionMonthsOpen':2,\n",
        "                'Promo2Weeks':1, 'StoreType':2, 'Assortment':3, 'PromoInterval':3, 'CompetitionOpenSinceYear':4,\n",
        "                'Promo2SinceYear':4, 'State':6, 'Week':2, 'Events':4, 'Promo_fw':1, 'Promo_bw':1, 'StateHoliday_fw':1,\n",
        "                'StateHoliday_bw':1, 'SchoolHoliday_fw':1, 'SchoolHoliday_bw':1}"
      ],
      "execution_count": null,
      "outputs": []
    },
    {
      "cell_type": "code",
      "metadata": {
        "id": "qUQ9t893V3aU"
      },
      "source": [
        "cat_vars = [o[0] for o in sorted(cat_var_dict.items(), key=operator.itemgetter(1), reverse=True)]"
      ],
      "execution_count": null,
      "outputs": []
    },
    {
      "cell_type": "code",
      "metadata": {
        "id": "MfCPr7axWQTg"
      },
      "source": [
        "contin_vars = ['CompetitionDistance', 'Max_TemperatureC', 'Mean_TemperatureC', 'Min_TemperatureC','Max_Humidity', 'Mean_Humidity',\n",
        "               'Min_Humidity', 'Max_Wind_SpeedKm_h', 'Mean_Wind_SpeedKm_h', 'CloudCover', 'trend', 'trend_DE',\n",
        "               'AfterStateHoliday', 'BeforeStateHoliday', 'Promo', 'SchoolHoliday']"
      ],
      "execution_count": null,
      "outputs": []
    },
    {
      "cell_type": "code",
      "metadata": {
        "id": "CFuH3e81YjLC"
      },
      "source": [
        "for v in contin_vars: joined.loc[joined[v].isnull(), v] = 0\n",
        "for v in cat_vars: joined.loc[joined[v].isnull(), v] = \"\"\n"
      ],
      "execution_count": null,
      "outputs": []
    },
    {
      "cell_type": "code",
      "metadata": {
        "id": "nZTeC95_Y23m"
      },
      "source": [
        "cat_maps = [(o, LabelEncoder()) for o in cat_vars]\n",
        "contin_maps = [([o], StandardScaler()) for o in contin_vars]"
      ],
      "execution_count": null,
      "outputs": []
    },
    {
      "cell_type": "code",
      "metadata": {
        "colab": {
          "base_uri": "https://localhost:8080/"
        },
        "id": "ly7_0tlIZQNf",
        "outputId": "8c9efa8f-cb37-4794-bf3d-9bd2cd4d937f"
      },
      "source": [
        "cat_mapper = DataFrameMapper(cat_maps)\n",
        "cat_map_fit = cat_mapper.fit(joined)\n",
        "cat_cols = len(cat_map_fit.features)\n",
        "cat_cols"
      ],
      "execution_count": null,
      "outputs": [
        {
          "output_type": "execute_result",
          "data": {
            "text/plain": [
              "22"
            ]
          },
          "metadata": {
            "tags": []
          },
          "execution_count": 14
        }
      ]
    },
    {
      "cell_type": "code",
      "metadata": {
        "colab": {
          "base_uri": "https://localhost:8080/"
        },
        "id": "BE6jMCV5ZSdr",
        "outputId": "02dd2d61-6bf0-402a-bc50-cefb57db0e44"
      },
      "source": [
        "contin_mapper = DataFrameMapper(contin_maps)\n",
        "contin_map_fit = contin_mapper.fit(joined)\n",
        "contin_cols = len(contin_map_fit.features)\n",
        "contin_cols"
      ],
      "execution_count": null,
      "outputs": [
        {
          "output_type": "execute_result",
          "data": {
            "text/plain": [
              "16"
            ]
          },
          "metadata": {
            "tags": []
          },
          "execution_count": 15
        }
      ]
    },
    {
      "cell_type": "code",
      "metadata": {
        "colab": {
          "base_uri": "https://localhost:8080/"
        },
        "id": "NpB732LIaQtV",
        "outputId": "b553647e-0c5e-4947-8827-201e97b3d1ff"
      },
      "source": [
        "cat_map_fit.transform(joined)[0:5], contin_map_fit.transform(joined)[0:5] "
      ],
      "execution_count": null,
      "outputs": [
        {
          "output_type": "execute_result",
          "data": {
            "text/plain": [
              "(array([[ 0, 30,  4,  6,  4, 15,  0,  1,  0,  0,  0,  2, 24,  2, 30,  0,\n",
              "          1,  5,  0,  0,  1,  5],\n",
              "        [ 1, 30,  4,  6, 11, 14,  2,  1,  0,  0,  2,  2, 24,  0, 30, 25,\n",
              "          1,  5,  0,  0,  1,  5],\n",
              "        [ 2, 30,  4,  6,  6, 13,  3,  1,  0,  0,  2,  2, 24,  0, 30, 25,\n",
              "          1,  5,  0,  0,  1,  5],\n",
              "        [ 3, 30,  4,  6,  0, 16,  0,  0,  0,  2,  0,  2, 24,  2, 30,  0,\n",
              "          1,  5,  0,  0,  1,  5],\n",
              "        [ 4, 30,  4,  6,  9, 22,  0,  0,  0,  0,  0,  2,  3,  0, 30,  0,\n",
              "          1,  5,  0,  0,  1,  5]]),\n",
              " array([[-0.53772351,  1.02444552,  0.81863226,  0.32504749,  0.61112004,\n",
              "         -1.5107893 , -1.62656003,  0.14843667, -0.1476615 , -1.85916546,\n",
              "          1.7443611 ,  1.74304867,  0.64437635,  1.07242411,  1.27323691,\n",
              "          2.14421115],\n",
              "        [-0.62851175,  0.55189893,  0.40421493,  0.17024218,  0.8702771 ,\n",
              "         -0.90502433, -1.26989654, -0.97007983, -0.1476615 , -0.49385792,\n",
              "          1.30343854,  1.74304867,  0.96507322,  1.07242411,  1.27323691,\n",
              "          2.14421115],\n",
              "        [ 1.13018633,  0.78817223,  0.40421493,  0.01543687,  0.8702771 ,\n",
              "         -0.98074495, -1.32084847, -0.97007983, -1.1650956 , -1.40406295,\n",
              "          1.83254562,  1.74304867,  0.64437635,  1.07242411,  1.27323691,\n",
              "          2.14421115],\n",
              "        [-0.62202688,  0.55189893,  0.54235404,  0.4798528 ,  0.09280592,\n",
              "         -0.98074495, -1.01513691,  0.03658502,  0.70020025,  0.41634711,\n",
              "          0.77433146,  1.74304867,  0.96507322,  1.07242411,  1.27323691,\n",
              "          2.14421115],\n",
              "        [ 3.17681286,  0.67003558,  0.68049315,  0.63465811, -1.46213646,\n",
              "         -1.43506868, -1.21894462, -0.97007983, -0.1476615 , -0.49385792,\n",
              "          1.47980756,  1.74304867,  0.64437635,  1.07242411,  1.27323691,\n",
              "          2.14421115]]))"
            ]
          },
          "metadata": {
            "tags": []
          },
          "execution_count": 16
        }
      ]
    },
    {
      "cell_type": "code",
      "metadata": {
        "id": "hfjxV9yja7rk"
      },
      "source": [
        "pickle.dump(contin_map_fit, open('contin_maps.pickle', 'wb'))\n",
        "pickle.dump(cat_map_fit, open('cat_maps.pickle', 'wb'))"
      ],
      "execution_count": null,
      "outputs": []
    },
    {
      "cell_type": "code",
      "metadata": {
        "colab": {
          "base_uri": "https://localhost:8080/"
        },
        "id": "SCd1f9SQbVh6",
        "outputId": "299b6c36-b7c5-4f27-8dfc-ff4d2e41d95e"
      },
      "source": [
        "[len(o[1].classes_) for o in cat_map_fit.features]"
      ],
      "execution_count": null,
      "outputs": [
        {
          "output_type": "execute_result",
          "data": {
            "text/plain": [
              "[1115, 31, 7, 12, 12, 23, 8, 22, 2, 3, 4, 3, 25, 4, 52, 26, 6, 6, 3, 3, 8, 8]"
            ]
          },
          "metadata": {
            "tags": []
          },
          "execution_count": 18
        }
      ]
    },
    {
      "cell_type": "markdown",
      "metadata": {
        "id": "ELr7QtB8boSl"
      },
      "source": [
        "# Sample Data\n"
      ]
    },
    {
      "cell_type": "code",
      "metadata": {
        "colab": {
          "base_uri": "https://localhost:8080/"
        },
        "id": "EJWNdYD1biJr",
        "outputId": "8c0e6344-74e4-4dae-b3d6-b3f5d7c52a68"
      },
      "source": [
        "joined_sales = joined[joined.Sales != 0]\n",
        "n = len(joined_sales)\n",
        "n"
      ],
      "execution_count": null,
      "outputs": [
        {
          "output_type": "execute_result",
          "data": {
            "text/plain": [
              "844338"
            ]
          },
          "metadata": {
            "tags": []
          },
          "execution_count": 19
        }
      ]
    },
    {
      "cell_type": "code",
      "metadata": {
        "id": "j7YNIiVucEws"
      },
      "source": [
        "samp_size = n\n",
        "np.random.seed(42)\n",
        "idxs = sorted(np.random.choice(n, samp_size, replace=False))"
      ],
      "execution_count": null,
      "outputs": []
    },
    {
      "cell_type": "code",
      "metadata": {
        "id": "2cd_gwYBdG9q"
      },
      "source": [
        "joined_samp = joined_sales.iloc[idxs].set_index(\"Date\")"
      ],
      "execution_count": null,
      "outputs": []
    },
    {
      "cell_type": "code",
      "metadata": {
        "id": "8_wz-e2CdPmQ"
      },
      "source": [
        "samp_size = n\n",
        "joined_samp = joined_sales.set_index(\"Date\")"
      ],
      "execution_count": null,
      "outputs": []
    },
    {
      "cell_type": "code",
      "metadata": {
        "id": "DKj050o1drP_"
      },
      "source": [
        "train_ratio = 0.99999\n",
        "train_size = int(samp_size * train_ratio)"
      ],
      "execution_count": null,
      "outputs": []
    },
    {
      "cell_type": "code",
      "metadata": {
        "colab": {
          "base_uri": "https://localhost:8080/"
        },
        "id": "zv2azHPTdz42",
        "outputId": "ba362e13-daf9-4b5a-b4c5-1645288a3cf4"
      },
      "source": [
        "train_size"
      ],
      "execution_count": null,
      "outputs": [
        {
          "output_type": "execute_result",
          "data": {
            "text/plain": [
              "844329"
            ]
          },
          "metadata": {
            "tags": []
          },
          "execution_count": 24
        }
      ]
    },
    {
      "cell_type": "code",
      "metadata": {
        "colab": {
          "base_uri": "https://localhost:8080/"
        },
        "id": "l72uOHwqd1jE",
        "outputId": "1fe826fd-b651-495e-cc5e-0806afd453c7"
      },
      "source": [
        "joined_samp = joined_samp.sort_values(['Date'], ascending=[True])\n",
        "joined_valid = joined_samp[train_size:]\n",
        "joined_train = joined_samp[:train_size]\n",
        "len(joined_valid), len(joined_train)"
      ],
      "execution_count": null,
      "outputs": [
        {
          "output_type": "execute_result",
          "data": {
            "text/plain": [
              "(9, 844329)"
            ]
          },
          "metadata": {
            "tags": []
          },
          "execution_count": 25
        }
      ]
    },
    {
      "cell_type": "code",
      "metadata": {
        "colab": {
          "base_uri": "https://localhost:8080/",
          "height": 228
        },
        "id": "rZAv--X8eexG",
        "outputId": "51fc0e50-5670-46ef-c276-94f94d26014e"
      },
      "source": [
        "joined_valid[1:2]"
      ],
      "execution_count": null,
      "outputs": [
        {
          "output_type": "execute_result",
          "data": {
            "text/html": [
              "<div>\n",
              "<style scoped>\n",
              "    .dataframe tbody tr th:only-of-type {\n",
              "        vertical-align: middle;\n",
              "    }\n",
              "\n",
              "    .dataframe tbody tr th {\n",
              "        vertical-align: top;\n",
              "    }\n",
              "\n",
              "    .dataframe thead th {\n",
              "        text-align: right;\n",
              "    }\n",
              "</style>\n",
              "<table border=\"1\" class=\"dataframe\">\n",
              "  <thead>\n",
              "    <tr style=\"text-align: right;\">\n",
              "      <th></th>\n",
              "      <th>Store</th>\n",
              "      <th>DayOfWeek</th>\n",
              "      <th>Sales</th>\n",
              "      <th>Customers</th>\n",
              "      <th>Open</th>\n",
              "      <th>Promo</th>\n",
              "      <th>StateHoliday</th>\n",
              "      <th>SchoolHoliday</th>\n",
              "      <th>Year</th>\n",
              "      <th>Month</th>\n",
              "      <th>Week</th>\n",
              "      <th>Day</th>\n",
              "      <th>StoreType</th>\n",
              "      <th>Assortment</th>\n",
              "      <th>CompetitionDistance</th>\n",
              "      <th>CompetitionOpenSinceMonth</th>\n",
              "      <th>CompetitionOpenSinceYear</th>\n",
              "      <th>Promo2</th>\n",
              "      <th>Promo2SinceWeek</th>\n",
              "      <th>Promo2SinceYear</th>\n",
              "      <th>PromoInterval</th>\n",
              "      <th>State</th>\n",
              "      <th>file</th>\n",
              "      <th>week</th>\n",
              "      <th>trend</th>\n",
              "      <th>Date_y</th>\n",
              "      <th>Month_y</th>\n",
              "      <th>Day_y</th>\n",
              "      <th>file_DE</th>\n",
              "      <th>week_DE</th>\n",
              "      <th>trend_DE</th>\n",
              "      <th>Date_DE</th>\n",
              "      <th>State_DE</th>\n",
              "      <th>Month_DE</th>\n",
              "      <th>Day_DE</th>\n",
              "      <th>file_y</th>\n",
              "      <th>Max_TemperatureC</th>\n",
              "      <th>Mean_TemperatureC</th>\n",
              "      <th>Min_TemperatureC</th>\n",
              "      <th>Dew_PointC</th>\n",
              "      <th>...</th>\n",
              "      <th>Min_DewpointC</th>\n",
              "      <th>Max_Humidity</th>\n",
              "      <th>Mean_Humidity</th>\n",
              "      <th>Min_Humidity</th>\n",
              "      <th>Max_Sea_Level_PressurehPa</th>\n",
              "      <th>Mean_Sea_Level_PressurehPa</th>\n",
              "      <th>Min_Sea_Level_PressurehPa</th>\n",
              "      <th>Max_VisibilityKm</th>\n",
              "      <th>Mean_VisibilityKm</th>\n",
              "      <th>Min_VisibilitykM</th>\n",
              "      <th>Max_Wind_SpeedKm_h</th>\n",
              "      <th>Mean_Wind_SpeedKm_h</th>\n",
              "      <th>Max_Gust_SpeedKm_h</th>\n",
              "      <th>Precipitationmm</th>\n",
              "      <th>CloudCover</th>\n",
              "      <th>Events</th>\n",
              "      <th>WindDirDegrees</th>\n",
              "      <th>StateName</th>\n",
              "      <th>Year_y</th>\n",
              "      <th>Month_y.1</th>\n",
              "      <th>Week_y</th>\n",
              "      <th>Day_y.1</th>\n",
              "      <th>CompetitionOpenSince</th>\n",
              "      <th>CompetitionDaysOpen</th>\n",
              "      <th>CompetitionMonthsOpen</th>\n",
              "      <th>Promo2Since</th>\n",
              "      <th>Promo2Days</th>\n",
              "      <th>Promo2Weeks</th>\n",
              "      <th>AfterSchoolHoliday</th>\n",
              "      <th>BeforeSchoolHoliday</th>\n",
              "      <th>AfterStateHoliday</th>\n",
              "      <th>BeforeStateHoliday</th>\n",
              "      <th>AfterPromo</th>\n",
              "      <th>BeforePromo</th>\n",
              "      <th>SchoolHoliday_bw</th>\n",
              "      <th>StateHoliday_bw</th>\n",
              "      <th>Promo_bw</th>\n",
              "      <th>SchoolHoliday_fw</th>\n",
              "      <th>StateHoliday_fw</th>\n",
              "      <th>Promo_fw</th>\n",
              "    </tr>\n",
              "    <tr>\n",
              "      <th>Date</th>\n",
              "      <th></th>\n",
              "      <th></th>\n",
              "      <th></th>\n",
              "      <th></th>\n",
              "      <th></th>\n",
              "      <th></th>\n",
              "      <th></th>\n",
              "      <th></th>\n",
              "      <th></th>\n",
              "      <th></th>\n",
              "      <th></th>\n",
              "      <th></th>\n",
              "      <th></th>\n",
              "      <th></th>\n",
              "      <th></th>\n",
              "      <th></th>\n",
              "      <th></th>\n",
              "      <th></th>\n",
              "      <th></th>\n",
              "      <th></th>\n",
              "      <th></th>\n",
              "      <th></th>\n",
              "      <th></th>\n",
              "      <th></th>\n",
              "      <th></th>\n",
              "      <th></th>\n",
              "      <th></th>\n",
              "      <th></th>\n",
              "      <th></th>\n",
              "      <th></th>\n",
              "      <th></th>\n",
              "      <th></th>\n",
              "      <th></th>\n",
              "      <th></th>\n",
              "      <th></th>\n",
              "      <th></th>\n",
              "      <th></th>\n",
              "      <th></th>\n",
              "      <th></th>\n",
              "      <th></th>\n",
              "      <th></th>\n",
              "      <th></th>\n",
              "      <th></th>\n",
              "      <th></th>\n",
              "      <th></th>\n",
              "      <th></th>\n",
              "      <th></th>\n",
              "      <th></th>\n",
              "      <th></th>\n",
              "      <th></th>\n",
              "      <th></th>\n",
              "      <th></th>\n",
              "      <th></th>\n",
              "      <th></th>\n",
              "      <th></th>\n",
              "      <th></th>\n",
              "      <th></th>\n",
              "      <th></th>\n",
              "      <th></th>\n",
              "      <th></th>\n",
              "      <th></th>\n",
              "      <th></th>\n",
              "      <th></th>\n",
              "      <th></th>\n",
              "      <th></th>\n",
              "      <th></th>\n",
              "      <th></th>\n",
              "      <th></th>\n",
              "      <th></th>\n",
              "      <th></th>\n",
              "      <th></th>\n",
              "      <th></th>\n",
              "      <th></th>\n",
              "      <th></th>\n",
              "      <th></th>\n",
              "      <th></th>\n",
              "      <th></th>\n",
              "      <th></th>\n",
              "      <th></th>\n",
              "      <th></th>\n",
              "      <th></th>\n",
              "    </tr>\n",
              "  </thead>\n",
              "  <tbody>\n",
              "    <tr>\n",
              "      <th>2015-07-31</th>\n",
              "      <td>742</td>\n",
              "      <td>5</td>\n",
              "      <td>10460</td>\n",
              "      <td>1016</td>\n",
              "      <td>1</td>\n",
              "      <td>1</td>\n",
              "      <td>False</td>\n",
              "      <td>1</td>\n",
              "      <td>2015</td>\n",
              "      <td>7</td>\n",
              "      <td>31</td>\n",
              "      <td>31</td>\n",
              "      <td>d</td>\n",
              "      <td>c</td>\n",
              "      <td>4380.0</td>\n",
              "      <td>1</td>\n",
              "      <td>1900</td>\n",
              "      <td>0</td>\n",
              "      <td>1</td>\n",
              "      <td>1900</td>\n",
              "      <td></td>\n",
              "      <td>NW</td>\n",
              "      <td>Rossmann_DE_NW</td>\n",
              "      <td>2015-08-02 - 2015-08-08</td>\n",
              "      <td>86</td>\n",
              "      <td>2015-08-02</td>\n",
              "      <td>8</td>\n",
              "      <td>2</td>\n",
              "      <td>Rossmann_DE</td>\n",
              "      <td>2015-08-02 - 2015-08-08</td>\n",
              "      <td>83</td>\n",
              "      <td>2015-08-02</td>\n",
              "      <td>NaN</td>\n",
              "      <td>8</td>\n",
              "      <td>2</td>\n",
              "      <td>NordrheinWestfalen</td>\n",
              "      <td>21</td>\n",
              "      <td>13</td>\n",
              "      <td>6</td>\n",
              "      <td>10</td>\n",
              "      <td>...</td>\n",
              "      <td>4</td>\n",
              "      <td>100</td>\n",
              "      <td>61</td>\n",
              "      <td>24</td>\n",
              "      <td>1022</td>\n",
              "      <td>1019</td>\n",
              "      <td>1017</td>\n",
              "      <td>31.0</td>\n",
              "      <td>14.0</td>\n",
              "      <td>10.0</td>\n",
              "      <td>14</td>\n",
              "      <td>5</td>\n",
              "      <td>NaN</td>\n",
              "      <td>0.0</td>\n",
              "      <td>2.0</td>\n",
              "      <td>Fog</td>\n",
              "      <td>354</td>\n",
              "      <td>NordrheinWestfalen</td>\n",
              "      <td>2015</td>\n",
              "      <td>7</td>\n",
              "      <td>31</td>\n",
              "      <td>31</td>\n",
              "      <td>1900-01-15</td>\n",
              "      <td>0</td>\n",
              "      <td>0</td>\n",
              "      <td>1900-01-01</td>\n",
              "      <td>0</td>\n",
              "      <td>0</td>\n",
              "      <td>0</td>\n",
              "      <td>0</td>\n",
              "      <td>57</td>\n",
              "      <td>0</td>\n",
              "      <td>0</td>\n",
              "      <td>0</td>\n",
              "      <td>5</td>\n",
              "      <td>0</td>\n",
              "      <td>5</td>\n",
              "      <td>1</td>\n",
              "      <td>0</td>\n",
              "      <td>1</td>\n",
              "    </tr>\n",
              "  </tbody>\n",
              "</table>\n",
              "<p>1 rows × 81 columns</p>\n",
              "</div>"
            ],
            "text/plain": [
              "           Store DayOfWeek  Sales  ...  SchoolHoliday_fw  StateHoliday_fw  Promo_fw\n",
              "Date                               ...                                             \n",
              "2015-07-31   742         5  10460  ...                 1                0         1\n",
              "\n",
              "[1 rows x 81 columns]"
            ]
          },
          "metadata": {
            "tags": []
          },
          "execution_count": 26
        }
      ]
    },
    {
      "cell_type": "code",
      "metadata": {
        "colab": {
          "base_uri": "https://localhost:8080/",
          "height": 327
        },
        "id": "E9RP4HCCejjU",
        "outputId": "8eba9b76-fc5d-4d52-c9b5-29eeeae1a272"
      },
      "source": [
        "joined_train[1:3]"
      ],
      "execution_count": null,
      "outputs": [
        {
          "output_type": "execute_result",
          "data": {
            "text/html": [
              "<div>\n",
              "<style scoped>\n",
              "    .dataframe tbody tr th:only-of-type {\n",
              "        vertical-align: middle;\n",
              "    }\n",
              "\n",
              "    .dataframe tbody tr th {\n",
              "        vertical-align: top;\n",
              "    }\n",
              "\n",
              "    .dataframe thead th {\n",
              "        text-align: right;\n",
              "    }\n",
              "</style>\n",
              "<table border=\"1\" class=\"dataframe\">\n",
              "  <thead>\n",
              "    <tr style=\"text-align: right;\">\n",
              "      <th></th>\n",
              "      <th>Store</th>\n",
              "      <th>DayOfWeek</th>\n",
              "      <th>Sales</th>\n",
              "      <th>Customers</th>\n",
              "      <th>Open</th>\n",
              "      <th>Promo</th>\n",
              "      <th>StateHoliday</th>\n",
              "      <th>SchoolHoliday</th>\n",
              "      <th>Year</th>\n",
              "      <th>Month</th>\n",
              "      <th>Week</th>\n",
              "      <th>Day</th>\n",
              "      <th>StoreType</th>\n",
              "      <th>Assortment</th>\n",
              "      <th>CompetitionDistance</th>\n",
              "      <th>CompetitionOpenSinceMonth</th>\n",
              "      <th>CompetitionOpenSinceYear</th>\n",
              "      <th>Promo2</th>\n",
              "      <th>Promo2SinceWeek</th>\n",
              "      <th>Promo2SinceYear</th>\n",
              "      <th>PromoInterval</th>\n",
              "      <th>State</th>\n",
              "      <th>file</th>\n",
              "      <th>week</th>\n",
              "      <th>trend</th>\n",
              "      <th>Date_y</th>\n",
              "      <th>Month_y</th>\n",
              "      <th>Day_y</th>\n",
              "      <th>file_DE</th>\n",
              "      <th>week_DE</th>\n",
              "      <th>trend_DE</th>\n",
              "      <th>Date_DE</th>\n",
              "      <th>State_DE</th>\n",
              "      <th>Month_DE</th>\n",
              "      <th>Day_DE</th>\n",
              "      <th>file_y</th>\n",
              "      <th>Max_TemperatureC</th>\n",
              "      <th>Mean_TemperatureC</th>\n",
              "      <th>Min_TemperatureC</th>\n",
              "      <th>Dew_PointC</th>\n",
              "      <th>...</th>\n",
              "      <th>Min_DewpointC</th>\n",
              "      <th>Max_Humidity</th>\n",
              "      <th>Mean_Humidity</th>\n",
              "      <th>Min_Humidity</th>\n",
              "      <th>Max_Sea_Level_PressurehPa</th>\n",
              "      <th>Mean_Sea_Level_PressurehPa</th>\n",
              "      <th>Min_Sea_Level_PressurehPa</th>\n",
              "      <th>Max_VisibilityKm</th>\n",
              "      <th>Mean_VisibilityKm</th>\n",
              "      <th>Min_VisibilitykM</th>\n",
              "      <th>Max_Wind_SpeedKm_h</th>\n",
              "      <th>Mean_Wind_SpeedKm_h</th>\n",
              "      <th>Max_Gust_SpeedKm_h</th>\n",
              "      <th>Precipitationmm</th>\n",
              "      <th>CloudCover</th>\n",
              "      <th>Events</th>\n",
              "      <th>WindDirDegrees</th>\n",
              "      <th>StateName</th>\n",
              "      <th>Year_y</th>\n",
              "      <th>Month_y.1</th>\n",
              "      <th>Week_y</th>\n",
              "      <th>Day_y.1</th>\n",
              "      <th>CompetitionOpenSince</th>\n",
              "      <th>CompetitionDaysOpen</th>\n",
              "      <th>CompetitionMonthsOpen</th>\n",
              "      <th>Promo2Since</th>\n",
              "      <th>Promo2Days</th>\n",
              "      <th>Promo2Weeks</th>\n",
              "      <th>AfterSchoolHoliday</th>\n",
              "      <th>BeforeSchoolHoliday</th>\n",
              "      <th>AfterStateHoliday</th>\n",
              "      <th>BeforeStateHoliday</th>\n",
              "      <th>AfterPromo</th>\n",
              "      <th>BeforePromo</th>\n",
              "      <th>SchoolHoliday_bw</th>\n",
              "      <th>StateHoliday_bw</th>\n",
              "      <th>Promo_bw</th>\n",
              "      <th>SchoolHoliday_fw</th>\n",
              "      <th>StateHoliday_fw</th>\n",
              "      <th>Promo_fw</th>\n",
              "    </tr>\n",
              "    <tr>\n",
              "      <th>Date</th>\n",
              "      <th></th>\n",
              "      <th></th>\n",
              "      <th></th>\n",
              "      <th></th>\n",
              "      <th></th>\n",
              "      <th></th>\n",
              "      <th></th>\n",
              "      <th></th>\n",
              "      <th></th>\n",
              "      <th></th>\n",
              "      <th></th>\n",
              "      <th></th>\n",
              "      <th></th>\n",
              "      <th></th>\n",
              "      <th></th>\n",
              "      <th></th>\n",
              "      <th></th>\n",
              "      <th></th>\n",
              "      <th></th>\n",
              "      <th></th>\n",
              "      <th></th>\n",
              "      <th></th>\n",
              "      <th></th>\n",
              "      <th></th>\n",
              "      <th></th>\n",
              "      <th></th>\n",
              "      <th></th>\n",
              "      <th></th>\n",
              "      <th></th>\n",
              "      <th></th>\n",
              "      <th></th>\n",
              "      <th></th>\n",
              "      <th></th>\n",
              "      <th></th>\n",
              "      <th></th>\n",
              "      <th></th>\n",
              "      <th></th>\n",
              "      <th></th>\n",
              "      <th></th>\n",
              "      <th></th>\n",
              "      <th></th>\n",
              "      <th></th>\n",
              "      <th></th>\n",
              "      <th></th>\n",
              "      <th></th>\n",
              "      <th></th>\n",
              "      <th></th>\n",
              "      <th></th>\n",
              "      <th></th>\n",
              "      <th></th>\n",
              "      <th></th>\n",
              "      <th></th>\n",
              "      <th></th>\n",
              "      <th></th>\n",
              "      <th></th>\n",
              "      <th></th>\n",
              "      <th></th>\n",
              "      <th></th>\n",
              "      <th></th>\n",
              "      <th></th>\n",
              "      <th></th>\n",
              "      <th></th>\n",
              "      <th></th>\n",
              "      <th></th>\n",
              "      <th></th>\n",
              "      <th></th>\n",
              "      <th></th>\n",
              "      <th></th>\n",
              "      <th></th>\n",
              "      <th></th>\n",
              "      <th></th>\n",
              "      <th></th>\n",
              "      <th></th>\n",
              "      <th></th>\n",
              "      <th></th>\n",
              "      <th></th>\n",
              "      <th></th>\n",
              "      <th></th>\n",
              "      <th></th>\n",
              "      <th></th>\n",
              "      <th></th>\n",
              "    </tr>\n",
              "  </thead>\n",
              "  <tbody>\n",
              "    <tr>\n",
              "      <th>2013-01-01</th>\n",
              "      <td>85</td>\n",
              "      <td>2</td>\n",
              "      <td>4220</td>\n",
              "      <td>619</td>\n",
              "      <td>1</td>\n",
              "      <td>0</td>\n",
              "      <td>True</td>\n",
              "      <td>1</td>\n",
              "      <td>2013</td>\n",
              "      <td>1</td>\n",
              "      <td>1</td>\n",
              "      <td>1</td>\n",
              "      <td>b</td>\n",
              "      <td>a</td>\n",
              "      <td>1870.0</td>\n",
              "      <td>10</td>\n",
              "      <td>2011</td>\n",
              "      <td>0</td>\n",
              "      <td>1</td>\n",
              "      <td>1900</td>\n",
              "      <td></td>\n",
              "      <td>BE</td>\n",
              "      <td>Rossmann_DE_BE</td>\n",
              "      <td>2013-01-06 - 2013-01-12</td>\n",
              "      <td>70</td>\n",
              "      <td>2013-01-06</td>\n",
              "      <td>1</td>\n",
              "      <td>6</td>\n",
              "      <td>Rossmann_DE</td>\n",
              "      <td>2013-01-06 - 2013-01-12</td>\n",
              "      <td>62</td>\n",
              "      <td>2013-01-06</td>\n",
              "      <td>NaN</td>\n",
              "      <td>1</td>\n",
              "      <td>6</td>\n",
              "      <td>Berlin</td>\n",
              "      <td>8</td>\n",
              "      <td>7</td>\n",
              "      <td>5</td>\n",
              "      <td>6</td>\n",
              "      <td>...</td>\n",
              "      <td>2</td>\n",
              "      <td>100</td>\n",
              "      <td>78</td>\n",
              "      <td>62</td>\n",
              "      <td>1009</td>\n",
              "      <td>1004</td>\n",
              "      <td>1003</td>\n",
              "      <td>31.0</td>\n",
              "      <td>14.0</td>\n",
              "      <td>10.0</td>\n",
              "      <td>26</td>\n",
              "      <td>18</td>\n",
              "      <td>NaN</td>\n",
              "      <td>0.76</td>\n",
              "      <td>6.0</td>\n",
              "      <td>Rain</td>\n",
              "      <td>216</td>\n",
              "      <td>Berlin</td>\n",
              "      <td>2013</td>\n",
              "      <td>1</td>\n",
              "      <td>1</td>\n",
              "      <td>1</td>\n",
              "      <td>2011-10-15</td>\n",
              "      <td>444</td>\n",
              "      <td>14</td>\n",
              "      <td>1900-01-01</td>\n",
              "      <td>0</td>\n",
              "      <td>0</td>\n",
              "      <td>0</td>\n",
              "      <td>0</td>\n",
              "      <td>0</td>\n",
              "      <td>0</td>\n",
              "      <td>0</td>\n",
              "      <td>-6</td>\n",
              "      <td>1</td>\n",
              "      <td>1</td>\n",
              "      <td>0</td>\n",
              "      <td>4</td>\n",
              "      <td>1</td>\n",
              "      <td>1</td>\n",
              "    </tr>\n",
              "    <tr>\n",
              "      <th>2013-01-01</th>\n",
              "      <td>259</td>\n",
              "      <td>2</td>\n",
              "      <td>6851</td>\n",
              "      <td>1444</td>\n",
              "      <td>1</td>\n",
              "      <td>0</td>\n",
              "      <td>True</td>\n",
              "      <td>1</td>\n",
              "      <td>2013</td>\n",
              "      <td>1</td>\n",
              "      <td>1</td>\n",
              "      <td>1</td>\n",
              "      <td>b</td>\n",
              "      <td>b</td>\n",
              "      <td>210.0</td>\n",
              "      <td>1</td>\n",
              "      <td>1900</td>\n",
              "      <td>0</td>\n",
              "      <td>1</td>\n",
              "      <td>1900</td>\n",
              "      <td></td>\n",
              "      <td>HE</td>\n",
              "      <td>Rossmann_DE_HE</td>\n",
              "      <td>2013-01-06 - 2013-01-12</td>\n",
              "      <td>73</td>\n",
              "      <td>2013-01-06</td>\n",
              "      <td>1</td>\n",
              "      <td>6</td>\n",
              "      <td>Rossmann_DE</td>\n",
              "      <td>2013-01-06 - 2013-01-12</td>\n",
              "      <td>62</td>\n",
              "      <td>2013-01-06</td>\n",
              "      <td>NaN</td>\n",
              "      <td>1</td>\n",
              "      <td>6</td>\n",
              "      <td>Hessen</td>\n",
              "      <td>8</td>\n",
              "      <td>6</td>\n",
              "      <td>3</td>\n",
              "      <td>6</td>\n",
              "      <td>...</td>\n",
              "      <td>1</td>\n",
              "      <td>93</td>\n",
              "      <td>80</td>\n",
              "      <td>59</td>\n",
              "      <td>1015</td>\n",
              "      <td>1008</td>\n",
              "      <td>1006</td>\n",
              "      <td>31.0</td>\n",
              "      <td>12.0</td>\n",
              "      <td>10.0</td>\n",
              "      <td>23</td>\n",
              "      <td>14</td>\n",
              "      <td>39.0</td>\n",
              "      <td>2.03</td>\n",
              "      <td>6.0</td>\n",
              "      <td>Rain</td>\n",
              "      <td>206</td>\n",
              "      <td>Hessen</td>\n",
              "      <td>2013</td>\n",
              "      <td>1</td>\n",
              "      <td>1</td>\n",
              "      <td>1</td>\n",
              "      <td>1900-01-15</td>\n",
              "      <td>0</td>\n",
              "      <td>0</td>\n",
              "      <td>1900-01-01</td>\n",
              "      <td>0</td>\n",
              "      <td>0</td>\n",
              "      <td>0</td>\n",
              "      <td>0</td>\n",
              "      <td>0</td>\n",
              "      <td>0</td>\n",
              "      <td>0</td>\n",
              "      <td>-6</td>\n",
              "      <td>1</td>\n",
              "      <td>1</td>\n",
              "      <td>0</td>\n",
              "      <td>7</td>\n",
              "      <td>1</td>\n",
              "      <td>1</td>\n",
              "    </tr>\n",
              "  </tbody>\n",
              "</table>\n",
              "<p>2 rows × 81 columns</p>\n",
              "</div>"
            ],
            "text/plain": [
              "           Store DayOfWeek  Sales  ...  SchoolHoliday_fw  StateHoliday_fw  Promo_fw\n",
              "Date                               ...                                             \n",
              "2013-01-01    85         2   4220  ...                 4                1         1\n",
              "2013-01-01   259         2   6851  ...                 7                1         1\n",
              "\n",
              "[2 rows x 81 columns]"
            ]
          },
          "metadata": {
            "tags": []
          },
          "execution_count": 27
        }
      ]
    },
    {
      "cell_type": "code",
      "metadata": {
        "id": "rMphwTQyeOw4"
      },
      "source": [
        "def cat_preproc(dat):\n",
        "  return cat_map_fit.transform(dat).astype(np.int64)"
      ],
      "execution_count": null,
      "outputs": []
    },
    {
      "cell_type": "code",
      "metadata": {
        "id": "_286RpAEec0J"
      },
      "source": [
        "cat_map_train = cat_preproc(joined_train)\n",
        "cat_map_valid = cat_preproc(joined_valid)\n",
        "#cat_map_test = cat_preproc(joined_test)\n"
      ],
      "execution_count": null,
      "outputs": []
    },
    {
      "cell_type": "code",
      "metadata": {
        "colab": {
          "base_uri": "https://localhost:8080/"
        },
        "id": "0_qWxCpvDFwp",
        "outputId": "ec294d4b-7dbc-4147-9dfa-2aa937251e77"
      },
      "source": [
        "joined_test.columns"
      ],
      "execution_count": null,
      "outputs": [
        {
          "output_type": "execute_result",
          "data": {
            "text/plain": [
              "Index(['Id', 'Store', 'DayOfWeek', 'Date', 'Open', 'Promo', 'StateHoliday',\n",
              "       'SchoolHoliday', 'Year', 'Month',\n",
              "       ...\n",
              "       'AfterStateHoliday_y.2', 'BeforeStateHoliday_y.2', 'AfterPromo_y.2',\n",
              "       'BeforePromo_y.2', 'SchoolHoliday_bw_y.2', 'StateHoliday_bw_y.2',\n",
              "       'Promo_bw_y.2', 'SchoolHoliday_fw_y.2', 'StateHoliday_fw_y.2',\n",
              "       'Promo_fw_y.2'],\n",
              "      dtype='object', length=153)"
            ]
          },
          "metadata": {
            "tags": []
          },
          "execution_count": 30
        }
      ]
    },
    {
      "cell_type": "code",
      "metadata": {
        "colab": {
          "base_uri": "https://localhost:8080/"
        },
        "id": "STFU2mE7tZpT",
        "outputId": "31e20030-9b37-44e8-beea-e4809276f585"
      },
      "source": [
        "joined_test.info()"
      ],
      "execution_count": null,
      "outputs": [
        {
          "output_type": "stream",
          "text": [
            "<class 'pandas.core.frame.DataFrame'>\n",
            "Int64Index: 41088 entries, 0 to 41087\n",
            "Columns: 153 entries, Id to Promo_fw_y.2\n",
            "dtypes: bool(1), datetime64[ns](1), float64(50), int64(85), object(16)\n",
            "memory usage: 48.0+ MB\n"
          ],
          "name": "stdout"
        }
      ]
    },
    {
      "cell_type": "code",
      "metadata": {
        "colab": {
          "base_uri": "https://localhost:8080/"
        },
        "id": "0Wz65zcIzS6K",
        "outputId": "a877819f-cd37-475e-ef58-ac981170981d"
      },
      "source": [
        "joined_test['Events'].unique()"
      ],
      "execution_count": null,
      "outputs": [
        {
          "output_type": "execute_result",
          "data": {
            "text/plain": [
              "array(['Rain', 'Fog-Rain-Thunderstorm', 'Rain-Thunderstorm', 'Fog-Rain',\n",
              "       'Fog', 'Fog-Rain-Hail-Thunderstorm', 'Thunderstorm'], dtype=object)"
            ]
          },
          "metadata": {
            "tags": []
          },
          "execution_count": 32
        }
      ]
    },
    {
      "cell_type": "code",
      "metadata": {
        "id": "5a2sMEXCCqOO"
      },
      "source": [
        "cat_map_test = cat_preproc(joined_test)\n"
      ],
      "execution_count": null,
      "outputs": []
    },
    {
      "cell_type": "code",
      "metadata": {
        "id": "-L2NaoTJerCf"
      },
      "source": [
        "def contin_preproc(dat):\n",
        "  return contin_map_fit.transform(dat).astype(np.float32)"
      ],
      "execution_count": null,
      "outputs": []
    },
    {
      "cell_type": "code",
      "metadata": {
        "id": "dY3wivUke4GJ"
      },
      "source": [
        "contin_map_train = contin_preproc(joined_train)\n",
        "contin_map_valid = contin_preproc(joined_valid)"
      ],
      "execution_count": null,
      "outputs": []
    },
    {
      "cell_type": "code",
      "metadata": {
        "id": "XtjKlHBb3Mcz"
      },
      "source": [
        "contin_map_test = contin_preproc(joined_test)"
      ],
      "execution_count": null,
      "outputs": []
    },
    {
      "cell_type": "code",
      "metadata": {
        "id": "DBjVfByhfAin"
      },
      "source": [
        "y_train_orig = joined_train.Sales\n",
        "y_valid_orig = joined_valid.Sales"
      ],
      "execution_count": null,
      "outputs": []
    },
    {
      "cell_type": "code",
      "metadata": {
        "id": "rixCHe6dfXiX"
      },
      "source": [
        "max_log_y = np.max(np.log(joined_samp.Sales))\n",
        "y_train = np.log(y_train_orig)/max_log_y\n",
        "y_valid = np.log(y_valid_orig)/max_log_y"
      ],
      "execution_count": null,
      "outputs": []
    },
    {
      "cell_type": "code",
      "metadata": {
        "id": "8yqJA1RnfuJM"
      },
      "source": [
        "def rmspe(y_pred, targ = y_valid_orig):\n",
        "  pct_var = (targ - y_pred)/targ\n",
        "  return math.sqrt(np.square(pct_var).mean())"
      ],
      "execution_count": null,
      "outputs": []
    },
    {
      "cell_type": "code",
      "metadata": {
        "id": "frDvnBtzgmp8"
      },
      "source": [
        "def log_max_inv(preds, mx = max_log_y):\n",
        "  return np.exp(preds * mx)"
      ],
      "execution_count": null,
      "outputs": []
    },
    {
      "cell_type": "code",
      "metadata": {
        "id": "Dt6YzJsOgzUL"
      },
      "source": [
        "def normalize_inv(preds):\n",
        "  return preds * ystd + ymean"
      ],
      "execution_count": null,
      "outputs": []
    },
    {
      "cell_type": "markdown",
      "metadata": {
        "id": "jBoafIlxg-0K"
      },
      "source": [
        "# Create Model"
      ]
    },
    {
      "cell_type": "code",
      "metadata": {
        "id": "C4kY42UumzAW"
      },
      "source": [
        "from tensorflow.keras.models import Model\n",
        "from tensorflow.keras.optimizers import Adam\n",
        "from tensorflow.keras.layers import Embedding, Input, Flatten, Dense, Concatenate, Dropout\n",
        "from tensorflow.keras import initializers"
      ],
      "execution_count": null,
      "outputs": []
    },
    {
      "cell_type": "code",
      "metadata": {
        "id": "nUocmZ4Qg8lv"
      },
      "source": [
        "def split_cols(arr): return np.hsplit(arr, arr.shape[1])"
      ],
      "execution_count": null,
      "outputs": []
    },
    {
      "cell_type": "code",
      "metadata": {
        "id": "VgkII2K6iNln"
      },
      "source": [
        "map_train = split_cols(cat_map_train) + [contin_map_train]\n",
        "map_valid = split_cols(cat_map_valid) + [contin_map_valid]"
      ],
      "execution_count": null,
      "outputs": []
    },
    {
      "cell_type": "code",
      "metadata": {
        "id": "uTXVnUBy3uqE"
      },
      "source": [
        "map_test = split_cols(cat_map_test) + [contin_map_test]"
      ],
      "execution_count": null,
      "outputs": []
    },
    {
      "cell_type": "code",
      "metadata": {
        "id": "jti40vkziZ1W"
      },
      "source": [
        "#map_train = split_cols(cat_map_train) + split_cols(contin_map_train)\n",
        "#map_valid = split_cols(cat_map_valid) + split_cols(contin_map_valid)"
      ],
      "execution_count": null,
      "outputs": []
    },
    {
      "cell_type": "code",
      "metadata": {
        "id": "xlD_hIIdinV1"
      },
      "source": [
        "def cat_map_info(feat): return feat[0], len(feat[1].classes_)"
      ],
      "execution_count": null,
      "outputs": []
    },
    {
      "cell_type": "code",
      "metadata": {
        "colab": {
          "base_uri": "https://localhost:8080/"
        },
        "id": "LZ_LEuqdi0Kp",
        "outputId": "b3f98526-e35d-4486-e956-3cbfba6a254e"
      },
      "source": [
        "cat_map_info(cat_map_fit.features[21])"
      ],
      "execution_count": null,
      "outputs": [
        {
          "output_type": "execute_result",
          "data": {
            "text/plain": [
              "('SchoolHoliday_bw', 8)"
            ]
          },
          "metadata": {
            "tags": []
          },
          "execution_count": 49
        }
      ]
    },
    {
      "cell_type": "code",
      "metadata": {
        "id": "TXzpI4Bii7lY"
      },
      "source": [
        "def my_init(scale):\n",
        "  return lambda shape, name=None: initializations.uniform(shape, scale)"
      ],
      "execution_count": null,
      "outputs": []
    },
    {
      "cell_type": "code",
      "metadata": {
        "id": "L22S6ViUjJgT"
      },
      "source": [
        "def emb_init(shape, dtype=None):\n",
        "    return keras.initializers.VarianceScaling(scale=2/(shape[1]+1), distribution=\"uniform\")"
      ],
      "execution_count": null,
      "outputs": []
    },
    {
      "cell_type": "code",
      "metadata": {
        "id": "geg-huFWjX-2"
      },
      "source": [
        "def get_emb(feat):\n",
        "  name, c = cat_map_info(feat)\n",
        "  #c2 = (c+1) // 2\n",
        "  #if c2 > 50: c2 = 50\n",
        "  c2 = cat_var_dict[name]\n",
        "  \n",
        "  inp = Input (shape=(1,), dtype='int64', name = name + '_in')\n",
        "\n",
        "  initializer = keras.initializers.VarianceScaling(scale=0.1, distribution='uniform')\n",
        "\n",
        "  u = Flatten(name = name + '_flt')(Embedding(c, c2, input_length=1, embeddings_initializer = initializer, name = name + '_emb')(inp))\n",
        "  return inp, u"
      ],
      "execution_count": null,
      "outputs": []
    },
    {
      "cell_type": "code",
      "metadata": {
        "id": "1iDBXIlJkJrV"
      },
      "source": [
        "def get_contin(feat):\n",
        "  name = feat[0][0]\n",
        "  inp = Input((1,), name=name+'_in')\n",
        "  return inp, Dense(1, name=name+'_d', kernel_initializer = my_init(1.))(inp)"
      ],
      "execution_count": null,
      "outputs": []
    },
    {
      "cell_type": "code",
      "metadata": {
        "id": "Qfs969l7korp"
      },
      "source": [
        "contin_inp = Input((contin_cols,), name='contin')\n",
        "contin_out = Dense(contin_cols*10, activation = 'relu', name='contin_d')(contin_inp)"
      ],
      "execution_count": null,
      "outputs": []
    },
    {
      "cell_type": "code",
      "metadata": {
        "id": "2d-92TL-lkhk"
      },
      "source": [
        "embs = [get_emb(feat) for feat in cat_map_fit.features]\n",
        "x = Concatenate()([emb for inp, emb in embs] + [contin_out])\n",
        "\n",
        "x = Dropout(0.02)(x)\n",
        "x = Dense(1000, activation = 'relu', kernel_initializer = 'uniform')(x)\n",
        "x = Dense(500, activation = 'relu', kernel_initializer = 'uniform')(x)\n",
        "x = Dropout(0.2)(x)\n",
        "x = Dense(1, activation = 'sigmoid')(x)\n",
        "\n",
        "model = Model([inp for inp,emb in embs] + [contin_inp], x)\n",
        "\n",
        "model.compile('adam', 'mean_absolute_error')"
      ],
      "execution_count": null,
      "outputs": []
    },
    {
      "cell_type": "code",
      "metadata": {
        "colab": {
          "base_uri": "https://localhost:8080/"
        },
        "id": "GmZVIZlIoE6j",
        "outputId": "ea080c3b-9559-4d88-ea33-a59d491f8b0a"
      },
      "source": [
        "model.summary()"
      ],
      "execution_count": null,
      "outputs": [
        {
          "output_type": "stream",
          "text": [
            "Model: \"model\"\n",
            "__________________________________________________________________________________________________\n",
            "Layer (type)                    Output Shape         Param #     Connected to                     \n",
            "==================================================================================================\n",
            "Store_in (InputLayer)           [(None, 1)]          0                                            \n",
            "__________________________________________________________________________________________________\n",
            "Day_in (InputLayer)             [(None, 1)]          0                                            \n",
            "__________________________________________________________________________________________________\n",
            "DayOfWeek_in (InputLayer)       [(None, 1)]          0                                            \n",
            "__________________________________________________________________________________________________\n",
            "Month_in (InputLayer)           [(None, 1)]          0                                            \n",
            "__________________________________________________________________________________________________\n",
            "State_in (InputLayer)           [(None, 1)]          0                                            \n",
            "__________________________________________________________________________________________________\n",
            "CompetitionOpenSinceYear_in (In [(None, 1)]          0                                            \n",
            "__________________________________________________________________________________________________\n",
            "Promo2SinceYear_in (InputLayer) [(None, 1)]          0                                            \n",
            "__________________________________________________________________________________________________\n",
            "Events_in (InputLayer)          [(None, 1)]          0                                            \n",
            "__________________________________________________________________________________________________\n",
            "StateHoliday_in (InputLayer)    [(None, 1)]          0                                            \n",
            "__________________________________________________________________________________________________\n",
            "Assortment_in (InputLayer)      [(None, 1)]          0                                            \n",
            "__________________________________________________________________________________________________\n",
            "PromoInterval_in (InputLayer)   [(None, 1)]          0                                            \n",
            "__________________________________________________________________________________________________\n",
            "Year_in (InputLayer)            [(None, 1)]          0                                            \n",
            "__________________________________________________________________________________________________\n",
            "CompetitionMonthsOpen_in (Input [(None, 1)]          0                                            \n",
            "__________________________________________________________________________________________________\n",
            "StoreType_in (InputLayer)       [(None, 1)]          0                                            \n",
            "__________________________________________________________________________________________________\n",
            "Week_in (InputLayer)            [(None, 1)]          0                                            \n",
            "__________________________________________________________________________________________________\n",
            "Promo2Weeks_in (InputLayer)     [(None, 1)]          0                                            \n",
            "__________________________________________________________________________________________________\n",
            "Promo_fw_in (InputLayer)        [(None, 1)]          0                                            \n",
            "__________________________________________________________________________________________________\n",
            "Promo_bw_in (InputLayer)        [(None, 1)]          0                                            \n",
            "__________________________________________________________________________________________________\n",
            "StateHoliday_fw_in (InputLayer) [(None, 1)]          0                                            \n",
            "__________________________________________________________________________________________________\n",
            "StateHoliday_bw_in (InputLayer) [(None, 1)]          0                                            \n",
            "__________________________________________________________________________________________________\n",
            "SchoolHoliday_fw_in (InputLayer [(None, 1)]          0                                            \n",
            "__________________________________________________________________________________________________\n",
            "SchoolHoliday_bw_in (InputLayer [(None, 1)]          0                                            \n",
            "__________________________________________________________________________________________________\n",
            "Store_emb (Embedding)           (None, 1, 50)        55750       Store_in[0][0]                   \n",
            "__________________________________________________________________________________________________\n",
            "Day_emb (Embedding)             (None, 1, 10)        310         Day_in[0][0]                     \n",
            "__________________________________________________________________________________________________\n",
            "DayOfWeek_emb (Embedding)       (None, 1, 6)         42          DayOfWeek_in[0][0]               \n",
            "__________________________________________________________________________________________________\n",
            "Month_emb (Embedding)           (None, 1, 6)         72          Month_in[0][0]                   \n",
            "__________________________________________________________________________________________________\n",
            "State_emb (Embedding)           (None, 1, 6)         72          State_in[0][0]                   \n",
            "__________________________________________________________________________________________________\n",
            "CompetitionOpenSinceYear_emb (E (None, 1, 4)         92          CompetitionOpenSinceYear_in[0][0]\n",
            "__________________________________________________________________________________________________\n",
            "Promo2SinceYear_emb (Embedding) (None, 1, 4)         32          Promo2SinceYear_in[0][0]         \n",
            "__________________________________________________________________________________________________\n",
            "Events_emb (Embedding)          (None, 1, 4)         88          Events_in[0][0]                  \n",
            "__________________________________________________________________________________________________\n",
            "StateHoliday_emb (Embedding)    (None, 1, 3)         6           StateHoliday_in[0][0]            \n",
            "__________________________________________________________________________________________________\n",
            "Assortment_emb (Embedding)      (None, 1, 3)         9           Assortment_in[0][0]              \n",
            "__________________________________________________________________________________________________\n",
            "PromoInterval_emb (Embedding)   (None, 1, 3)         12          PromoInterval_in[0][0]           \n",
            "__________________________________________________________________________________________________\n",
            "Year_emb (Embedding)            (None, 1, 2)         6           Year_in[0][0]                    \n",
            "__________________________________________________________________________________________________\n",
            "CompetitionMonthsOpen_emb (Embe (None, 1, 2)         50          CompetitionMonthsOpen_in[0][0]   \n",
            "__________________________________________________________________________________________________\n",
            "StoreType_emb (Embedding)       (None, 1, 2)         8           StoreType_in[0][0]               \n",
            "__________________________________________________________________________________________________\n",
            "Week_emb (Embedding)            (None, 1, 2)         104         Week_in[0][0]                    \n",
            "__________________________________________________________________________________________________\n",
            "Promo2Weeks_emb (Embedding)     (None, 1, 1)         26          Promo2Weeks_in[0][0]             \n",
            "__________________________________________________________________________________________________\n",
            "Promo_fw_emb (Embedding)        (None, 1, 1)         6           Promo_fw_in[0][0]                \n",
            "__________________________________________________________________________________________________\n",
            "Promo_bw_emb (Embedding)        (None, 1, 1)         6           Promo_bw_in[0][0]                \n",
            "__________________________________________________________________________________________________\n",
            "StateHoliday_fw_emb (Embedding) (None, 1, 1)         3           StateHoliday_fw_in[0][0]         \n",
            "__________________________________________________________________________________________________\n",
            "StateHoliday_bw_emb (Embedding) (None, 1, 1)         3           StateHoliday_bw_in[0][0]         \n",
            "__________________________________________________________________________________________________\n",
            "SchoolHoliday_fw_emb (Embedding (None, 1, 1)         8           SchoolHoliday_fw_in[0][0]        \n",
            "__________________________________________________________________________________________________\n",
            "SchoolHoliday_bw_emb (Embedding (None, 1, 1)         8           SchoolHoliday_bw_in[0][0]        \n",
            "__________________________________________________________________________________________________\n",
            "contin (InputLayer)             [(None, 16)]         0                                            \n",
            "__________________________________________________________________________________________________\n",
            "Store_flt (Flatten)             (None, 50)           0           Store_emb[0][0]                  \n",
            "__________________________________________________________________________________________________\n",
            "Day_flt (Flatten)               (None, 10)           0           Day_emb[0][0]                    \n",
            "__________________________________________________________________________________________________\n",
            "DayOfWeek_flt (Flatten)         (None, 6)            0           DayOfWeek_emb[0][0]              \n",
            "__________________________________________________________________________________________________\n",
            "Month_flt (Flatten)             (None, 6)            0           Month_emb[0][0]                  \n",
            "__________________________________________________________________________________________________\n",
            "State_flt (Flatten)             (None, 6)            0           State_emb[0][0]                  \n",
            "__________________________________________________________________________________________________\n",
            "CompetitionOpenSinceYear_flt (F (None, 4)            0           CompetitionOpenSinceYear_emb[0][0\n",
            "__________________________________________________________________________________________________\n",
            "Promo2SinceYear_flt (Flatten)   (None, 4)            0           Promo2SinceYear_emb[0][0]        \n",
            "__________________________________________________________________________________________________\n",
            "Events_flt (Flatten)            (None, 4)            0           Events_emb[0][0]                 \n",
            "__________________________________________________________________________________________________\n",
            "StateHoliday_flt (Flatten)      (None, 3)            0           StateHoliday_emb[0][0]           \n",
            "__________________________________________________________________________________________________\n",
            "Assortment_flt (Flatten)        (None, 3)            0           Assortment_emb[0][0]             \n",
            "__________________________________________________________________________________________________\n",
            "PromoInterval_flt (Flatten)     (None, 3)            0           PromoInterval_emb[0][0]          \n",
            "__________________________________________________________________________________________________\n",
            "Year_flt (Flatten)              (None, 2)            0           Year_emb[0][0]                   \n",
            "__________________________________________________________________________________________________\n",
            "CompetitionMonthsOpen_flt (Flat (None, 2)            0           CompetitionMonthsOpen_emb[0][0]  \n",
            "__________________________________________________________________________________________________\n",
            "StoreType_flt (Flatten)         (None, 2)            0           StoreType_emb[0][0]              \n",
            "__________________________________________________________________________________________________\n",
            "Week_flt (Flatten)              (None, 2)            0           Week_emb[0][0]                   \n",
            "__________________________________________________________________________________________________\n",
            "Promo2Weeks_flt (Flatten)       (None, 1)            0           Promo2Weeks_emb[0][0]            \n",
            "__________________________________________________________________________________________________\n",
            "Promo_fw_flt (Flatten)          (None, 1)            0           Promo_fw_emb[0][0]               \n",
            "__________________________________________________________________________________________________\n",
            "Promo_bw_flt (Flatten)          (None, 1)            0           Promo_bw_emb[0][0]               \n",
            "__________________________________________________________________________________________________\n",
            "StateHoliday_fw_flt (Flatten)   (None, 1)            0           StateHoliday_fw_emb[0][0]        \n",
            "__________________________________________________________________________________________________\n",
            "StateHoliday_bw_flt (Flatten)   (None, 1)            0           StateHoliday_bw_emb[0][0]        \n",
            "__________________________________________________________________________________________________\n",
            "SchoolHoliday_fw_flt (Flatten)  (None, 1)            0           SchoolHoliday_fw_emb[0][0]       \n",
            "__________________________________________________________________________________________________\n",
            "SchoolHoliday_bw_flt (Flatten)  (None, 1)            0           SchoolHoliday_bw_emb[0][0]       \n",
            "__________________________________________________________________________________________________\n",
            "contin_d (Dense)                (None, 160)          2720        contin[0][0]                     \n",
            "__________________________________________________________________________________________________\n",
            "concatenate (Concatenate)       (None, 274)          0           Store_flt[0][0]                  \n",
            "                                                                 Day_flt[0][0]                    \n",
            "                                                                 DayOfWeek_flt[0][0]              \n",
            "                                                                 Month_flt[0][0]                  \n",
            "                                                                 State_flt[0][0]                  \n",
            "                                                                 CompetitionOpenSinceYear_flt[0][0\n",
            "                                                                 Promo2SinceYear_flt[0][0]        \n",
            "                                                                 Events_flt[0][0]                 \n",
            "                                                                 StateHoliday_flt[0][0]           \n",
            "                                                                 Assortment_flt[0][0]             \n",
            "                                                                 PromoInterval_flt[0][0]          \n",
            "                                                                 Year_flt[0][0]                   \n",
            "                                                                 CompetitionMonthsOpen_flt[0][0]  \n",
            "                                                                 StoreType_flt[0][0]              \n",
            "                                                                 Week_flt[0][0]                   \n",
            "                                                                 Promo2Weeks_flt[0][0]            \n",
            "                                                                 Promo_fw_flt[0][0]               \n",
            "                                                                 Promo_bw_flt[0][0]               \n",
            "                                                                 StateHoliday_fw_flt[0][0]        \n",
            "                                                                 StateHoliday_bw_flt[0][0]        \n",
            "                                                                 SchoolHoliday_fw_flt[0][0]       \n",
            "                                                                 SchoolHoliday_bw_flt[0][0]       \n",
            "                                                                 contin_d[0][0]                   \n",
            "__________________________________________________________________________________________________\n",
            "dropout (Dropout)               (None, 274)          0           concatenate[0][0]                \n",
            "__________________________________________________________________________________________________\n",
            "dense (Dense)                   (None, 1000)         275000      dropout[0][0]                    \n",
            "__________________________________________________________________________________________________\n",
            "dense_1 (Dense)                 (None, 500)          500500      dense[0][0]                      \n",
            "__________________________________________________________________________________________________\n",
            "dropout_1 (Dropout)             (None, 500)          0           dense_1[0][0]                    \n",
            "__________________________________________________________________________________________________\n",
            "dense_2 (Dense)                 (None, 1)            501         dropout_1[0][0]                  \n",
            "==================================================================================================\n",
            "Total params: 835,434\n",
            "Trainable params: 835,434\n",
            "Non-trainable params: 0\n",
            "__________________________________________________________________________________________________\n"
          ],
          "name": "stdout"
        }
      ]
    },
    {
      "cell_type": "markdown",
      "metadata": {
        "id": "83JeRD8-zF1S"
      },
      "source": [
        "# Train the Model"
      ]
    },
    {
      "cell_type": "code",
      "metadata": {
        "id": "m69-uedQeD9a"
      },
      "source": [
        "callback = keras.callbacks.EarlyStopping(monitor='loss', patience=4)"
      ],
      "execution_count": null,
      "outputs": []
    },
    {
      "cell_type": "code",
      "metadata": {
        "colab": {
          "base_uri": "https://localhost:8080/"
        },
        "id": "On_OkHbEyzbh",
        "outputId": "66068436-2bdc-49fc-ffd0-406421c9fef7"
      },
      "source": [
        "hist = model.fit(map_train, y_train, batch_size=512, epochs=30, validation_data=(map_valid, y_valid), callbacks=[callback])"
      ],
      "execution_count": null,
      "outputs": [
        {
          "output_type": "stream",
          "text": [
            "Epoch 1/30\n",
            "1650/1650 [==============================] - 25s 13ms/step - loss: 0.0056 - val_loss: 0.0029\n",
            "Epoch 2/30\n",
            "1650/1650 [==============================] - 21s 13ms/step - loss: 0.0056 - val_loss: 0.0034\n",
            "Epoch 3/30\n",
            "1650/1650 [==============================] - 22s 13ms/step - loss: 0.0056 - val_loss: 0.0046\n",
            "Epoch 4/30\n",
            "1650/1650 [==============================] - 21s 13ms/step - loss: 0.0055 - val_loss: 0.0035\n",
            "Epoch 5/30\n",
            "1650/1650 [==============================] - 22s 13ms/step - loss: 0.0055 - val_loss: 0.0039\n",
            "Epoch 6/30\n",
            "1650/1650 [==============================] - 22s 13ms/step - loss: 0.0055 - val_loss: 0.0036\n",
            "Epoch 7/30\n",
            "1650/1650 [==============================] - 22s 13ms/step - loss: 0.0055 - val_loss: 0.0041\n",
            "Epoch 8/30\n",
            "1650/1650 [==============================] - 22s 13ms/step - loss: 0.0055 - val_loss: 0.0039\n",
            "Epoch 9/30\n",
            "1650/1650 [==============================] - 22s 13ms/step - loss: 0.0055 - val_loss: 0.0035\n",
            "Epoch 10/30\n",
            "1650/1650 [==============================] - 22s 13ms/step - loss: 0.0055 - val_loss: 0.0031\n",
            "Epoch 11/30\n",
            "1650/1650 [==============================] - 21s 13ms/step - loss: 0.0055 - val_loss: 0.0042\n",
            "Epoch 12/30\n",
            "1650/1650 [==============================] - 21s 13ms/step - loss: 0.0055 - val_loss: 0.0041\n",
            "Epoch 13/30\n",
            "1650/1650 [==============================] - 22s 13ms/step - loss: 0.0055 - val_loss: 0.0038\n",
            "Epoch 14/30\n",
            "1650/1650 [==============================] - 22s 13ms/step - loss: 0.0055 - val_loss: 0.0038\n",
            "Epoch 15/30\n",
            "1650/1650 [==============================] - 21s 13ms/step - loss: 0.0055 - val_loss: 0.0053\n",
            "Epoch 16/30\n",
            "1650/1650 [==============================] - 22s 13ms/step - loss: 0.0054 - val_loss: 0.0033\n",
            "Epoch 17/30\n",
            "1650/1650 [==============================] - 22s 13ms/step - loss: 0.0054 - val_loss: 0.0047\n",
            "Epoch 18/30\n",
            "1650/1650 [==============================] - 22s 13ms/step - loss: 0.0054 - val_loss: 0.0043\n",
            "Epoch 19/30\n",
            "1650/1650 [==============================] - 22s 13ms/step - loss: 0.0054 - val_loss: 0.0042\n",
            "Epoch 20/30\n",
            "1650/1650 [==============================] - 22s 13ms/step - loss: 0.0054 - val_loss: 0.0043\n",
            "Epoch 21/30\n",
            "1650/1650 [==============================] - 22s 13ms/step - loss: 0.0054 - val_loss: 0.0035\n",
            "Epoch 22/30\n",
            "1650/1650 [==============================] - 22s 13ms/step - loss: 0.0054 - val_loss: 0.0048\n",
            "Epoch 23/30\n",
            "1650/1650 [==============================] - 22s 13ms/step - loss: 0.0054 - val_loss: 0.0053\n",
            "Epoch 24/30\n",
            "1650/1650 [==============================] - 22s 13ms/step - loss: 0.0054 - val_loss: 0.0057\n",
            "Epoch 25/30\n",
            "1650/1650 [==============================] - 22s 13ms/step - loss: 0.0054 - val_loss: 0.0045\n",
            "Epoch 26/30\n",
            "1650/1650 [==============================] - 22s 13ms/step - loss: 0.0054 - val_loss: 0.0054\n",
            "Epoch 27/30\n",
            "1650/1650 [==============================] - 22s 13ms/step - loss: 0.0054 - val_loss: 0.0047\n",
            "Epoch 28/30\n",
            "1650/1650 [==============================] - 22s 13ms/step - loss: 0.0054 - val_loss: 0.0048\n",
            "Epoch 29/30\n",
            "1650/1650 [==============================] - 21s 13ms/step - loss: 0.0054 - val_loss: 0.0036\n",
            "Epoch 30/30\n",
            "1650/1650 [==============================] - 22s 13ms/step - loss: 0.0054 - val_loss: 0.0045\n"
          ],
          "name": "stdout"
        }
      ]
    },
    {
      "cell_type": "code",
      "metadata": {
        "colab": {
          "base_uri": "https://localhost:8080/"
        },
        "id": "6P5iqyiGzYUu",
        "outputId": "d6b7db8f-19a7-40bb-c291-f5f51c2a0777"
      },
      "source": [
        "model.save(\"Rossmann-GE\")"
      ],
      "execution_count": null,
      "outputs": [
        {
          "output_type": "stream",
          "text": [
            "INFO:tensorflow:Assets written to: Rossmann-GE/assets\n"
          ],
          "name": "stdout"
        }
      ]
    },
    {
      "cell_type": "code",
      "metadata": {
        "id": "2-XahAHTRpUe"
      },
      "source": [
        "model = keras.models.load_model(\"Rossmann-GE\")"
      ],
      "execution_count": null,
      "outputs": []
    },
    {
      "cell_type": "code",
      "metadata": {
        "colab": {
          "base_uri": "https://localhost:8080/"
        },
        "id": "iakbEhTtLNRH",
        "outputId": "7447bba5-69d0-4764-d066-b5eeb48a8745"
      },
      "source": [
        "y_pred_norm = model.predict(map_valid, verbose=1)"
      ],
      "execution_count": null,
      "outputs": [
        {
          "output_type": "stream",
          "text": [
            "1/1 [==============================] - 0s 236ms/step\n"
          ],
          "name": "stdout"
        }
      ]
    },
    {
      "cell_type": "code",
      "metadata": {
        "id": "l5bKZ8yfNpGw"
      },
      "source": [
        "y_pred = np.exp(y_pred_norm * max_log_y)\n",
        "y_pred = y_pred[:,0]"
      ],
      "execution_count": null,
      "outputs": []
    },
    {
      "cell_type": "code",
      "metadata": {
        "colab": {
          "base_uri": "https://localhost:8080/"
        },
        "id": "vrr7n5lnlZN9",
        "outputId": "677bc8e6-232f-4ad8-9e8a-fc3f3e47e55b"
      },
      "source": [
        "y_pred"
      ],
      "execution_count": null,
      "outputs": [
        {
          "output_type": "execute_result",
          "data": {
            "text/plain": [
              "array([ 9060.202 , 10422.909 ,  4960.1987,  9160.044 ,  8953.417 ,\n",
              "        8370.867 , 10485.92  , 10901.489 ,  5442.478 ], dtype=float32)"
            ]
          },
          "metadata": {
            "tags": []
          },
          "execution_count": 80
        }
      ]
    },
    {
      "cell_type": "code",
      "metadata": {
        "colab": {
          "base_uri": "https://localhost:8080/"
        },
        "id": "kE0sFX8WVVFy",
        "outputId": "e7ad952c-c482-4314-dfcc-1018126a36ae"
      },
      "source": [
        "e_rmspe = rmspe(y_pred, y_valid_orig)\n",
        "print(e_rmspe)"
      ],
      "execution_count": null,
      "outputs": [
        {
          "output_type": "stream",
          "text": [
            "0.05569440869250527\n"
          ],
          "name": "stdout"
        }
      ]
    },
    {
      "cell_type": "code",
      "metadata": {
        "colab": {
          "base_uri": "https://localhost:8080/"
        },
        "id": "lXAwl7xrky2z",
        "outputId": "b270667d-7556-4dff-bc73-a97f51e41f63"
      },
      "source": [
        "y_pred_test_norm = model.predict(map_test, verbose=1)"
      ],
      "execution_count": null,
      "outputs": [
        {
          "output_type": "stream",
          "text": [
            "1284/1284 [==============================] - 7s 5ms/step\n"
          ],
          "name": "stdout"
        }
      ]
    },
    {
      "cell_type": "code",
      "metadata": {
        "id": "60g1xOzY3-3p"
      },
      "source": [
        "y_pred_test = np.exp(y_pred_test_norm * max_log_y)\n",
        "y_pred_test = y_pred_test[:,0]"
      ],
      "execution_count": null,
      "outputs": []
    },
    {
      "cell_type": "code",
      "metadata": {
        "colab": {
          "base_uri": "https://localhost:8080/"
        },
        "id": "t-ar4z0g6MDq",
        "outputId": "67e401f1-415a-47df-99ab-efefb8db2726"
      },
      "source": [
        "y_pred_test"
      ],
      "execution_count": null,
      "outputs": [
        {
          "output_type": "execute_result",
          "data": {
            "text/plain": [
              "array([ 4312.6694,  7083.7764,  8581.291 , ...,  6671.3228, 23580.924 ,\n",
              "       10617.571 ], dtype=float32)"
            ]
          },
          "metadata": {
            "tags": []
          },
          "execution_count": 84
        }
      ]
    },
    {
      "cell_type": "markdown",
      "metadata": {
        "id": "sJUuAzjZSSwg"
      },
      "source": [
        "# Sumbit a la competición"
      ]
    },
    {
      "cell_type": "code",
      "metadata": {
        "id": "X1dk8qRGSSwg"
      },
      "source": [
        "sample_csv = pd.read_csv('dataset/rossmann/sample_submission.csv')\n",
        "sample_csv['Sales'] = y_pred_test\n",
        "sample_csv.head()\n",
        "\n",
        "sample_csv.to_csv(f'submission_MLP_video.csv', index=False)"
      ],
      "execution_count": null,
      "outputs": []
    },
    {
      "cell_type": "code",
      "metadata": {
        "id": "5wC72ns2YOO2"
      },
      "source": [
        ""
      ],
      "execution_count": null,
      "outputs": []
    },
    {
      "cell_type": "markdown",
      "metadata": {
        "id": "wi6cC-Nfk8so"
      },
      "source": [
        "# Arbol\n"
      ]
    },
    {
      "cell_type": "code",
      "metadata": {
        "id": "nf8VwoFKWQmY"
      },
      "source": [
        "X_train = np.concatenate([cat_map_train, contin_map_train], axis=1)\n"
      ],
      "execution_count": null,
      "outputs": []
    },
    {
      "cell_type": "code",
      "metadata": {
        "id": "eioCcKULliNj"
      },
      "source": [
        "X_valid = np.concatenate([cat_map_valid, contin_map_valid], axis=1)"
      ],
      "execution_count": null,
      "outputs": []
    },
    {
      "cell_type": "code",
      "metadata": {
        "id": "ShM2b3uF7YNb"
      },
      "source": [
        "X_test = np.concatenate([cat_map_test, contin_map_test], axis = 1)"
      ],
      "execution_count": null,
      "outputs": []
    },
    {
      "cell_type": "code",
      "metadata": {
        "id": "OW4INznklpLT"
      },
      "source": [
        "all_vars = cat_vars + contin_vars"
      ],
      "execution_count": null,
      "outputs": []
    },
    {
      "cell_type": "code",
      "metadata": {
        "id": "DltwwsfWlt9K"
      },
      "source": [
        "xgb_params = {'learning_rate': 0.25, 'subsample': 0.8, 'colsample_bylevel': 0.8, 'silent': False, \n",
        "              'objective': 'reg:squarederror', \"early_stopping_rounds\":100, \n",
        "            'verbose': 100,}"
      ],
      "execution_count": null,
      "outputs": []
    },
    {
      "cell_type": "code",
      "metadata": {
        "id": "1_HgiV9dl9Xs"
      },
      "source": [
        "xdata = xgboost.DMatrix(X_train, y_train, feature_names=all_vars)"
      ],
      "execution_count": null,
      "outputs": []
    },
    {
      "cell_type": "code",
      "metadata": {
        "id": "_wWCml3ImHwa"
      },
      "source": [
        "xdata_val = xgboost.DMatrix(X_valid, y_valid, feature_names=all_vars)"
      ],
      "execution_count": null,
      "outputs": []
    },
    {
      "cell_type": "code",
      "metadata": {
        "id": "Ruvb4l927nXt"
      },
      "source": [
        "xdata_test = xgboost.DMatrix(X_test, feature_names=all_vars)"
      ],
      "execution_count": null,
      "outputs": []
    },
    {
      "cell_type": "code",
      "metadata": {
        "id": "VbO3RmLbmPy5"
      },
      "source": [
        "xgb_params['seed'] = random.randint(0, 1e9)\n",
        "model_xg = xgboost.train(xgb_params, xdata)"
      ],
      "execution_count": null,
      "outputs": []
    },
    {
      "cell_type": "code",
      "metadata": {
        "colab": {
          "base_uri": "https://localhost:8080/",
          "height": 35
        },
        "id": "cF5rLIE4mkDn",
        "outputId": "f522fc92-0057-49af-f305-39458481a9da"
      },
      "source": [
        "model_xg.eval(xdata_val)"
      ],
      "execution_count": null,
      "outputs": [
        {
          "output_type": "execute_result",
          "data": {
            "application/vnd.google.colaboratory.intrinsic+json": {
              "type": "string"
            },
            "text/plain": [
              "'[0]\\teval-rmse:0.033742'"
            ]
          },
          "metadata": {
            "tags": []
          },
          "execution_count": 92
        }
      ]
    },
    {
      "cell_type": "code",
      "metadata": {
        "colab": {
          "base_uri": "https://localhost:8080/",
          "height": 638
        },
        "id": "Np8pJrbbm52f",
        "outputId": "0c16330e-5b7a-4590-e337-4d0f12d9b2c4"
      },
      "source": [
        "importance = model_xg.get_fscore()\n",
        "importante = sorted(importance.items(), key=operator.itemgetter(1))\n",
        "\n",
        "df = pd.DataFrame(importante, columns=['feature', 'fscore'])\n",
        "df['fscore'] = df['fscore']/df['fscore'].sum()\n",
        "\n",
        "df.plot(kind = 'barh', x='feature', y='fscore', legend=False, figsize=(6,10))\n",
        "plt.title('XGBoost Feature Importante')\n",
        "plt.xlabel('Relative Importance')"
      ],
      "execution_count": null,
      "outputs": [
        {
          "output_type": "execute_result",
          "data": {
            "text/plain": [
              "Text(0.5, 0, 'Relative Importance')"
            ]
          },
          "metadata": {
            "tags": []
          },
          "execution_count": 93
        },
        {
          "output_type": "display_data",
          "data": {
            "image/png": "[encoded data removed]",
            "text/plain": [
              "<Figure size 432x720 with 1 Axes>"
            ]
          },
          "metadata": {
            "tags": [],
            "needs_background": "light"
          }
        }
      ]
    },
    {
      "cell_type": "code",
      "metadata": {
        "id": "0C4mGELOnCO-"
      },
      "source": [
        "y_pred_train_log = model_xg.predict(xdata)\n",
        "y_pred_val_log = model_xg.predict(xdata_val)\n",
        "y_pred_test_log = model_xg.predict(xdata_test)"
      ],
      "execution_count": null,
      "outputs": []
    },
    {
      "cell_type": "code",
      "metadata": {
        "id": "RFom92oeudd-"
      },
      "source": [
        "y_pred_train = np.exp(y_pred_train_log*max_log_y)\n",
        "y_pred_val = np.exp(y_pred_val_log*max_log_y)\n",
        "y_pred_test = np.exp(y_pred_test_log*max_log_y)\n"
      ],
      "execution_count": null,
      "outputs": []
    },
    {
      "cell_type": "code",
      "metadata": {
        "id": "tFp1qLbOpl2i"
      },
      "source": [
        "rmspe_train_log = rmspe(y_pred_train_log, y_train)\n",
        "rmspe_val_log = rmspe(y_pred_val_log, y_valid)\n"
      ],
      "execution_count": null,
      "outputs": []
    },
    {
      "cell_type": "code",
      "metadata": {
        "id": "uylHQgf_ZzL_"
      },
      "source": [
        "rmspe_train = rmspe(y_pred_train, y_train_orig)\n",
        "rmspe_val = rmspe(y_pred_val, y_valid_orig)"
      ],
      "execution_count": null,
      "outputs": []
    },
    {
      "cell_type": "code",
      "metadata": {
        "colab": {
          "base_uri": "https://localhost:8080/"
        },
        "id": "6g2tr_DoszgN",
        "outputId": "778ffc8a-cae2-4f85-d497-014b576f73f3"
      },
      "source": [
        "print(rmspe_train, rmspe_val)"
      ],
      "execution_count": null,
      "outputs": [
        {
          "output_type": "stream",
          "text": [
            "0.33624730130357033 0.29856457098741135\n"
          ],
          "name": "stdout"
        }
      ]
    },
    {
      "cell_type": "code",
      "metadata": {
        "colab": {
          "base_uri": "https://localhost:8080/"
        },
        "id": "3VUPaGRlZ608",
        "outputId": "95516e85-bc16-43e5-9628-c074227390e9"
      },
      "source": [
        "print(rmspe_train_log, rmspe_val_log)"
      ],
      "execution_count": null,
      "outputs": [
        {
          "output_type": "stream",
          "text": [
            "0.04138541372778145 0.039077205277532445\n"
          ],
          "name": "stdout"
        }
      ]
    },
    {
      "cell_type": "code",
      "metadata": {
        "colab": {
          "base_uri": "https://localhost:8080/"
        },
        "id": "82GeaAFwt5ic",
        "outputId": "b36177bb-e1e5-4b96-c8af-c9a693e75b22"
      },
      "source": [
        "y_pred_val[1:5]"
      ],
      "execution_count": null,
      "outputs": [
        {
          "output_type": "execute_result",
          "data": {
            "text/plain": [
              "array([7009.492 , 6131.8066, 5921.641 , 6393.583 ], dtype=float32)"
            ]
          },
          "metadata": {
            "tags": []
          },
          "execution_count": 100
        }
      ]
    },
    {
      "cell_type": "code",
      "metadata": {
        "colab": {
          "base_uri": "https://localhost:8080/"
        },
        "id": "3PsGd5hzt9Pg",
        "outputId": "bb53af43-42cb-4460-bbae-120e4a7413f6"
      },
      "source": [
        "y_valid_orig[1:5]"
      ],
      "execution_count": null,
      "outputs": [
        {
          "output_type": "execute_result",
          "data": {
            "text/plain": [
              "Date\n",
              "2015-07-31    10460\n",
              "2015-07-31     5085\n",
              "2015-07-31     8663\n",
              "2015-07-31     8363\n",
              "Name: Sales, dtype: int64"
            ]
          },
          "metadata": {
            "tags": []
          },
          "execution_count": 101
        }
      ]
    },
    {
      "cell_type": "code",
      "metadata": {
        "colab": {
          "base_uri": "https://localhost:8080/"
        },
        "id": "UdvhnkB88NuI",
        "outputId": "1528e36c-6263-46bb-fb7e-7fbb46c3bede"
      },
      "source": [
        "y_pred_test"
      ],
      "execution_count": null,
      "outputs": [
        {
          "output_type": "execute_result",
          "data": {
            "text/plain": [
              "array([ 5913.1475,  6176.2524,  6666.025 , ...,  4969.3887, 11547.521 ,\n",
              "        5867.8423], dtype=float32)"
            ]
          },
          "metadata": {
            "tags": []
          },
          "execution_count": 107
        }
      ]
    },
    {
      "cell_type": "code",
      "metadata": {
        "id": "n12rbPzAoV94"
      },
      "source": [
        "sample_csv = pd.read_csv('dataset/rossmann/sample_submission.csv')\n",
        "sample_csv['Sales'] = y_pred_test\n",
        "sample_csv.head()\n",
        "\n",
        "sample_csv.to_csv(f'submission_MLP_video_arbol.csv', index=False)"
      ],
      "execution_count": null,
      "outputs": []
    },
    {
      "cell_type": "code",
      "metadata": {
        "id": "3JXFhUQ-8QD8"
      },
      "source": [
        ""
      ],
      "execution_count": null,
      "outputs": []
    },
    {
      "cell_type": "markdown",
      "metadata": {
        "id": "Zgtm9WfS80kY"
      },
      "source": [
        "# LightGBM"
      ]
    },
    {
      "cell_type": "code",
      "metadata": {
        "id": "r5oyeBy8SSwe"
      },
      "source": [
        "from lightgbm import LGBMRegressor"
      ],
      "execution_count": null,
      "outputs": []
    },
    {
      "cell_type": "code",
      "metadata": {
        "colab": {
          "base_uri": "https://localhost:8080/"
        },
        "id": "AnAMlzdQSSwe",
        "outputId": "736b7b30-ed89-4fd7-f2ca-2ad0f4ffbb48"
      },
      "source": [
        "X_train.shape, X_valid.shape"
      ],
      "execution_count": null,
      "outputs": [
        {
          "output_type": "execute_result",
          "data": {
            "text/plain": [
              "((844329, 38), (9, 38))"
            ]
          },
          "metadata": {
            "tags": []
          },
          "execution_count": 110
        }
      ]
    },
    {
      "cell_type": "code",
      "metadata": {
        "id": "-dvYyKMKSSwf"
      },
      "source": [
        "min_child_samples=5 #5\n",
        "n_estimators=4000 #4000\n",
        "learning_rate=0.05 #0.05\n",
        "model_LGBM = LGBMRegressor(min_child_samples=min_child_samples, n_estimators=n_estimators, learning_rate=learning_rate )"
      ],
      "execution_count": null,
      "outputs": []
    },
    {
      "cell_type": "code",
      "metadata": {
        "colab": {
          "base_uri": "https://localhost:8080/"
        },
        "id": "HC-pBA7Y91NP",
        "outputId": "2964faaa-36c2-42a7-a095-8b03f1e14869"
      },
      "source": [
        "cat_vars"
      ],
      "execution_count": null,
      "outputs": [
        {
          "output_type": "execute_result",
          "data": {
            "text/plain": [
              "['Store',\n",
              " 'Day',\n",
              " 'DayOfWeek',\n",
              " 'Month',\n",
              " 'State',\n",
              " 'CompetitionOpenSinceYear',\n",
              " 'Promo2SinceYear',\n",
              " 'Events',\n",
              " 'StateHoliday',\n",
              " 'Assortment',\n",
              " 'PromoInterval',\n",
              " 'Year',\n",
              " 'CompetitionMonthsOpen',\n",
              " 'StoreType',\n",
              " 'Week',\n",
              " 'Promo2Weeks',\n",
              " 'Promo_fw',\n",
              " 'Promo_bw',\n",
              " 'StateHoliday_fw',\n",
              " 'StateHoliday_bw',\n",
              " 'SchoolHoliday_fw',\n",
              " 'SchoolHoliday_bw']"
            ]
          },
          "metadata": {
            "tags": []
          },
          "execution_count": 121
        }
      ]
    },
    {
      "cell_type": "code",
      "metadata": {
        "id": "tkvqv-cJSSwf"
      },
      "source": [
        "fit_params={\"early_stopping_rounds\":100, #100\n",
        "            \"eval_metric\" : 'l2', \n",
        "            \"eval_set\" : [(X_valid, y_valid)],\n",
        "            'eval_names': ['valid'],\n",
        "            'verbose': 100,\n",
        "            'feature_name': 'auto', # that's actually the default\n",
        "            'categorical_feature':  'auto'\n",
        "           }"
      ],
      "execution_count": null,
      "outputs": []
    },
    {
      "cell_type": "code",
      "metadata": {
        "colab": {
          "base_uri": "https://localhost:8080/"
        },
        "id": "9H8uxKcZSSwf",
        "outputId": "da6fff0a-17c3-4fb9-e4b6-826b7cffd1d7"
      },
      "source": [
        "model_LGBM.fit(X_train, y_train, **fit_params)"
      ],
      "execution_count": null,
      "outputs": [
        {
          "output_type": "stream",
          "text": [
            "Training until validation scores don't improve for 100 rounds.\n",
            "[100]\tvalid's l2: 0.000484339\tvalid's l2: 0.000484339\n",
            "[200]\tvalid's l2: 0.00029341\tvalid's l2: 0.00029341\n",
            "[300]\tvalid's l2: 0.000217589\tvalid's l2: 0.000217589\n",
            "[400]\tvalid's l2: 0.000187271\tvalid's l2: 0.000187271\n",
            "[500]\tvalid's l2: 0.000143644\tvalid's l2: 0.000143644\n",
            "[600]\tvalid's l2: 0.000134007\tvalid's l2: 0.000134007\n",
            "[700]\tvalid's l2: 0.000121592\tvalid's l2: 0.000121592\n",
            "[800]\tvalid's l2: 0.000110953\tvalid's l2: 0.000110953\n",
            "[900]\tvalid's l2: 0.000101463\tvalid's l2: 0.000101463\n",
            "[1000]\tvalid's l2: 9.48043e-05\tvalid's l2: 9.48043e-05\n",
            "[1100]\tvalid's l2: 8.5862e-05\tvalid's l2: 8.5862e-05\n",
            "[1200]\tvalid's l2: 7.9751e-05\tvalid's l2: 7.9751e-05\n",
            "[1300]\tvalid's l2: 7.70951e-05\tvalid's l2: 7.70951e-05\n",
            "[1400]\tvalid's l2: 6.9683e-05\tvalid's l2: 6.9683e-05\n",
            "[1500]\tvalid's l2: 7.03386e-05\tvalid's l2: 7.03386e-05\n",
            "Early stopping, best iteration is:\n",
            "[1409]\tvalid's l2: 6.91858e-05\tvalid's l2: 6.91858e-05\n"
          ],
          "name": "stdout"
        },
        {
          "output_type": "execute_result",
          "data": {
            "text/plain": [
              "LGBMRegressor(boosting_type='gbdt', class_weight=None, colsample_bytree=1.0,\n",
              "              importance_type='split', learning_rate=0.05, max_depth=-1,\n",
              "              min_child_samples=5, min_child_weight=0.001, min_split_gain=0.0,\n",
              "              n_estimators=4000, n_jobs=-1, num_leaves=31, objective=None,\n",
              "              random_state=None, reg_alpha=0.0, reg_lambda=0.0, silent=True,\n",
              "              subsample=1.0, subsample_for_bin=200000, subsample_freq=0)"
            ]
          },
          "metadata": {
            "tags": []
          },
          "execution_count": 123
        }
      ]
    },
    {
      "cell_type": "markdown",
      "metadata": {
        "id": "KHVQaxHLSSwf"
      },
      "source": [
        "$$\n",
        "\\textrm{RMSE} = \\sqrt{\\frac{1}{n} \\sum_{i=1}^{n} \\left(\\frac{\\hat{y}_i - y_i}{y_i}\\right)^2}\n",
        "$$"
      ]
    },
    {
      "cell_type": "code",
      "metadata": {
        "colab": {
          "base_uri": "https://localhost:8080/"
        },
        "id": "t1WxT7P2SSwf",
        "outputId": "2509182f-86be-4c51-e1be-21243f7580bc"
      },
      "source": [
        "model_LGBM.score(X_valid, y_valid)"
      ],
      "execution_count": null,
      "outputs": [
        {
          "output_type": "execute_result",
          "data": {
            "text/plain": [
              "0.8998216132220473"
            ]
          },
          "metadata": {
            "tags": []
          },
          "execution_count": 127
        }
      ]
    },
    {
      "cell_type": "code",
      "metadata": {
        "id": "KO0XUHiX-qku"
      },
      "source": [
        ""
      ],
      "execution_count": null,
      "outputs": []
    },
    {
      "cell_type": "code",
      "metadata": {
        "id": "2wZkV170-q32"
      },
      "source": [
        "y_pred_train_log = model_LGBM.predict(X_train)\n",
        "y_pred_val_log = model_LGBM.predict(X_valid)\n",
        "y_pred_test_log = model_LGBM.predict(X_test)"
      ],
      "execution_count": null,
      "outputs": []
    },
    {
      "cell_type": "code",
      "metadata": {
        "id": "Cdh-Qru--q32"
      },
      "source": [
        "y_pred_train = np.exp(y_pred_train_log*max_log_y)\n",
        "y_pred_val = np.exp(y_pred_val_log*max_log_y)\n",
        "y_pred_test = np.exp(y_pred_test_log*max_log_y)\n"
      ],
      "execution_count": null,
      "outputs": []
    },
    {
      "cell_type": "code",
      "metadata": {
        "id": "sjXbLyAa-q32"
      },
      "source": [
        "rmspe_train_log = rmspe(y_pred_train_log, y_train)\n",
        "rmspe_val_log = rmspe(y_pred_val_log, y_valid)\n"
      ],
      "execution_count": null,
      "outputs": []
    },
    {
      "cell_type": "code",
      "metadata": {
        "id": "Ai6DLXiC-q32"
      },
      "source": [
        "rmspe_train = rmspe(y_pred_train, y_train_orig)\n",
        "rmspe_val = rmspe(y_pred_val, y_valid_orig)"
      ],
      "execution_count": null,
      "outputs": []
    },
    {
      "cell_type": "code",
      "metadata": {
        "colab": {
          "base_uri": "https://localhost:8080/"
        },
        "id": "TZGVaBsm-q32",
        "outputId": "59eb670c-1488-4aec-9c7a-76a25122b51e"
      },
      "source": [
        "print(rmspe_train, rmspe_val)"
      ],
      "execution_count": null,
      "outputs": [
        {
          "output_type": "stream",
          "text": [
            "0.1526127823922954 0.08628992539966568\n"
          ],
          "name": "stdout"
        }
      ]
    },
    {
      "cell_type": "code",
      "metadata": {
        "colab": {
          "base_uri": "https://localhost:8080/"
        },
        "id": "3VTfcLA2-q33",
        "outputId": "cf3f7863-aa47-4b1a-e6a3-51a53dd7212e"
      },
      "source": [
        "print(rmspe_train_log, rmspe_val_log)"
      ],
      "execution_count": null,
      "outputs": [
        {
          "output_type": "stream",
          "text": [
            "0.014228995414058246 0.009692888585364864\n"
          ],
          "name": "stdout"
        }
      ]
    },
    {
      "cell_type": "code",
      "metadata": {
        "colab": {
          "base_uri": "https://localhost:8080/"
        },
        "id": "-N70iTj--q33",
        "outputId": "1763b45b-5a03-47de-a326-ff7044569f96"
      },
      "source": [
        "y_pred_val[1:5]"
      ],
      "execution_count": null,
      "outputs": [
        {
          "output_type": "execute_result",
          "data": {
            "text/plain": [
              "array([10031.68313029,  5346.4009109 ,  8812.52600171,  9460.15518427])"
            ]
          },
          "metadata": {
            "tags": []
          },
          "execution_count": 135
        }
      ]
    },
    {
      "cell_type": "code",
      "metadata": {
        "colab": {
          "base_uri": "https://localhost:8080/"
        },
        "id": "VaaZjSiQ-q33",
        "outputId": "ea0f736a-0d50-45a1-8278-421471764525"
      },
      "source": [
        "y_valid_orig[1:5]"
      ],
      "execution_count": null,
      "outputs": [
        {
          "output_type": "execute_result",
          "data": {
            "text/plain": [
              "Date\n",
              "2015-07-31    10460\n",
              "2015-07-31     5085\n",
              "2015-07-31     8663\n",
              "2015-07-31     8363\n",
              "Name: Sales, dtype: int64"
            ]
          },
          "metadata": {
            "tags": []
          },
          "execution_count": 136
        }
      ]
    },
    {
      "cell_type": "code",
      "metadata": {
        "colab": {
          "base_uri": "https://localhost:8080/"
        },
        "id": "qCu_bk9z-q33",
        "outputId": "7567f7d1-0a5b-4a1f-8c4b-d4c322d2fc07"
      },
      "source": [
        "y_pred_test"
      ],
      "execution_count": null,
      "outputs": [
        {
          "output_type": "execute_result",
          "data": {
            "text/plain": [
              "array([ 6273.23529535,  6455.57113474,  6697.14088615, ...,\n",
              "        5514.06651029, 25445.37989332,  6620.10346525])"
            ]
          },
          "metadata": {
            "tags": []
          },
          "execution_count": 137
        }
      ]
    },
    {
      "cell_type": "code",
      "metadata": {
        "id": "o3qZVleB-q33"
      },
      "source": [
        "sample_csv = pd.read_csv('dataset/rossmann/sample_submission.csv')\n",
        "sample_csv['Sales'] = y_pred_test\n",
        "sample_csv.head()\n",
        "\n",
        "sample_csv.to_csv(f'submission_MLP_video_arbolLGBM.csv', index=False)"
      ],
      "execution_count": null,
      "outputs": []
    },
    {
      "cell_type": "code",
      "metadata": {
        "id": "VX3fBaOZ-q34"
      },
      "source": [
        ""
      ],
      "execution_count": null,
      "outputs": []
    }
  ]
}